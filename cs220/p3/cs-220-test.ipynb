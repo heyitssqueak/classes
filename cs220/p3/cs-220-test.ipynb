{
 "cells": [
  {
   "cell_type": "code",
   "execution_count": 1,
   "id": "9371e17f",
   "metadata": {
    "execution": {
     "iopub.execute_input": "2022-06-24T03:20:16.309465Z",
     "iopub.status.busy": "2022-06-24T03:20:16.308922Z",
     "iopub.status.idle": "2022-06-24T03:20:16.324129Z",
     "shell.execute_reply": "2022-06-24T03:20:16.323751Z"
    }
   },
   "outputs": [
    {
     "data": {
      "text/plain": [
       "9"
      ]
     },
     "execution_count": 1,
     "metadata": {},
     "output_type": "execute_result"
    }
   ],
   "source": [
    "#q1\n",
    "import project\n",
    "project.init(\"madison.csv\")\n",
    "project.get_id(\"library\")"
   ]
  },
  {
   "cell_type": "code",
   "execution_count": 2,
   "id": "f0a5ab03",
   "metadata": {
    "execution": {
     "iopub.execute_input": "2022-06-24T03:20:16.326941Z",
     "iopub.status.busy": "2022-06-24T03:20:16.326758Z",
     "iopub.status.idle": "2022-06-24T03:20:16.329836Z",
     "shell.execute_reply": "2022-06-24T03:20:16.329446Z"
    }
   },
   "outputs": [
    {
     "data": {
      "text/plain": [
       "77.87553504"
      ]
     },
     "execution_count": 2,
     "metadata": {},
     "output_type": "execute_result"
    }
   ],
   "source": [
    "#q2\n",
    "project.get_spending(5, 2018)"
   ]
  },
  {
   "cell_type": "code",
   "execution_count": 3,
   "id": "f5e84688",
   "metadata": {
    "execution": {
     "iopub.execute_input": "2022-06-24T03:20:16.332026Z",
     "iopub.status.busy": "2022-06-24T03:20:16.331896Z",
     "iopub.status.idle": "2022-06-24T03:20:16.334987Z",
     "shell.execute_reply": "2022-06-24T03:20:16.334660Z"
    }
   },
   "outputs": [
    {
     "data": {
      "text/plain": [
       "28.2286218"
      ]
     },
     "execution_count": 3,
     "metadata": {},
     "output_type": "execute_result"
    }
   ],
   "source": [
    "#q3\n",
    "streets_id = project.get_id(\"streets\")\n",
    "project.get_spending(streets_id, 2016)"
   ]
  },
  {
   "cell_type": "code",
   "execution_count": 4,
   "id": "593a9a34",
   "metadata": {
    "execution": {
     "iopub.execute_input": "2022-06-24T03:20:16.337058Z",
     "iopub.status.busy": "2022-06-24T03:20:16.336905Z",
     "iopub.status.idle": "2022-06-24T03:20:16.339944Z",
     "shell.execute_reply": "2022-06-24T03:20:16.339665Z"
    }
   },
   "outputs": [],
   "source": [
    "def year_max(year):\n",
    "    # grab the spending by each agency in the given year\n",
    "    police_spending = project.get_spending(project.get_id(\"police\"), year)\n",
    "    fire_spending = project.get_spending(project.get_id(\"fire\"), year)\n",
    "    library_spending = project.get_spending(project.get_id(\"library\"), year)\n",
    "    parks_spending = project.get_spending(project.get_id(\"parks\"), year)\n",
    "    streets_spending = project.get_spending(project.get_id(\"streets\"), year)\n",
    "\n",
    "    # use builtin max function to get the largest of the five values\n",
    "    return max(police_spending, fire_spending, library_spending, parks_spending, streets_spending)"
   ]
  },
  {
   "cell_type": "code",
   "execution_count": 5,
   "id": "b55b7506",
   "metadata": {
    "execution": {
     "iopub.execute_input": "2022-06-24T03:20:16.341855Z",
     "iopub.status.busy": "2022-06-24T03:20:16.341742Z",
     "iopub.status.idle": "2022-06-24T03:20:16.344215Z",
     "shell.execute_reply": "2022-06-24T03:20:16.343920Z"
    }
   },
   "outputs": [
    {
     "data": {
      "text/plain": [
       "73.24794765999998"
      ]
     },
     "execution_count": 5,
     "metadata": {},
     "output_type": "execute_result"
    }
   ],
   "source": [
    "#q4\n",
    "year_max(2017)"
   ]
  },
  {
   "cell_type": "code",
   "execution_count": 6,
   "id": "4e10ccf7",
   "metadata": {
    "execution": {
     "iopub.execute_input": "2022-06-24T03:20:16.345954Z",
     "iopub.status.busy": "2022-06-24T03:20:16.345851Z",
     "iopub.status.idle": "2022-06-24T03:20:16.348154Z",
     "shell.execute_reply": "2022-06-24T03:20:16.347877Z"
    }
   },
   "outputs": [
    {
     "data": {
      "text/plain": [
       "77.87553504"
      ]
     },
     "execution_count": 6,
     "metadata": {},
     "output_type": "execute_result"
    }
   ],
   "source": [
    "#q5\n",
    "year_max(2018)"
   ]
  },
  {
   "cell_type": "code",
   "execution_count": 7,
   "id": "a805b142",
   "metadata": {
    "execution": {
     "iopub.execute_input": "2022-06-24T03:20:16.349808Z",
     "iopub.status.busy": "2022-06-24T03:20:16.349694Z",
     "iopub.status.idle": "2022-06-24T03:20:16.351957Z",
     "shell.execute_reply": "2022-06-24T03:20:16.351677Z"
    }
   },
   "outputs": [],
   "source": [
    "def agency_min(agency):\n",
    "    agency_id = project.get_id(agency)\n",
    "    y15 = project.get_spending(agency_id, 2015)\n",
    "    y16 = project.get_spending(agency_id, 2016)\n",
    "    # grab the other years\n",
    "    y17 = project.get_spending(agency_id, 2017)\n",
    "    y18 = project.get_spending(agency_id, 2018)\n",
    "\n",
    "    # use the min function (similar to the max function)\n",
    "    # to get the minimum across the four years, and return\n",
    "    # that value\n",
    "    return min(y15, y16, y17, y18)"
   ]
  },
  {
   "cell_type": "code",
   "execution_count": 8,
   "id": "8d145c85",
   "metadata": {
    "execution": {
     "iopub.execute_input": "2022-06-24T03:20:16.353693Z",
     "iopub.status.busy": "2022-06-24T03:20:16.353556Z",
     "iopub.status.idle": "2022-06-24T03:20:16.355784Z",
     "shell.execute_reply": "2022-06-24T03:20:16.355529Z"
    }
   },
   "outputs": [
    {
     "data": {
      "text/plain": [
       "49.73757877"
      ]
     },
     "execution_count": 8,
     "metadata": {},
     "output_type": "execute_result"
    }
   ],
   "source": [
    "#q6\n",
    "agency_min(\"fire\")"
   ]
  },
  {
   "cell_type": "code",
   "execution_count": 9,
   "id": "92febeb1",
   "metadata": {
    "execution": {
     "iopub.execute_input": "2022-06-24T03:20:16.357391Z",
     "iopub.status.busy": "2022-06-24T03:20:16.357273Z",
     "iopub.status.idle": "2022-06-24T03:20:16.359349Z",
     "shell.execute_reply": "2022-06-24T03:20:16.359088Z"
    }
   },
   "outputs": [
    {
     "data": {
      "text/plain": [
       "16.96543425"
      ]
     },
     "execution_count": 9,
     "metadata": {},
     "output_type": "execute_result"
    }
   ],
   "source": [
    "#q7\n",
    "agency_min(\"library\")"
   ]
  },
  {
   "cell_type": "code",
   "execution_count": 10,
   "id": "951d09e8",
   "metadata": {
    "execution": {
     "iopub.execute_input": "2022-06-24T03:20:16.360976Z",
     "iopub.status.busy": "2022-06-24T03:20:16.360868Z",
     "iopub.status.idle": "2022-06-24T03:20:16.362892Z",
     "shell.execute_reply": "2022-06-24T03:20:16.362635Z"
    }
   },
   "outputs": [
    {
     "data": {
      "text/plain": [
       "18.371421039999998"
      ]
     },
     "execution_count": 10,
     "metadata": {},
     "output_type": "execute_result"
    }
   ],
   "source": [
    "#q8\n",
    "agency_min(\"parks\")"
   ]
  },
  {
   "cell_type": "code",
   "execution_count": 11,
   "id": "a5ac34f0",
   "metadata": {
    "execution": {
     "iopub.execute_input": "2022-06-24T03:20:16.364414Z",
     "iopub.status.busy": "2022-06-24T03:20:16.364308Z",
     "iopub.status.idle": "2022-06-24T03:20:16.366490Z",
     "shell.execute_reply": "2022-06-24T03:20:16.366229Z"
    }
   },
   "outputs": [],
   "source": [
    "def agency_avg(agency):\n",
    "    agency_id = project.get_id(agency)\n",
    "    y15 = project.get_spending(agency_id, 2015)\n",
    "    y16 = project.get_spending(agency_id, 2016)\n",
    "    y17 = project.get_spending(agency_id, 2017)\n",
    "    y18 = project.get_spending(agency_id, 2018)\n",
    "\n",
    "    return (y15+y16+y17+y18)/4"
   ]
  },
  {
   "cell_type": "code",
   "execution_count": 12,
   "id": "9267794c",
   "metadata": {
    "execution": {
     "iopub.execute_input": "2022-06-24T03:20:16.368020Z",
     "iopub.status.busy": "2022-06-24T03:20:16.367918Z",
     "iopub.status.idle": "2022-06-24T03:20:16.369982Z",
     "shell.execute_reply": "2022-06-24T03:20:16.369716Z"
    }
   },
   "outputs": [
    {
     "data": {
      "text/plain": [
       "27.013047475"
      ]
     },
     "execution_count": 12,
     "metadata": {},
     "output_type": "execute_result"
    }
   ],
   "source": [
    "#q9\n",
    "agency_avg(\"streets\")"
   ]
  },
  {
   "cell_type": "code",
   "execution_count": 13,
   "id": "4f29c7c0",
   "metadata": {
    "execution": {
     "iopub.execute_input": "2022-06-24T03:20:16.371414Z",
     "iopub.status.busy": "2022-06-24T03:20:16.371315Z",
     "iopub.status.idle": "2022-06-24T03:20:16.373226Z",
     "shell.execute_reply": "2022-06-24T03:20:16.372970Z"
    }
   },
   "outputs": [
    {
     "data": {
      "text/plain": [
       "19.152052834999996"
      ]
     },
     "execution_count": 13,
     "metadata": {},
     "output_type": "execute_result"
    }
   ],
   "source": [
    "#q10\n",
    "agency_avg(\"parks\")"
   ]
  },
  {
   "cell_type": "code",
   "execution_count": 14,
   "id": "ae46071e",
   "metadata": {
    "execution": {
     "iopub.execute_input": "2022-06-24T03:20:16.374706Z",
     "iopub.status.busy": "2022-06-24T03:20:16.374606Z",
     "iopub.status.idle": "2022-06-24T03:20:16.376734Z",
     "shell.execute_reply": "2022-06-24T03:20:16.376516Z"
    }
   },
   "outputs": [
    {
     "data": {
      "text/plain": [
       "7.22496193435191"
      ]
     },
     "execution_count": 14,
     "metadata": {},
     "output_type": "execute_result"
    }
   ],
   "source": [
    "#q11\n",
    "project.get_spending(project.get_id(\"police\"), 2018) / agency_avg(\"police\") * 100 - 100"
   ]
  },
  {
   "cell_type": "code",
   "execution_count": 15,
   "id": "a3a6c52d",
   "metadata": {
    "execution": {
     "iopub.execute_input": "2022-06-24T03:20:16.378261Z",
     "iopub.status.busy": "2022-06-24T03:20:16.378160Z",
     "iopub.status.idle": "2022-06-24T03:20:16.380080Z",
     "shell.execute_reply": "2022-06-24T03:20:16.379858Z"
    }
   },
   "outputs": [],
   "source": [
    "def change_per_year(agency, start_year=2015, end_year=2018):\n",
    "    agency_id = project.get_id(agency)\n",
    "    start = project.get_spending(agency_id, start_year)\n",
    "    end = project.get_spending(agency_id, end_year)\n",
    "    \n",
    "    return (end-start)/(end_year-start_year)"
   ]
  },
  {
   "cell_type": "code",
   "execution_count": 16,
   "id": "bfa64343",
   "metadata": {
    "execution": {
     "iopub.execute_input": "2022-06-24T03:20:16.381473Z",
     "iopub.status.busy": "2022-06-24T03:20:16.381374Z",
     "iopub.status.idle": "2022-06-24T03:20:16.383311Z",
     "shell.execute_reply": "2022-06-24T03:20:16.383078Z"
    }
   },
   "outputs": [
    {
     "data": {
      "text/plain": [
       "0.4630963200000006"
      ]
     },
     "execution_count": 16,
     "metadata": {},
     "output_type": "execute_result"
    }
   ],
   "source": [
    "#q12\n",
    "change_per_year(\"parks\")"
   ]
  },
  {
   "cell_type": "code",
   "execution_count": 17,
   "id": "8ab504fe",
   "metadata": {
    "execution": {
     "iopub.execute_input": "2022-06-24T03:20:16.384683Z",
     "iopub.status.busy": "2022-06-24T03:20:16.384587Z",
     "iopub.status.idle": "2022-06-24T03:20:16.386484Z",
     "shell.execute_reply": "2022-06-24T03:20:16.386255Z"
    }
   },
   "outputs": [
    {
     "data": {
      "text/plain": [
       "1.1431793200000087"
      ]
     },
     "execution_count": 17,
     "metadata": {},
     "output_type": "execute_result"
    }
   ],
   "source": [
    "#q13\n",
    "change_per_year(\"streets\", 2017)"
   ]
  },
  {
   "cell_type": "code",
   "execution_count": 18,
   "id": "162e1938",
   "metadata": {
    "execution": {
     "iopub.execute_input": "2022-06-24T03:20:16.387926Z",
     "iopub.status.busy": "2022-06-24T03:20:16.387833Z",
     "iopub.status.idle": "2022-06-24T03:20:16.389828Z",
     "shell.execute_reply": "2022-06-24T03:20:16.389599Z"
    }
   },
   "outputs": [
    {
     "data": {
      "text/plain": [
       "-0.2148440299999983"
      ]
     },
     "execution_count": 18,
     "metadata": {},
     "output_type": "execute_result"
    }
   ],
   "source": [
    "#q14\n",
    "change_per_year(\"streets\", 2016, 2018)"
   ]
  },
  {
   "cell_type": "code",
   "execution_count": 19,
   "id": "b23f365b",
   "metadata": {
    "execution": {
     "iopub.execute_input": "2022-06-24T03:20:16.391192Z",
     "iopub.status.busy": "2022-06-24T03:20:16.391102Z",
     "iopub.status.idle": "2022-06-24T03:20:16.392925Z",
     "shell.execute_reply": "2022-06-24T03:20:16.392707Z"
    }
   },
   "outputs": [],
   "source": [
    "def extrapolate(agency, year1, year2, year3):\n",
    "    ch = change_per_year(agency, year1, year2)\n",
    "    #print(ch)\n",
    "    return project.get_spending(project.get_id(agency), year2) + (ch*(year3-year2))"
   ]
  },
  {
   "cell_type": "code",
   "execution_count": 20,
   "id": "422d0544",
   "metadata": {
    "execution": {
     "iopub.execute_input": "2022-06-24T03:20:16.394335Z",
     "iopub.status.busy": "2022-06-24T03:20:16.394234Z",
     "iopub.status.idle": "2022-06-24T03:20:16.396168Z",
     "shell.execute_reply": "2022-06-24T03:20:16.395944Z"
    }
   },
   "outputs": [
    {
     "data": {
      "text/plain": [
       "20.80494298333333"
      ]
     },
     "execution_count": 20,
     "metadata": {},
     "output_type": "execute_result"
    }
   ],
   "source": [
    "#q15\n",
    "extrapolate(\"library\", 2015, 2018, 2019)"
   ]
  },
  {
   "cell_type": "code",
   "execution_count": 21,
   "id": "0d0e098a",
   "metadata": {
    "execution": {
     "iopub.execute_input": "2022-06-24T03:20:16.397689Z",
     "iopub.status.busy": "2022-06-24T03:20:16.397585Z",
     "iopub.status.idle": "2022-06-24T03:20:16.399657Z",
     "shell.execute_reply": "2022-06-24T03:20:16.399402Z"
    }
   },
   "outputs": [
    {
     "data": {
      "text/plain": [
       "98.55499483333321"
      ]
     },
     "execution_count": 21,
     "metadata": {},
     "output_type": "execute_result"
    }
   ],
   "source": [
    "#q16\n",
    "extrapolate(\"library\", 2015, 2018, 2100)"
   ]
  },
  {
   "cell_type": "code",
   "execution_count": 22,
   "id": "9c312270",
   "metadata": {
    "execution": {
     "iopub.execute_input": "2022-06-24T03:20:16.401244Z",
     "iopub.status.busy": "2022-06-24T03:20:16.401133Z",
     "iopub.status.idle": "2022-06-24T03:20:16.403031Z",
     "shell.execute_reply": "2022-06-24T03:20:16.402813Z"
    }
   },
   "outputs": [
    {
     "data": {
      "text/plain": [
       "90.3463866099999"
      ]
     },
     "execution_count": 22,
     "metadata": {},
     "output_type": "execute_result"
    }
   ],
   "source": [
    "#q17\n",
    "extrapolate(\"library\", 2016, 2018, 2100)"
   ]
  },
  {
   "cell_type": "code",
   "execution_count": 23,
   "id": "7361431c",
   "metadata": {
    "execution": {
     "iopub.execute_input": "2022-06-24T03:20:16.404364Z",
     "iopub.status.busy": "2022-06-24T03:20:16.404272Z",
     "iopub.status.idle": "2022-06-24T03:20:16.406022Z",
     "shell.execute_reply": "2022-06-24T03:20:16.405811Z"
    }
   },
   "outputs": [],
   "source": [
    "def extrapolate_error(agency, start_year, end_year, comp_year):\n",
    "    ex = extrapolate(agency, start_year, end_year, comp_year)\n",
    "    return ex - project.get_spending(project.get_id(agency), comp_year)"
   ]
  },
  {
   "cell_type": "code",
   "execution_count": 24,
   "id": "f0ea625e",
   "metadata": {
    "execution": {
     "iopub.execute_input": "2022-06-24T03:20:16.407450Z",
     "iopub.status.busy": "2022-06-24T03:20:16.407350Z",
     "iopub.status.idle": "2022-06-24T03:20:16.409402Z",
     "shell.execute_reply": "2022-06-24T03:20:16.409189Z"
    }
   },
   "outputs": [
    {
     "data": {
      "text/plain": [
       "-2.0353479350000327"
      ]
     },
     "execution_count": 24,
     "metadata": {},
     "output_type": "execute_result"
    }
   ],
   "source": [
    "#q18\n",
    "extrapolate_error(\"police\", 2015, 2017, 2018)"
   ]
  },
  {
   "cell_type": "code",
   "execution_count": 25,
   "id": "14640a80",
   "metadata": {
    "execution": {
     "iopub.execute_input": "2022-06-24T03:20:16.410962Z",
     "iopub.status.busy": "2022-06-24T03:20:16.410859Z",
     "iopub.status.idle": "2022-06-24T03:20:16.413125Z",
     "shell.execute_reply": "2022-06-24T03:20:16.412877Z"
    }
   },
   "outputs": [
    {
     "data": {
      "text/plain": [
       "22.12017136165159"
      ]
     },
     "execution_count": 25,
     "metadata": {},
     "output_type": "execute_result"
    }
   ],
   "source": [
    "#q19\n",
    "ex = extrapolate_error(\"streets\", 2015, 2016, 2018)\n",
    "ex*100/(project.get_spending(streets_id))"
   ]
  },
  {
   "cell_type": "code",
   "execution_count": 26,
   "id": "bf3ca7a8",
   "metadata": {
    "execution": {
     "iopub.execute_input": "2022-06-24T03:20:16.414612Z",
     "iopub.status.busy": "2022-06-24T03:20:16.414511Z",
     "iopub.status.idle": "2022-06-24T03:20:16.417285Z",
     "shell.execute_reply": "2022-06-24T03:20:16.417061Z"
    }
   },
   "outputs": [
    {
     "data": {
      "text/plain": [
       "1.0848913984858986"
      ]
     },
     "execution_count": 26,
     "metadata": {},
     "output_type": "execute_result"
    }
   ],
   "source": [
    "#q20\n",
    "avg = agency_avg(\"library\")\n",
    "agency_id = project.get_id(\"library\")\n",
    "\n",
    "y15_dev = (project.get_spending(agency_id, 2015) - avg) ** 2\n",
    "y16_dev = (project.get_spending(agency_id, 2016) - avg) ** 2\n",
    "y17_dev = (project.get_spending(agency_id, 2017) - avg) ** 2\n",
    "y18_dev = (project.get_spending(agency_id, 2018) - avg) ** 2\n",
    "\n",
    "from math import sqrt\n",
    "\n",
    "sqrt((y15_dev + y16_dev + y17_dev + y18_dev) / 4)"
   ]
  }
 ],
 "metadata": {
  "kernelspec": {
   "display_name": "Python 3 (ipykernel)",
   "language": "python",
   "name": "python3"
  },
  "language_info": {
   "codemirror_mode": {
    "name": "ipython",
    "version": 3
   },
   "file_extension": ".py",
   "mimetype": "text/x-python",
   "name": "python",
   "nbconvert_exporter": "python",
   "pygments_lexer": "ipython3",
   "version": "3.9.13"
  }
 },
 "nbformat": 4,
 "nbformat_minor": 5
}
