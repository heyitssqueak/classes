{
 "cells": [
  {
   "cell_type": "code",
   "execution_count": 1,
   "id": "e5d43264",
   "metadata": {},
   "outputs": [],
   "source": [
    "def cell(row_idx, col_name):\n",
    "    col_idx = csv_header.index(col_name)\n",
    "    val = wine[row_idx][col_idx]\n",
    "    if val == \"\":\n",
    "        return None\n",
    "    # optional: convert types based on column name?\n",
    "    if col_name == \"points\":\n",
    "        return int(val)\n",
    "    if col_name == \"price\":\n",
    "        return float(val)\n",
    "    return val"
   ]
  },
  {
   "cell_type": "code",
   "execution_count": 2,
   "id": "767edfd4",
   "metadata": {},
   "outputs": [],
   "source": [
    "import csv\n",
    "\n",
    "# copied from https://automatetheboringstuff.com/chapter14/\n",
    "def process_csv(filename):\n",
    "    exampleFile = open(filename, encoding=\"utf-8\")\n",
    "    exampleReader = csv.reader(exampleFile)\n",
    "    exampleData = list(exampleReader)\n",
    "    exampleFile.close()\n",
    "    return exampleData\n",
    "\n",
    "# use process_csv to pull out the header and data rows\n",
    "csv_rows = process_csv(\"wine.csv\")\n",
    "csv_header = csv_rows[0]\n",
    "csv_data = csv_rows[1:] "
   ]
  },
  {
   "cell_type": "code",
   "execution_count": 3,
   "id": "1f0023f4",
   "metadata": {},
   "outputs": [
    {
     "data": {
      "text/plain": [
       "['Greece',\n",
       " 'Slovenia',\n",
       " 'Portugal',\n",
       " 'Austria',\n",
       " 'Hungary',\n",
       " 'Italy',\n",
       " 'Bulgaria',\n",
       " 'New Zealand',\n",
       " 'Israel',\n",
       " 'Australia',\n",
       " 'Argentina',\n",
       " 'Croatia',\n",
       " 'South Africa',\n",
       " 'Germany',\n",
       " 'US',\n",
       " 'Moldova',\n",
       " 'Morocco',\n",
       " 'India',\n",
       " 'France',\n",
       " 'Romania',\n",
       " 'Chile',\n",
       " 'Canada',\n",
       " 'Spain']"
      ]
     },
     "execution_count": 3,
     "metadata": {},
     "output_type": "execute_result"
    }
   ],
   "source": [
    "#q1\n",
    "wine = process_csv(\"wine.csv\")\n",
    "countries = []\n",
    "\n",
    "for i in range(1, len(wine)):\n",
    "    if cell(i, \"country\") != None:\n",
    "        countries.append(wine[i][0])\n",
    "    \n",
    "list(set(countries))"
   ]
  },
  {
   "cell_type": "code",
   "execution_count": 4,
   "id": "e6f9cd05",
   "metadata": {},
   "outputs": [
    {
     "data": {
      "text/plain": [
       "39.40787623066104"
      ]
     },
     "execution_count": 4,
     "metadata": {},
     "output_type": "execute_result"
    }
   ],
   "source": [
    "#q2\n",
    "total_price = 0\n",
    "total_wines = 0\n",
    "\n",
    "for i in range(1, len(wine)):\n",
    "    if cell(i, \"price\") != None:\n",
    "        total_wines += 1\n",
    "        total_price += cell(i, \"price\")\n",
    "        \n",
    "total_price / total_wines"
   ]
  },
  {
   "cell_type": "code",
   "execution_count": 5,
   "id": "57e7356f",
   "metadata": {},
   "outputs": [
    {
     "data": {
      "text/plain": [
       "['Felton Road', 'Kumeu River', 'Spy Valley']"
      ]
     },
     "execution_count": 5,
     "metadata": {},
     "output_type": "execute_result"
    }
   ],
   "source": [
    "#q3\n",
    "wineries = []\n",
    "\n",
    "for i in range(1, len(wine)):\n",
    "    if cell(i, \"country\") == \"New Zealand\":\n",
    "        wineries.append(cell(i, \"winery\"))\n",
    "        \n",
    "list(set(wineries))"
   ]
  },
  {
   "cell_type": "code",
   "execution_count": 6,
   "id": "0cf48db6",
   "metadata": {},
   "outputs": [
    {
     "data": {
      "text/plain": [
       "['Rosé',\n",
       " 'Lemberger',\n",
       " 'Cabernet Franc',\n",
       " 'Sangiovese',\n",
       " 'Merlot',\n",
       " 'Nebbiolo',\n",
       " 'Aglianico',\n",
       " 'Meritage',\n",
       " 'Pinot Noir',\n",
       " 'Bordeaux-style Red Blend',\n",
       " 'Blaufränkisch',\n",
       " 'Cabernet Sauvignon',\n",
       " 'Zinfandel']"
      ]
     },
     "execution_count": 6,
     "metadata": {},
     "output_type": "execute_result"
    }
   ],
   "source": [
    "#q4\n",
    "varieties = []\n",
    "\n",
    "for i in range(1, len(wine)):\n",
    "    if \"cranberry\" in cell(i, \"description\"):\n",
    "        varieties.append(cell(i, \"variety\"))\n",
    "        \n",
    "list(set(varieties))"
   ]
  },
  {
   "cell_type": "code",
   "execution_count": 7,
   "id": "b5eb5d41",
   "metadata": {},
   "outputs": [
    {
     "data": {
      "text/plain": [
       "['Pinot Grigio', 'Sparkling Blend', 'Chardonnay']"
      ]
     },
     "execution_count": 7,
     "metadata": {},
     "output_type": "execute_result"
    }
   ],
   "source": [
    "#q5\n",
    "varieties = []\n",
    "\n",
    "for i in range(1, len(wine)):\n",
    "    if \"lemon-lime soda\" in cell(i, \"description\"):\n",
    "        varieties.append(cell(i, \"variety\"))\n",
    "        \n",
    "list(set(varieties))"
   ]
  },
  {
   "cell_type": "code",
   "execution_count": 8,
   "id": "4d044d29",
   "metadata": {},
   "outputs": [
    {
     "data": {
      "text/plain": [
       "['Tempranillo', 'Red Blend', 'Castelão', 'Cabernet Sauvignon', 'Tinta de Toro']"
      ]
     },
     "execution_count": 8,
     "metadata": {},
     "output_type": "execute_result"
    }
   ],
   "source": [
    "#q6\n",
    "varieties = []\n",
    "\n",
    "for i in range(1, len(wine)):\n",
    "    if \"black-fruit\" in cell(i, \"description\"):\n",
    "        varieties.append(cell(i, \"variety\"))\n",
    "        \n",
    "list(set(varieties))"
   ]
  },
  {
   "cell_type": "code",
   "execution_count": 9,
   "id": "b885b908",
   "metadata": {},
   "outputs": [
    {
     "data": {
      "text/plain": [
       "['Cabernet Sauvignon']"
      ]
     },
     "execution_count": 9,
     "metadata": {},
     "output_type": "execute_result"
    }
   ],
   "source": [
    "#q7\n",
    "anagrams = []\n",
    "\n",
    "for i in range(1, len(wine)):\n",
    "    if sorted(\"antibus governance\") == sorted(cell(i, \"variety\").lower()):\n",
    "        anagrams.append(cell(i, \"variety\"))\n",
    "        \n",
    "list(set(anagrams))"
   ]
  },
  {
   "cell_type": "code",
   "execution_count": 10,
   "id": "d4afff37",
   "metadata": {},
   "outputs": [
    {
     "data": {
      "text/plain": [
       "123"
      ]
     },
     "execution_count": 10,
     "metadata": {},
     "output_type": "execute_result"
    }
   ],
   "source": [
    "#q8\n",
    "unique = []\n",
    "\n",
    "for i in range(1, len(wine)):\n",
    "    if cell(i, \"variety\") == \"Pinot Noir\":\n",
    "        unique.append(cell(i, \"winery\"))\n",
    "        \n",
    "len(list(set(unique)))"
   ]
  },
  {
   "cell_type": "code",
   "execution_count": 11,
   "id": "6a8d538f",
   "metadata": {},
   "outputs": [
    {
     "data": {
      "text/plain": [
       "['Tinta de Toro']"
      ]
     },
     "execution_count": 11,
     "metadata": {},
     "output_type": "execute_result"
    }
   ],
   "source": [
    "#q9\n",
    "highest_spain = []\n",
    "rating = 0\n",
    "\n",
    "for i in range(1, len(wine)):\n",
    "    if cell(i, \"country\") == \"Spain\" and cell(i, \"points\") > rating:\n",
    "        rating = cell(i, \"points\")\n",
    "\n",
    "for i in range(1, len(wine)):\n",
    "    if cell(i, \"country\") == \"Spain\" and cell(i, \"points\") == rating:\n",
    "        highest_spain.append(cell(i, \"variety\"))\n",
    "        \n",
    "list(highest_spain)"
   ]
  },
  {
   "cell_type": "code",
   "execution_count": 12,
   "id": "8e2f26eb",
   "metadata": {},
   "outputs": [
    {
     "data": {
      "text/plain": [
       "['Gaja']"
      ]
     },
     "execution_count": 12,
     "metadata": {},
     "output_type": "execute_result"
    }
   ],
   "source": [
    "#q10\n",
    "expensive_italy = []\n",
    "price = 0\n",
    "\n",
    "for i in range(1, len(wine)):\n",
    "    if cell(i, \"country\") == \"Italy\" and cell(i, \"price\") != None:\n",
    "        if cell(i, \"price\") > price:\n",
    "            price = cell(i, \"price\")\n",
    "\n",
    "for i in range(1, len(wine)):\n",
    "    if cell(i, \"country\") == \"Italy\" and cell(i, \"price\") == price:\n",
    "        expensive_italy.append(cell(i, \"winery\"))\n",
    "        \n",
    "list(expensive_italy)"
   ]
  },
  {
   "cell_type": "code",
   "execution_count": 13,
   "id": "92ecce65",
   "metadata": {},
   "outputs": [
    {
     "data": {
      "text/plain": [
       "1.98628003003003"
      ]
     },
     "execution_count": 13,
     "metadata": {},
     "output_type": "execute_result"
    }
   ],
   "source": [
    "#q11\n",
    "wines = []\n",
    "ppd_ratio = 0\n",
    "ppd_counter = 0\n",
    "\n",
    "for i in range(1, len(wine)):\n",
    "    if cell(i, \"winery\") == \"Patricia Green Cellars\":\n",
    "        ppd_ratio += (cell(i, \"points\") / cell(i, \"price\"))\n",
    "        ppd_counter += 1\n",
    "        \n",
    "ppd_ratio / ppd_counter"
   ]
  },
  {
   "cell_type": "code",
   "execution_count": 14,
   "id": "1dd69685",
   "metadata": {},
   "outputs": [
    {
     "data": {
      "text/plain": [
       "0.2923076923076923"
      ]
     },
     "execution_count": 14,
     "metadata": {},
     "output_type": "execute_result"
    }
   ],
   "source": [
    "#q12\n",
    "wines = []\n",
    "ppd_ratio = 0\n",
    "ppd_counter = 0\n",
    "\n",
    "for i in range(1, len(wine)):\n",
    "    if cell(i, \"winery\") == \"Hall\":\n",
    "        ppd_ratio += (cell(i, \"points\") / cell(i, \"price\"))\n",
    "        ppd_counter += 1\n",
    "        \n",
    "ppd_ratio / ppd_counter"
   ]
  },
  {
   "cell_type": "code",
   "execution_count": 15,
   "id": "9468b87c",
   "metadata": {},
   "outputs": [],
   "source": [
    "def ppd(winery):\n",
    "    wines = []\n",
    "    ppd_ratio = 0\n",
    "    ppd_counter = 0\n",
    "\n",
    "    try:\n",
    "        for i in range(1, len(wine)):\n",
    "            if cell(i, \"winery\") == winery:\n",
    "                ppd_ratio += (cell(i, \"points\") / cell(i, \"price\"))\n",
    "                ppd_counter += 1\n",
    "        return ppd_ratio / ppd_counter\n",
    "    except:\n",
    "        return 0"
   ]
  },
  {
   "cell_type": "code",
   "execution_count": 16,
   "id": "e3c13c7a",
   "metadata": {},
   "outputs": [
    {
     "data": {
      "text/plain": [
       "['Grand Pacific']"
      ]
     },
     "execution_count": 16,
     "metadata": {},
     "output_type": "execute_result"
    }
   ],
   "source": [
    "#q13\n",
    "highest_ppd = 0\n",
    "winery = \"\"\n",
    "\n",
    "wineries = []\n",
    "\n",
    "for i in range(1, len(wine)):\n",
    "    if ppd(cell(i, \"winery\")) > highest_ppd and cell(i, \"country\") == \"US\":\n",
    "        winery = cell(i, \"winery\")\n",
    "        highest_ppd = ppd(cell(i, \"winery\"))\n",
    "        \n",
    "for i in range(1, len(wine)):\n",
    "    if cell(i, \"country\") == \"US\" and ppd(cell(i, \"winery\")) == highest_ppd:\n",
    "        wineries.append(cell(i, \"winery\"))\n",
    "        \n",
    "wineries"
   ]
  },
  {
   "cell_type": "code",
   "execution_count": 17,
   "id": "883b087b",
   "metadata": {},
   "outputs": [
    {
     "data": {
      "text/plain": [
       "['Long Neck', 'Essay', 'Robertson Winery', 'KWV']"
      ]
     },
     "execution_count": 17,
     "metadata": {},
     "output_type": "execute_result"
    }
   ],
   "source": [
    "#q14\n",
    "highest_ppd = 0\n",
    "winery = \"\"\n",
    "\n",
    "wineries = []\n",
    "\n",
    "for i in range(1, len(wine)):\n",
    "    if ppd(cell(i, \"winery\")) > highest_ppd and cell(i, \"country\") == \"South Africa\":\n",
    "        winery = cell(i, \"winery\")\n",
    "        highest_ppd = ppd(cell(i, \"winery\"))\n",
    "        \n",
    "for i in range(1, len(wine)):\n",
    "    if cell(i, \"country\") == \"South Africa\" and ppd(cell(i, \"winery\")) == highest_ppd:\n",
    "        wineries.append(cell(i, \"winery\"))\n",
    "        \n",
    "wineries"
   ]
  },
  {
   "cell_type": "code",
   "execution_count": 18,
   "id": "8b7bdbfc",
   "metadata": {},
   "outputs": [
    {
     "data": {
      "text/plain": [
       "['Bodega Las Cañitas']"
      ]
     },
     "execution_count": 18,
     "metadata": {},
     "output_type": "execute_result"
    }
   ],
   "source": [
    "#q15\n",
    "lowest_ppd = 1000\n",
    "winery = \"\"\n",
    "\n",
    "wineries = []\n",
    "\n",
    "for i in range(1, len(wine)):\n",
    "    if ppd(cell(i, \"winery\")) < lowest_ppd and cell(i, \"country\") == \"Argentina\":\n",
    "        winery = cell(i, \"winery\")\n",
    "        lowest_ppd = ppd(cell(i, \"winery\"))\n",
    "        \n",
    "for i in range(1, len(wine)):\n",
    "    if cell(i, \"country\") == \"Argentina\" and ppd(cell(i, \"winery\")) == lowest_ppd:\n",
    "        wineries.append(cell(i, \"winery\"))\n",
    "        \n",
    "wineries"
   ]
  },
  {
   "cell_type": "code",
   "execution_count": 19,
   "id": "b07d142f",
   "metadata": {},
   "outputs": [
    {
     "data": {
      "text/plain": [
       "['Cabernet Franc']"
      ]
     },
     "execution_count": 19,
     "metadata": {},
     "output_type": "execute_result"
    }
   ],
   "source": [
    "#q16\n",
    "varieties = []\n",
    "\n",
    "for i in range(1, len(wine)):\n",
    "    if cell(i, \"winery\") == \"Ironstone\":\n",
    "        varieties.append(cell(i, \"variety\"))\n",
    "        \n",
    "list(set(varieties))"
   ]
  },
  {
   "cell_type": "code",
   "execution_count": 20,
   "id": "3c09af26",
   "metadata": {},
   "outputs": [
    {
     "data": {
      "text/plain": [
       "['Portuguese White', 'Portuguese Rosé', 'Portuguese Red']"
      ]
     },
     "execution_count": 20,
     "metadata": {},
     "output_type": "execute_result"
    }
   ],
   "source": [
    "#q17\n",
    "varieties = []\n",
    "\n",
    "for i in range(1, len(wine)):\n",
    "    if cell(i, \"winery\") == \"Quinta Nova de Nossa Senhora do Carmo\":\n",
    "        varieties.append(cell(i, \"variety\"))\n",
    "        \n",
    "list(set(varieties))"
   ]
  },
  {
   "cell_type": "code",
   "execution_count": 21,
   "id": "3e9d2128",
   "metadata": {},
   "outputs": [
    {
     "data": {
      "text/plain": [
       "7.6923076923076925"
      ]
     },
     "execution_count": 21,
     "metadata": {},
     "output_type": "execute_result"
    }
   ],
   "source": [
    "#q18\n",
    "cranberry = []\n",
    "\n",
    "for i in range(1, len(wine)):\n",
    "    if \"cranberry\" in cell(i, \"description\"):\n",
    "        cranberry.append(cell(i, \"variety\"))\n",
    "        \n",
    "black_fruit = []\n",
    "\n",
    "for i in range(1, len(wine)):\n",
    "    if \"black-fruit\" in cell(i, \"description\"):\n",
    "        black_fruit.append(cell(i, \"variety\"))\n",
    "    \n",
    "        \n",
    "intersection = set.intersection(set(cranberry), set(black_fruit))\n",
    "\n",
    "\n",
    "len(intersection) / len(list(set(cranberry))) * 100"
   ]
  },
  {
   "cell_type": "code",
   "execution_count": 22,
   "id": "63405b49",
   "metadata": {},
   "outputs": [
    {
     "data": {
      "text/plain": [
       "130.0"
      ]
     },
     "execution_count": 22,
     "metadata": {},
     "output_type": "execute_result"
    }
   ],
   "source": [
    "#q19\n",
    "highest_price = 0\n",
    "\n",
    "for i in range(1, len(wine)):\n",
    "    try:\n",
    "        if cell(i, \"price\") > highest_price and cell(i, \"country\") == \"Portugal\":\n",
    "            highest_price = cell(i, \"price\")\n",
    "    except:\n",
    "        pass\n",
    "\n",
    "highest_price"
   ]
  },
  {
   "cell_type": "code",
   "execution_count": 23,
   "id": "bf017b18",
   "metadata": {},
   "outputs": [
    {
     "data": {
      "text/plain": [
       "281.0"
      ]
     },
     "execution_count": 23,
     "metadata": {},
     "output_type": "execute_result"
    }
   ],
   "source": [
    "#q20\n",
    "highest_price = 0\n",
    "\n",
    "for i in range(1, len(wine)):\n",
    "    try:\n",
    "        if cell(i, \"price\") > highest_price and cell(i, \"country\") == \"Portugal\":\n",
    "            highest_price = cell(i, \"price\")\n",
    "    except:\n",
    "        pass\n",
    "\n",
    "lowest_price = 1000\n",
    "\n",
    "for i in range(1, len(wine)):\n",
    "    try:\n",
    "        if cell(i, \"price\") < lowest_price and cell(i, \"country\") == \"Portugal\":\n",
    "            lowest_price = cell(i, \"price\")\n",
    "    except:\n",
    "        pass\n",
    "\n",
    "(2 * highest_price) + (3 * lowest_price)"
   ]
  },
  {
   "cell_type": "code",
   "execution_count": null,
   "id": "f8aad72f",
   "metadata": {},
   "outputs": [],
   "source": []
  }
 ],
 "metadata": {
  "kernelspec": {
   "display_name": "Python 3 (ipykernel)",
   "language": "python",
   "name": "python3"
  },
  "language_info": {
   "codemirror_mode": {
    "name": "ipython",
    "version": 3
   },
   "file_extension": ".py",
   "mimetype": "text/x-python",
   "name": "python",
   "nbconvert_exporter": "python",
   "pygments_lexer": "ipython3",
   "version": "3.9.13"
  }
 },
 "nbformat": 4,
 "nbformat_minor": 5
}
