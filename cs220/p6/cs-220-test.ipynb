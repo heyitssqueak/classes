{
 "cells": [
  {
   "cell_type": "code",
   "execution_count": 1,
   "id": "a4c2cf1a",
   "metadata": {
    "execution": {
     "iopub.execute_input": "2022-07-01T15:44:26.411532Z",
     "iopub.status.busy": "2022-07-01T15:44:26.411153Z",
     "iopub.status.idle": "2022-07-01T15:44:26.422912Z",
     "shell.execute_reply": "2022-07-01T15:44:26.422488Z"
    }
   },
   "outputs": [],
   "source": [
    "def cell(row_idx, col_name):\n",
    "    col_idx = csv_header.index(col_name)\n",
    "    val = wine[row_idx][col_idx]\n",
    "    if val == \"\":\n",
    "        return None\n",
    "    # optional: convert types based on column name?\n",
    "    if col_name == \"points\":\n",
    "        return int(val)\n",
    "    if col_name == \"price\":\n",
    "        return float(val)\n",
    "    return val"
   ]
  },
  {
   "cell_type": "code",
   "execution_count": 2,
   "id": "c96307aa",
   "metadata": {
    "execution": {
     "iopub.execute_input": "2022-07-01T15:44:26.425714Z",
     "iopub.status.busy": "2022-07-01T15:44:26.425517Z",
     "iopub.status.idle": "2022-07-01T15:44:26.439866Z",
     "shell.execute_reply": "2022-07-01T15:44:26.439444Z"
    }
   },
   "outputs": [],
   "source": [
    "import csv\n",
    "\n",
    "# copied from https://automatetheboringstuff.com/chapter14/\n",
    "def process_csv(filename):\n",
    "    exampleFile = open(filename, encoding=\"utf-8\")\n",
    "    exampleReader = csv.reader(exampleFile)\n",
    "    exampleData = list(exampleReader)\n",
    "    exampleFile.close()\n",
    "    return exampleData\n",
    "\n",
    "# use process_csv to pull out the header and data rows\n",
    "csv_rows = process_csv(\"wine.csv\")\n",
    "csv_header = csv_rows[0]\n",
    "csv_data = csv_rows[1:] "
   ]
  },
  {
   "cell_type": "code",
   "execution_count": 3,
   "id": "63e56ed6",
   "metadata": {
    "execution": {
     "iopub.execute_input": "2022-07-01T15:44:26.457594Z",
     "iopub.status.busy": "2022-07-01T15:44:26.457090Z",
     "iopub.status.idle": "2022-07-01T15:44:26.474052Z",
     "shell.execute_reply": "2022-07-01T15:44:26.473612Z"
    }
   },
   "outputs": [
    {
     "data": {
      "text/plain": [
       "['Chile',\n",
       " 'Bulgaria',\n",
       " 'Argentina',\n",
       " 'Slovenia',\n",
       " 'Israel',\n",
       " 'South Africa',\n",
       " 'New Zealand',\n",
       " 'Germany',\n",
       " 'Austria',\n",
       " 'Moldova',\n",
       " 'Portugal',\n",
       " 'Morocco',\n",
       " 'Canada',\n",
       " 'Hungary',\n",
       " 'Australia',\n",
       " 'Greece',\n",
       " 'Romania',\n",
       " 'Italy',\n",
       " 'US',\n",
       " 'Croatia',\n",
       " 'France',\n",
       " 'Spain',\n",
       " 'India']"
      ]
     },
     "execution_count": 3,
     "metadata": {},
     "output_type": "execute_result"
    }
   ],
   "source": [
    "#q1\n",
    "wine = process_csv(\"wine.csv\")\n",
    "countries = []\n",
    "\n",
    "for i in range(1, len(wine)):\n",
    "    if cell(i, \"country\") != None:\n",
    "        countries.append(wine[i][0])\n",
    "    \n",
    "list(set(countries))"
   ]
  },
  {
   "cell_type": "code",
   "execution_count": 4,
   "id": "7088de95",
   "metadata": {
    "execution": {
     "iopub.execute_input": "2022-07-01T15:44:26.476340Z",
     "iopub.status.busy": "2022-07-01T15:44:26.476179Z",
     "iopub.status.idle": "2022-07-01T15:44:26.480601Z",
     "shell.execute_reply": "2022-07-01T15:44:26.480223Z"
    }
   },
   "outputs": [
    {
     "data": {
      "text/plain": [
       "39.40787623066104"
      ]
     },
     "execution_count": 4,
     "metadata": {},
     "output_type": "execute_result"
    }
   ],
   "source": [
    "#q2\n",
    "total_price = 0\n",
    "total_wines = 0\n",
    "\n",
    "for i in range(1, len(wine)):\n",
    "    if cell(i, \"price\") != None:\n",
    "        total_wines += 1\n",
    "        total_price += cell(i, \"price\")\n",
    "        \n",
    "total_price / total_wines"
   ]
  },
  {
   "cell_type": "code",
   "execution_count": 5,
   "id": "2e43cdbd",
   "metadata": {
    "execution": {
     "iopub.execute_input": "2022-07-01T15:44:26.482546Z",
     "iopub.status.busy": "2022-07-01T15:44:26.482387Z",
     "iopub.status.idle": "2022-07-01T15:44:26.486009Z",
     "shell.execute_reply": "2022-07-01T15:44:26.485627Z"
    }
   },
   "outputs": [
    {
     "data": {
      "text/plain": [
       "['Spy Valley', 'Felton Road', 'Kumeu River']"
      ]
     },
     "execution_count": 5,
     "metadata": {},
     "output_type": "execute_result"
    }
   ],
   "source": [
    "#q3\n",
    "wineries = []\n",
    "\n",
    "for i in range(1, len(wine)):\n",
    "    if cell(i, \"country\") == \"New Zealand\":\n",
    "        wineries.append(cell(i, \"winery\"))\n",
    "        \n",
    "list(set(wineries))"
   ]
  },
  {
   "cell_type": "code",
   "execution_count": 6,
   "id": "5a78c666",
   "metadata": {
    "execution": {
     "iopub.execute_input": "2022-07-01T15:44:26.487953Z",
     "iopub.status.busy": "2022-07-01T15:44:26.487834Z",
     "iopub.status.idle": "2022-07-01T15:44:26.491587Z",
     "shell.execute_reply": "2022-07-01T15:44:26.491304Z"
    }
   },
   "outputs": [
    {
     "data": {
      "text/plain": [
       "['Cabernet Sauvignon',\n",
       " 'Merlot',\n",
       " 'Aglianico',\n",
       " 'Meritage',\n",
       " 'Nebbiolo',\n",
       " 'Blaufränkisch',\n",
       " 'Cabernet Franc',\n",
       " 'Zinfandel',\n",
       " 'Rosé',\n",
       " 'Sangiovese',\n",
       " 'Bordeaux-style Red Blend',\n",
       " 'Pinot Noir',\n",
       " 'Lemberger']"
      ]
     },
     "execution_count": 6,
     "metadata": {},
     "output_type": "execute_result"
    }
   ],
   "source": [
    "#q4\n",
    "varieties = []\n",
    "\n",
    "for i in range(1, len(wine)):\n",
    "    if \"cranberry\" in cell(i, \"description\"):\n",
    "        varieties.append(cell(i, \"variety\"))\n",
    "        \n",
    "list(set(varieties))"
   ]
  },
  {
   "cell_type": "code",
   "execution_count": 7,
   "id": "68230a5b",
   "metadata": {
    "execution": {
     "iopub.execute_input": "2022-07-01T15:44:26.493209Z",
     "iopub.status.busy": "2022-07-01T15:44:26.493083Z",
     "iopub.status.idle": "2022-07-01T15:44:26.496321Z",
     "shell.execute_reply": "2022-07-01T15:44:26.496020Z"
    }
   },
   "outputs": [
    {
     "data": {
      "text/plain": [
       "['Pinot Grigio', 'Sparkling Blend', 'Chardonnay']"
      ]
     },
     "execution_count": 7,
     "metadata": {},
     "output_type": "execute_result"
    }
   ],
   "source": [
    "#q5\n",
    "varieties = []\n",
    "\n",
    "for i in range(1, len(wine)):\n",
    "    if \"lemon-lime soda\" in cell(i, \"description\"):\n",
    "        varieties.append(cell(i, \"variety\"))\n",
    "        \n",
    "list(set(varieties))"
   ]
  },
  {
   "cell_type": "code",
   "execution_count": 8,
   "id": "35a55a0a",
   "metadata": {
    "execution": {
     "iopub.execute_input": "2022-07-01T15:44:26.497781Z",
     "iopub.status.busy": "2022-07-01T15:44:26.497693Z",
     "iopub.status.idle": "2022-07-01T15:44:26.501058Z",
     "shell.execute_reply": "2022-07-01T15:44:26.500760Z"
    }
   },
   "outputs": [
    {
     "data": {
      "text/plain": [
       "['Castelão', 'Cabernet Sauvignon', 'Red Blend', 'Tinta de Toro', 'Tempranillo']"
      ]
     },
     "execution_count": 8,
     "metadata": {},
     "output_type": "execute_result"
    }
   ],
   "source": [
    "#q6\n",
    "varieties = []\n",
    "\n",
    "for i in range(1, len(wine)):\n",
    "    if \"black-fruit\" in cell(i, \"description\"):\n",
    "        varieties.append(cell(i, \"variety\"))\n",
    "        \n",
    "list(set(varieties))"
   ]
  },
  {
   "cell_type": "code",
   "execution_count": 9,
   "id": "85fa5c17",
   "metadata": {
    "execution": {
     "iopub.execute_input": "2022-07-01T15:44:26.502462Z",
     "iopub.status.busy": "2022-07-01T15:44:26.502375Z",
     "iopub.status.idle": "2022-07-01T15:44:26.507037Z",
     "shell.execute_reply": "2022-07-01T15:44:26.506770Z"
    }
   },
   "outputs": [
    {
     "data": {
      "text/plain": [
       "['Cabernet Sauvignon']"
      ]
     },
     "execution_count": 9,
     "metadata": {},
     "output_type": "execute_result"
    }
   ],
   "source": [
    "#q7\n",
    "anagrams = []\n",
    "\n",
    "for i in range(1, len(wine)):\n",
    "    if sorted(\"antibus governance\") == sorted(cell(i, \"variety\").lower()):\n",
    "        anagrams.append(cell(i, \"variety\"))\n",
    "        \n",
    "list(set(anagrams))"
   ]
  },
  {
   "cell_type": "code",
   "execution_count": 10,
   "id": "4885e762",
   "metadata": {
    "execution": {
     "iopub.execute_input": "2022-07-01T15:44:26.508578Z",
     "iopub.status.busy": "2022-07-01T15:44:26.508493Z",
     "iopub.status.idle": "2022-07-01T15:44:26.511458Z",
     "shell.execute_reply": "2022-07-01T15:44:26.511211Z"
    }
   },
   "outputs": [
    {
     "data": {
      "text/plain": [
       "123"
      ]
     },
     "execution_count": 10,
     "metadata": {},
     "output_type": "execute_result"
    }
   ],
   "source": [
    "#q8\n",
    "unique = []\n",
    "\n",
    "for i in range(1, len(wine)):\n",
    "    if cell(i, \"variety\") == \"Pinot Noir\":\n",
    "        unique.append(cell(i, \"winery\"))\n",
    "        \n",
    "len(list(set(unique)))"
   ]
  },
  {
   "cell_type": "code",
   "execution_count": 11,
   "id": "7313d830",
   "metadata": {
    "execution": {
     "iopub.execute_input": "2022-07-01T15:44:26.512833Z",
     "iopub.status.busy": "2022-07-01T15:44:26.512756Z",
     "iopub.status.idle": "2022-07-01T15:44:26.516259Z",
     "shell.execute_reply": "2022-07-01T15:44:26.516026Z"
    }
   },
   "outputs": [
    {
     "data": {
      "text/plain": [
       "['Tinta de Toro']"
      ]
     },
     "execution_count": 11,
     "metadata": {},
     "output_type": "execute_result"
    }
   ],
   "source": [
    "#q9\n",
    "highest_spain = []\n",
    "rating = 0\n",
    "\n",
    "for i in range(1, len(wine)):\n",
    "    if cell(i, \"country\") == \"Spain\" and cell(i, \"points\") > rating:\n",
    "        rating = cell(i, \"points\")\n",
    "\n",
    "for i in range(1, len(wine)):\n",
    "    if cell(i, \"country\") == \"Spain\" and cell(i, \"points\") == rating:\n",
    "        highest_spain.append(cell(i, \"variety\"))\n",
    "        \n",
    "list(highest_spain)"
   ]
  },
  {
   "cell_type": "code",
   "execution_count": 12,
   "id": "808dedc2",
   "metadata": {
    "execution": {
     "iopub.execute_input": "2022-07-01T15:44:26.517609Z",
     "iopub.status.busy": "2022-07-01T15:44:26.517533Z",
     "iopub.status.idle": "2022-07-01T15:44:26.521257Z",
     "shell.execute_reply": "2022-07-01T15:44:26.521014Z"
    }
   },
   "outputs": [
    {
     "data": {
      "text/plain": [
       "['Gaja']"
      ]
     },
     "execution_count": 12,
     "metadata": {},
     "output_type": "execute_result"
    }
   ],
   "source": [
    "#q10\n",
    "expensive_italy = []\n",
    "price = 0\n",
    "\n",
    "for i in range(1, len(wine)):\n",
    "    if cell(i, \"country\") == \"Italy\" and cell(i, \"price\") != None:\n",
    "        if cell(i, \"price\") > price:\n",
    "            price = cell(i, \"price\")\n",
    "\n",
    "for i in range(1, len(wine)):\n",
    "    if cell(i, \"country\") == \"Italy\" and cell(i, \"price\") == price:\n",
    "        expensive_italy.append(cell(i, \"winery\"))\n",
    "        \n",
    "list(expensive_italy)"
   ]
  },
  {
   "cell_type": "code",
   "execution_count": 13,
   "id": "54cb53b3",
   "metadata": {
    "execution": {
     "iopub.execute_input": "2022-07-01T15:44:26.522659Z",
     "iopub.status.busy": "2022-07-01T15:44:26.522571Z",
     "iopub.status.idle": "2022-07-01T15:44:26.525504Z",
     "shell.execute_reply": "2022-07-01T15:44:26.525271Z"
    }
   },
   "outputs": [
    {
     "data": {
      "text/plain": [
       "1.98628003003003"
      ]
     },
     "execution_count": 13,
     "metadata": {},
     "output_type": "execute_result"
    }
   ],
   "source": [
    "#q11\n",
    "wines = []\n",
    "ppd_ratio = 0\n",
    "ppd_counter = 0\n",
    "\n",
    "for i in range(1, len(wine)):\n",
    "    if cell(i, \"winery\") == \"Patricia Green Cellars\":\n",
    "        ppd_ratio += (cell(i, \"points\") / cell(i, \"price\"))\n",
    "        ppd_counter += 1\n",
    "        \n",
    "ppd_ratio / ppd_counter"
   ]
  },
  {
   "cell_type": "code",
   "execution_count": 14,
   "id": "c7f86376",
   "metadata": {
    "execution": {
     "iopub.execute_input": "2022-07-01T15:44:26.526827Z",
     "iopub.status.busy": "2022-07-01T15:44:26.526747Z",
     "iopub.status.idle": "2022-07-01T15:44:26.529608Z",
     "shell.execute_reply": "2022-07-01T15:44:26.529396Z"
    }
   },
   "outputs": [
    {
     "data": {
      "text/plain": [
       "0.2923076923076923"
      ]
     },
     "execution_count": 14,
     "metadata": {},
     "output_type": "execute_result"
    }
   ],
   "source": [
    "#q12\n",
    "wines = []\n",
    "ppd_ratio = 0\n",
    "ppd_counter = 0\n",
    "\n",
    "for i in range(1, len(wine)):\n",
    "    if cell(i, \"winery\") == \"Hall\":\n",
    "        ppd_ratio += (cell(i, \"points\") / cell(i, \"price\"))\n",
    "        ppd_counter += 1\n",
    "        \n",
    "ppd_ratio / ppd_counter"
   ]
  },
  {
   "cell_type": "code",
   "execution_count": 15,
   "id": "e3fcf6c0",
   "metadata": {
    "execution": {
     "iopub.execute_input": "2022-07-01T15:44:26.531065Z",
     "iopub.status.busy": "2022-07-01T15:44:26.530985Z",
     "iopub.status.idle": "2022-07-01T15:44:26.533263Z",
     "shell.execute_reply": "2022-07-01T15:44:26.533049Z"
    }
   },
   "outputs": [],
   "source": [
    "def ppd(winery):\n",
    "    wines = []\n",
    "    ppd_ratio = 0\n",
    "    ppd_counter = 0\n",
    "\n",
    "    try:\n",
    "        for i in range(1, len(wine)):\n",
    "            if cell(i, \"winery\") == winery:\n",
    "                ppd_ratio += (cell(i, \"points\") / cell(i, \"price\"))\n",
    "                ppd_counter += 1\n",
    "        return ppd_ratio / ppd_counter\n",
    "    except:\n",
    "        return 0"
   ]
  },
  {
   "cell_type": "code",
   "execution_count": 16,
   "id": "2c625653",
   "metadata": {
    "execution": {
     "iopub.execute_input": "2022-07-01T15:44:26.534596Z",
     "iopub.status.busy": "2022-07-01T15:44:26.534523Z",
     "iopub.status.idle": "2022-07-01T15:44:27.078779Z",
     "shell.execute_reply": "2022-07-01T15:44:27.078528Z"
    }
   },
   "outputs": [
    {
     "data": {
      "text/plain": [
       "['Grand Pacific']"
      ]
     },
     "execution_count": 16,
     "metadata": {},
     "output_type": "execute_result"
    }
   ],
   "source": [
    "#q13\n",
    "highest_ppd = 0\n",
    "winery = \"\"\n",
    "\n",
    "wineries = []\n",
    "\n",
    "for i in range(1, len(wine)):\n",
    "    if ppd(cell(i, \"winery\")) > highest_ppd and cell(i, \"country\") == \"US\":\n",
    "        winery = cell(i, \"winery\")\n",
    "        highest_ppd = ppd(cell(i, \"winery\"))\n",
    "        \n",
    "for i in range(1, len(wine)):\n",
    "    if cell(i, \"country\") == \"US\" and ppd(cell(i, \"winery\")) == highest_ppd:\n",
    "        wineries.append(cell(i, \"winery\"))\n",
    "        \n",
    "wineries"
   ]
  },
  {
   "cell_type": "code",
   "execution_count": 17,
   "id": "0f21e6d9",
   "metadata": {
    "execution": {
     "iopub.execute_input": "2022-07-01T15:44:27.080470Z",
     "iopub.status.busy": "2022-07-01T15:44:27.080366Z",
     "iopub.status.idle": "2022-07-01T15:44:27.450552Z",
     "shell.execute_reply": "2022-07-01T15:44:27.450326Z"
    }
   },
   "outputs": [
    {
     "data": {
      "text/plain": [
       "['Long Neck', 'Essay', 'Robertson Winery', 'KWV']"
      ]
     },
     "execution_count": 17,
     "metadata": {},
     "output_type": "execute_result"
    }
   ],
   "source": [
    "#q14\n",
    "highest_ppd = 0\n",
    "winery = \"\"\n",
    "\n",
    "wineries = []\n",
    "\n",
    "for i in range(1, len(wine)):\n",
    "    if ppd(cell(i, \"winery\")) > highest_ppd and cell(i, \"country\") == \"South Africa\":\n",
    "        winery = cell(i, \"winery\")\n",
    "        highest_ppd = ppd(cell(i, \"winery\"))\n",
    "        \n",
    "for i in range(1, len(wine)):\n",
    "    if cell(i, \"country\") == \"South Africa\" and ppd(cell(i, \"winery\")) == highest_ppd:\n",
    "        wineries.append(cell(i, \"winery\"))\n",
    "        \n",
    "wineries"
   ]
  },
  {
   "cell_type": "code",
   "execution_count": 18,
   "id": "aa826f91",
   "metadata": {
    "execution": {
     "iopub.execute_input": "2022-07-01T15:44:27.452103Z",
     "iopub.status.busy": "2022-07-01T15:44:27.452018Z",
     "iopub.status.idle": "2022-07-01T15:44:27.827954Z",
     "shell.execute_reply": "2022-07-01T15:44:27.827724Z"
    }
   },
   "outputs": [
    {
     "data": {
      "text/plain": [
       "['Bodega Las Cañitas']"
      ]
     },
     "execution_count": 18,
     "metadata": {},
     "output_type": "execute_result"
    }
   ],
   "source": [
    "#q15\n",
    "lowest_ppd = 1000\n",
    "winery = \"\"\n",
    "\n",
    "wineries = []\n",
    "\n",
    "for i in range(1, len(wine)):\n",
    "    if ppd(cell(i, \"winery\")) < lowest_ppd and cell(i, \"country\") == \"Argentina\":\n",
    "        winery = cell(i, \"winery\")\n",
    "        lowest_ppd = ppd(cell(i, \"winery\"))\n",
    "        \n",
    "for i in range(1, len(wine)):\n",
    "    if cell(i, \"country\") == \"Argentina\" and ppd(cell(i, \"winery\")) == lowest_ppd:\n",
    "        wineries.append(cell(i, \"winery\"))\n",
    "        \n",
    "wineries"
   ]
  },
  {
   "cell_type": "code",
   "execution_count": 19,
   "id": "f7d819b0",
   "metadata": {
    "execution": {
     "iopub.execute_input": "2022-07-01T15:44:27.829520Z",
     "iopub.status.busy": "2022-07-01T15:44:27.829446Z",
     "iopub.status.idle": "2022-07-01T15:44:27.832179Z",
     "shell.execute_reply": "2022-07-01T15:44:27.831954Z"
    }
   },
   "outputs": [
    {
     "data": {
      "text/plain": [
       "['Cabernet Franc']"
      ]
     },
     "execution_count": 19,
     "metadata": {},
     "output_type": "execute_result"
    }
   ],
   "source": [
    "#q16\n",
    "varieties = []\n",
    "\n",
    "for i in range(1, len(wine)):\n",
    "    if cell(i, \"winery\") == \"Ironstone\":\n",
    "        varieties.append(cell(i, \"variety\"))\n",
    "        \n",
    "list(set(varieties))"
   ]
  },
  {
   "cell_type": "code",
   "execution_count": 20,
   "id": "0e1b41c1",
   "metadata": {
    "execution": {
     "iopub.execute_input": "2022-07-01T15:44:27.833611Z",
     "iopub.status.busy": "2022-07-01T15:44:27.833537Z",
     "iopub.status.idle": "2022-07-01T15:44:27.836341Z",
     "shell.execute_reply": "2022-07-01T15:44:27.836111Z"
    }
   },
   "outputs": [
    {
     "data": {
      "text/plain": [
       "['Portuguese Red', 'Portuguese White', 'Portuguese Rosé']"
      ]
     },
     "execution_count": 20,
     "metadata": {},
     "output_type": "execute_result"
    }
   ],
   "source": [
    "#q17\n",
    "varieties = []\n",
    "\n",
    "for i in range(1, len(wine)):\n",
    "    if cell(i, \"winery\") == \"Quinta Nova de Nossa Senhora do Carmo\":\n",
    "        varieties.append(cell(i, \"variety\"))\n",
    "        \n",
    "list(set(varieties))"
   ]
  },
  {
   "cell_type": "code",
   "execution_count": 21,
   "id": "cf300875",
   "metadata": {
    "execution": {
     "iopub.execute_input": "2022-07-01T15:44:27.837780Z",
     "iopub.status.busy": "2022-07-01T15:44:27.837697Z",
     "iopub.status.idle": "2022-07-01T15:44:27.841850Z",
     "shell.execute_reply": "2022-07-01T15:44:27.841606Z"
    }
   },
   "outputs": [
    {
     "data": {
      "text/plain": [
       "7.6923076923076925"
      ]
     },
     "execution_count": 21,
     "metadata": {},
     "output_type": "execute_result"
    }
   ],
   "source": [
    "#q18\n",
    "cranberry = []\n",
    "\n",
    "for i in range(1, len(wine)):\n",
    "    if \"cranberry\" in cell(i, \"description\"):\n",
    "        cranberry.append(cell(i, \"variety\"))\n",
    "        \n",
    "black_fruit = []\n",
    "\n",
    "for i in range(1, len(wine)):\n",
    "    if \"black-fruit\" in cell(i, \"description\"):\n",
    "        black_fruit.append(cell(i, \"variety\"))\n",
    "    \n",
    "        \n",
    "intersection = set.intersection(set(cranberry), set(black_fruit))\n",
    "\n",
    "\n",
    "len(intersection) / len(list(set(cranberry))) * 100"
   ]
  },
  {
   "cell_type": "code",
   "execution_count": 22,
   "id": "32f09871",
   "metadata": {
    "execution": {
     "iopub.execute_input": "2022-07-01T15:44:27.843191Z",
     "iopub.status.busy": "2022-07-01T15:44:27.843112Z",
     "iopub.status.idle": "2022-07-01T15:44:27.845983Z",
     "shell.execute_reply": "2022-07-01T15:44:27.845772Z"
    }
   },
   "outputs": [
    {
     "data": {
      "text/plain": [
       "130.0"
      ]
     },
     "execution_count": 22,
     "metadata": {},
     "output_type": "execute_result"
    }
   ],
   "source": [
    "#q19\n",
    "highest_price = 0\n",
    "\n",
    "for i in range(1, len(wine)):\n",
    "    try:\n",
    "        if cell(i, \"price\") > highest_price and cell(i, \"country\") == \"Portugal\":\n",
    "            highest_price = cell(i, \"price\")\n",
    "    except:\n",
    "        pass\n",
    "\n",
    "highest_price"
   ]
  },
  {
   "cell_type": "code",
   "execution_count": 23,
   "id": "6eb2b5d5",
   "metadata": {
    "execution": {
     "iopub.execute_input": "2022-07-01T15:44:27.847429Z",
     "iopub.status.busy": "2022-07-01T15:44:27.847355Z",
     "iopub.status.idle": "2022-07-01T15:44:27.851233Z",
     "shell.execute_reply": "2022-07-01T15:44:27.851002Z"
    }
   },
   "outputs": [
    {
     "data": {
      "text/plain": [
       "281.0"
      ]
     },
     "execution_count": 23,
     "metadata": {},
     "output_type": "execute_result"
    }
   ],
   "source": [
    "#q20\n",
    "highest_price = 0\n",
    "\n",
    "for i in range(1, len(wine)):\n",
    "    try:\n",
    "        if cell(i, \"price\") > highest_price and cell(i, \"country\") == \"Portugal\":\n",
    "            highest_price = cell(i, \"price\")\n",
    "    except:\n",
    "        pass\n",
    "\n",
    "lowest_price = 1000\n",
    "\n",
    "for i in range(1, len(wine)):\n",
    "    try:\n",
    "        if cell(i, \"price\") < lowest_price and cell(i, \"country\") == \"Portugal\":\n",
    "            lowest_price = cell(i, \"price\")\n",
    "    except:\n",
    "        pass\n",
    "\n",
    "(2 * highest_price) + (3 * lowest_price)"
   ]
  },
  {
   "cell_type": "code",
   "execution_count": null,
   "id": "7e153687",
   "metadata": {},
   "outputs": [],
   "source": []
  }
 ],
 "metadata": {
  "kernelspec": {
   "display_name": "Python 3 (ipykernel)",
   "language": "python",
   "name": "python3"
  },
  "language_info": {
   "codemirror_mode": {
    "name": "ipython",
    "version": 3
   },
   "file_extension": ".py",
   "mimetype": "text/x-python",
   "name": "python",
   "nbconvert_exporter": "python",
   "pygments_lexer": "ipython3",
   "version": "3.9.13"
  }
 },
 "nbformat": 4,
 "nbformat_minor": 5
}
