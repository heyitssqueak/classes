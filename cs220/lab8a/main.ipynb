{
 "cells": [
  {
   "cell_type": "code",
   "execution_count": 1,
   "metadata": {},
   "outputs": [],
   "source": [
    "# refactoring\n",
    "def geometric_mean(*nums):\n",
    "    mult = 1\n",
    "    for x in nums:\n",
    "        mult *= x\n",
    "    result = mult ** (1/len(nums))\n",
    "    return result\n"
   ]
  },
  {
   "cell_type": "code",
   "execution_count": 9,
   "metadata": {},
   "outputs": [
    {
     "name": "stdout",
     "output_type": "stream",
     "text": [
      "1.0796840350617745\n",
      "0.8318375777038735\n",
      "1.4658972088782376\n"
     ]
    }
   ],
   "source": [
    "print(geometric_mean(1.1, 0.9, 1.2, 1.3, 0.95))\n",
    "print(geometric_mean(0.8, 0.7, 0.9, 0.95))\n",
    "print(geometric_mean(1.5, 1.4, 1.5))"
   ]
  },
  {
   "cell_type": "code",
   "execution_count": 13,
   "metadata": {},
   "outputs": [
    {
     "name": "stdout",
     "output_type": "stream",
     "text": [
      "Winners: 3\n"
     ]
    }
   ],
   "source": [
    "# optimizing\n",
    "import time\n",
    "\n",
    "# don't change this\n",
    "def get_winners():\n",
    "    # make this function slow, for the sake of the exercise\n",
    "    time.sleep(0.1)\n",
    "    return [999, 100, 150, 11, 555]\n",
    "\n",
    "# can you make this function faster?\n",
    "def count_winners(nums):\n",
    "    winners = get_winners()\n",
    "    count = 0\n",
    "    for num in nums:\n",
    "        if num in winners:\n",
    "            count += 1\n",
    "    return count\n",
    "\n",
    "# don't change this either\n",
    "nums = []\n",
    "for i in range(200):\n",
    "    nums.append(i)\n",
    "\n",
    "print(\"Winners:\", count_winners(nums))\n"
   ]
  },
  {
   "cell_type": "code",
   "execution_count": 14,
   "metadata": {},
   "outputs": [
    {
     "name": "stdout",
     "output_type": "stream",
     "text": [
      "[4, 3, 2, 1, 0]\n",
      "[4, 3, 2, 1, 0]\n"
     ]
    }
   ],
   "source": [
    "# lists: remove vs. pop\n",
    "nums = [5,4,3,2,1,0]\n",
    "nums.pop(0)\n",
    "print(nums)\n",
    "nums = [5,4,3,2,1,0]\n",
    "nums.remove(5)\n",
    "print(nums)"
   ]
  },
  {
   "cell_type": "code",
   "execution_count": 16,
   "metadata": {},
   "outputs": [
    {
     "name": "stdout",
     "output_type": "stream",
     "text": [
      "[5, 4, 3, 2, 1]\n",
      "[5, 4, 3, 2, 1]\n"
     ]
    }
   ],
   "source": [
    "nums = [5,4,3,2,1,0]\n",
    "nums.pop(-1)\n",
    "print(nums)\n",
    "nums = [5,4,3,2,1,0]\n",
    "nums.remove(0)\n",
    "print(nums)"
   ]
  },
  {
   "cell_type": "code",
   "execution_count": 18,
   "metadata": {},
   "outputs": [
    {
     "name": "stdout",
     "output_type": "stream",
     "text": [
      "[5, 4, 3, 2, 0]\n",
      "[5, 4, 3, 2, 0]\n"
     ]
    }
   ],
   "source": [
    "nums = [5,4,3,2,1,0]\n",
    "nums.pop(-2)\n",
    "print(nums)\n",
    "nums = [5,4,3,2,1,0]\n",
    "nums.remove(1)\n",
    "print(nums)"
   ]
  },
  {
   "cell_type": "code",
   "execution_count": 19,
   "metadata": {},
   "outputs": [
    {
     "name": "stdout",
     "output_type": "stream",
     "text": [
      "['A', 'C']\n",
      "['A', 'C']\n"
     ]
    }
   ],
   "source": [
    "nums = [\"A\", \"B\", \"C\"]\n",
    "nums.pop(1)\n",
    "print(nums)\n",
    "nums = [\"A\", \"B\", \"C\"]\n",
    "nums.remove(\"B\")\n",
    "print(nums)"
   ]
  },
  {
   "cell_type": "code",
   "execution_count": 20,
   "metadata": {},
   "outputs": [
    {
     "name": "stdout",
     "output_type": "stream",
     "text": [
      "[-1, 0, 1, 2]\n",
      "[-1, 0, 1, 2]\n"
     ]
    }
   ],
   "source": [
    "nums = [-2,-1,0,1,2]\n",
    "nums.pop(0)\n",
    "print(nums)\n",
    "nums = [-2,-1,0,1,2]\n",
    "nums.remove(-2)\n",
    "print(nums)"
   ]
  },
  {
   "cell_type": "code",
   "execution_count": 21,
   "metadata": {},
   "outputs": [
    {
     "name": "stdout",
     "output_type": "stream",
     "text": [
      "[-2, -1, 1, 2]\n",
      "[-2, -1, 1, 2]\n"
     ]
    }
   ],
   "source": [
    "nums = [-2,-1,0,1,2]\n",
    "nums.pop(-3)\n",
    "print(nums)\n",
    "nums = [-2,-1,0,1,2]\n",
    "nums.remove(0)\n",
    "print(nums)"
   ]
  },
  {
   "cell_type": "code",
   "execution_count": 22,
   "metadata": {},
   "outputs": [
    {
     "name": "stdout",
     "output_type": "stream",
     "text": [
      "looping over value: 100\n",
      "looping over value: 200\n",
      "looping over value: 300\n",
      "total: 600\n"
     ]
    }
   ],
   "source": [
    "# type conversion 1\n",
    "values = [\"100\", \"200\", \"300\"]\n",
    "total = 0\n",
    "\n",
    "for x in values:\n",
    "    print(\"looping over value:\", x)\n",
    "    total += int(x)\n",
    "print(\"total:\", total)\n"
   ]
  },
  {
   "cell_type": "code",
   "execution_count": 23,
   "metadata": {},
   "outputs": [
    {
     "name": "stdout",
     "output_type": "stream",
     "text": [
      "looping over index: 0\n",
      "looping over index: 1\n",
      "looping over index: 2\n",
      "total: 600\n"
     ]
    }
   ],
   "source": [
    "# type conversion 2\n",
    "values = [\"100\", \"200\", \"300\"]\n",
    "\n",
    "for i in range(len(values)):\n",
    "    print(\"looping over index:\", i)\n",
    "    values[i] = int(values[i])\n",
    "\n",
    "print(\"total:\", sum(values))"
   ]
  },
  {
   "cell_type": "code",
   "execution_count": 25,
   "metadata": {},
   "outputs": [
    {
     "name": "stdout",
     "output_type": "stream",
     "text": [
      "The values are [3, 2, 1]\n",
      "The median is 2\n",
      "The values are still [3, 2, 1]\n"
     ]
    }
   ],
   "source": [
    "# copying\n",
    "import copy\n",
    "\n",
    "def median(nums):\n",
    "    nums = nums.copy()\n",
    "    nums.sort()\n",
    "    if len(nums) % 2 == 1:\n",
    "        return nums[len(nums) // 2]\n",
    "    else:\n",
    "        v1 = nums[len(nums) // 2]\n",
    "        v2 = nums[len(nums) // 2 - 1]\n",
    "        return (v1+v2) / 2\n",
    "\n",
    "values = [3,2,1]\n",
    "print(\"The values are\", values)\n",
    "print(\"The median is\", median(values))\n",
    "print(\"The values are still\", values)\n"
   ]
  }
 ],
 "metadata": {
  "kernelspec": {
   "display_name": "Python 3.10.4 64-bit",
   "language": "python",
   "name": "python3"
  },
  "language_info": {
   "codemirror_mode": {
    "name": "ipython",
    "version": 3
   },
   "file_extension": ".py",
   "mimetype": "text/x-python",
   "name": "python",
   "nbconvert_exporter": "python",
   "pygments_lexer": "ipython3",
   "version": "3.10.4"
  },
  "orig_nbformat": 4,
  "vscode": {
   "interpreter": {
    "hash": "aee8b7b246df8f9039afb4144a1f6fd8d2ca17a180786b69acc140d282b71a49"
   }
  }
 },
 "nbformat": 4,
 "nbformat_minor": 2
}
