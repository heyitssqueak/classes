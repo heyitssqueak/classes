{
 "cells": [
  {
   "cell_type": "code",
   "execution_count": 1,
   "id": "79eedd62",
   "metadata": {},
   "outputs": [
    {
     "data": {
      "text/plain": [
       "'Gligar'"
      ]
     },
     "execution_count": 1,
     "metadata": {},
     "output_type": "execute_result"
    }
   ],
   "source": [
    "#q1\n",
    "import project\n",
    "import math\n",
    "\n",
    "def get_stat_total(pkmn):\n",
    "    return (project.get_attack(pkmn) + project.get_defense(pkmn) + project.get_hp(pkmn) + project.get_sp_atk(pkmn) + project.get_sp_def(pkmn) + project.get_speed(pkmn))\n",
    "\n",
    "def simple_battle(p1, p2):\n",
    "    if abs(get_stat_total(p1) - get_stat_total(p2)) < 20:\n",
    "        return \"Draw\"\n",
    "    elif get_stat_total(p1) > get_stat_total(p2):\n",
    "        return p1\n",
    "    elif get_stat_total(p1) < get_stat_total(p2):\n",
    "        return p2\n",
    "    \n",
    "simple_battle(\"Gligar\", \"Pidgeotto\")"
   ]
  },
  {
   "cell_type": "code",
   "execution_count": 2,
   "id": "3306cb12",
   "metadata": {},
   "outputs": [
    {
     "data": {
      "text/plain": [
       "'Pidgeot'"
      ]
     },
     "execution_count": 2,
     "metadata": {},
     "output_type": "execute_result"
    }
   ],
   "source": [
    "#q2\n",
    "simple_battle(\"Gligar\", \"Pidgeot\")"
   ]
  },
  {
   "cell_type": "code",
   "execution_count": 3,
   "id": "4f5d0fc6",
   "metadata": {},
   "outputs": [
    {
     "data": {
      "text/plain": [
       "'Draw'"
      ]
     },
     "execution_count": 3,
     "metadata": {},
     "output_type": "execute_result"
    }
   ],
   "source": [
    "#q3\n",
    "simple_battle(\"Chikorita\", \"Turtwig\")"
   ]
  },
  {
   "cell_type": "code",
   "execution_count": 4,
   "id": "1ef64f3f",
   "metadata": {},
   "outputs": [
    {
     "data": {
      "text/plain": [
       "'Draw'"
      ]
     },
     "execution_count": 4,
     "metadata": {},
     "output_type": "execute_result"
    }
   ],
   "source": [
    "#q4\n",
    "simple_battle(\"Kingler\", \"Staraptor\")"
   ]
  },
  {
   "cell_type": "code",
   "execution_count": 5,
   "id": "8768534a",
   "metadata": {},
   "outputs": [
    {
     "data": {
      "text/plain": [
       "'Draw'"
      ]
     },
     "execution_count": 5,
     "metadata": {},
     "output_type": "execute_result"
    }
   ],
   "source": [
    "#q5\n",
    "simple_battle(\"Heracross\", \"Krookodile\")"
   ]
  },
  {
   "cell_type": "code",
   "execution_count": 6,
   "id": "c6a478b5",
   "metadata": {},
   "outputs": [],
   "source": [
    "def most_damage(attacker, defender):\n",
    "    if project.get_attack(attacker)/project.get_defense(defender) > project.get_sp_atk(attacker)/project.get_sp_def(defender): # physical move\n",
    "        return 10 * project.get_attack(attacker)/project.get_defense(defender)\n",
    "    else: # special move\n",
    "        return 10 * project.get_sp_atk(attacker)/project.get_sp_def(defender)\n"
   ]
  },
  {
   "cell_type": "code",
   "execution_count": 7,
   "id": "3676021b",
   "metadata": {},
   "outputs": [
    {
     "data": {
      "text/plain": [
       "12.096774193548388"
      ]
     },
     "execution_count": 7,
     "metadata": {},
     "output_type": "execute_result"
    }
   ],
   "source": [
    "most_damage(\"Scraggy\", \"Tranquill\")"
   ]
  },
  {
   "cell_type": "code",
   "execution_count": 8,
   "id": "7c6d9a54",
   "metadata": {},
   "outputs": [
    {
     "data": {
      "text/plain": [
       "3.3333333333333335"
      ]
     },
     "execution_count": 8,
     "metadata": {},
     "output_type": "execute_result"
    }
   ],
   "source": [
    "#q6\n",
    "most_damage(\"Caterpie\", \"Incineroar\")"
   ]
  },
  {
   "cell_type": "code",
   "execution_count": 9,
   "id": "d35ebbd2",
   "metadata": {},
   "outputs": [
    {
     "data": {
      "text/plain": [
       "31.75"
      ]
     },
     "execution_count": 9,
     "metadata": {},
     "output_type": "execute_result"
    }
   ],
   "source": [
    "#q7\n",
    "most_damage(\"Naganadel\", \"Rockruff\")"
   ]
  },
  {
   "cell_type": "code",
   "execution_count": 10,
   "id": "98cca2bb",
   "metadata": {},
   "outputs": [
    {
     "data": {
      "text/plain": [
       "9.166666666666666"
      ]
     },
     "execution_count": 10,
     "metadata": {},
     "output_type": "execute_result"
    }
   ],
   "source": [
    "#q8\n",
    "most_damage(\"Taillow\", \"Swellow\")"
   ]
  },
  {
   "cell_type": "code",
   "execution_count": 11,
   "id": "8f3c00d0",
   "metadata": {},
   "outputs": [
    {
     "data": {
      "text/plain": [
       "28.333333333333332"
      ]
     },
     "execution_count": 11,
     "metadata": {},
     "output_type": "execute_result"
    }
   ],
   "source": [
    "#q9\n",
    "most_damage(\"Swellow\", \"Taillow\")"
   ]
  },
  {
   "cell_type": "code",
   "execution_count": 12,
   "id": "e2bbbf8b",
   "metadata": {},
   "outputs": [],
   "source": [
    "def num_hits(attacker, defender):\n",
    "    return math.ceil(project.get_hp(defender)/most_damage(attacker, defender))"
   ]
  },
  {
   "cell_type": "code",
   "execution_count": 13,
   "id": "ed57f1ce",
   "metadata": {},
   "outputs": [
    {
     "data": {
      "text/plain": [
       "3"
      ]
     },
     "execution_count": 13,
     "metadata": {},
     "output_type": "execute_result"
    }
   ],
   "source": [
    "#q10\n",
    "num_hits(\"Gible\", \"Goomy\")"
   ]
  },
  {
   "cell_type": "code",
   "execution_count": 14,
   "id": "69730a51",
   "metadata": {},
   "outputs": [
    {
     "data": {
      "text/plain": [
       "14"
      ]
     },
     "execution_count": 14,
     "metadata": {},
     "output_type": "execute_result"
    }
   ],
   "source": [
    "#q11\n",
    "num_hits(\"Aipom\", \"Donphan\")"
   ]
  },
  {
   "cell_type": "code",
   "execution_count": 15,
   "id": "fba8897c",
   "metadata": {},
   "outputs": [
    {
     "data": {
      "text/plain": [
       "3"
      ]
     },
     "execution_count": 15,
     "metadata": {},
     "output_type": "execute_result"
    }
   ],
   "source": [
    "#q12\n",
    "num_hits(\"Donphan\", \"Aipom\")"
   ]
  },
  {
   "cell_type": "code",
   "execution_count": 22,
   "id": "a42ed9da",
   "metadata": {},
   "outputs": [],
   "source": [
    "def battle(pkmn1, pkmn2):\n",
    "    #TODO: Return the name of the pkmn that can take more hits from the other\n",
    "    # pkmn. If both pkmn faint within the same number of moves, return the\n",
    "    # string 'Draw'\n",
    "    if num_hits(pkmn1, pkmn2) > num_hits(pkmn2, pkmn1):\n",
    "        return pkmn2\n",
    "    elif num_hits(pkmn1, pkmn2) < num_hits(pkmn2, pkmn1):\n",
    "        return pkmn1\n",
    "    else:\n",
    "        if(project.get_speed(pkmn1) > project.get_speed(pkmn2)):\n",
    "            return pkmn1\n",
    "        else:\n",
    "            return pkmn2"
   ]
  },
  {
   "cell_type": "code",
   "execution_count": 23,
   "id": "8859a23d",
   "metadata": {},
   "outputs": [
    {
     "data": {
      "text/plain": [
       "'Torterra'"
      ]
     },
     "execution_count": 23,
     "metadata": {},
     "output_type": "execute_result"
    }
   ],
   "source": [
    "#q13\n",
    "battle(\"Infernape\", \"Torterra\")"
   ]
  },
  {
   "cell_type": "code",
   "execution_count": 24,
   "id": "9a03c99b",
   "metadata": {},
   "outputs": [
    {
     "data": {
      "text/plain": [
       "'Sceptile'"
      ]
     },
     "execution_count": 24,
     "metadata": {},
     "output_type": "execute_result"
    }
   ],
   "source": [
    "#q14\n",
    "battle(\"Torkoal\", \"Sceptile\")"
   ]
  },
  {
   "cell_type": "code",
   "execution_count": 26,
   "id": "eb602a94",
   "metadata": {},
   "outputs": [
    {
     "data": {
      "text/plain": [
       "'Tepig'"
      ]
     },
     "execution_count": 26,
     "metadata": {},
     "output_type": "execute_result"
    }
   ],
   "source": [
    "#q15\n",
    "battle(\"Tepig\", \"Oshawott\")"
   ]
  },
  {
   "cell_type": "code",
   "execution_count": 27,
   "id": "c6f023a2",
   "metadata": {},
   "outputs": [
    {
     "data": {
      "text/plain": [
       "'Bulbasaur'"
      ]
     },
     "execution_count": 27,
     "metadata": {},
     "output_type": "execute_result"
    }
   ],
   "source": [
    "#q16\n",
    "battle(\"Bulbasaur\", \"Squirtle\")"
   ]
  },
  {
   "cell_type": "code",
   "execution_count": 28,
   "id": "869de452",
   "metadata": {},
   "outputs": [
    {
     "data": {
      "text/plain": [
       "'Greninja'"
      ]
     },
     "execution_count": 28,
     "metadata": {},
     "output_type": "execute_result"
    }
   ],
   "source": [
    "#q17\n",
    "battle(\"Greninja\", \"Hawlucha\")"
   ]
  },
  {
   "cell_type": "code",
   "execution_count": 30,
   "id": "9490a548",
   "metadata": {},
   "outputs": [
    {
     "data": {
      "text/plain": [
       "'Snorlax'"
      ]
     },
     "execution_count": 30,
     "metadata": {},
     "output_type": "execute_result"
    }
   ],
   "source": [
    "#q18\n",
    "battle(\"Snorlax\", \"Charizard\")"
   ]
  },
  {
   "cell_type": "code",
   "execution_count": 38,
   "id": "c4618dce",
   "metadata": {},
   "outputs": [],
   "source": [
    "def final_battle(attacker, defender):\n",
    "    if project.get_region(attacker) != project.get_region(defender):\n",
    "        if project.get_type1(attacker) == \"Flying\" or project.get_type2(attacker) == \"Flying\":\n",
    "            return battle(attacker, defender)\n",
    "        \n",
    "        return \"Cannot battle\"\n",
    "    else:\n",
    "        return battle(attacker, defender)"
   ]
  },
  {
   "cell_type": "code",
   "execution_count": 40,
   "id": "01a556d3",
   "metadata": {},
   "outputs": [
    {
     "data": {
      "text/plain": [
       "'Cannot battle'"
      ]
     },
     "execution_count": 40,
     "metadata": {},
     "output_type": "execute_result"
    }
   ],
   "source": [
    "#q19\n",
    "final_battle(\"Pikachu\", \"Snivy\")"
   ]
  },
  {
   "cell_type": "code",
   "execution_count": 42,
   "id": "92cb1646",
   "metadata": {},
   "outputs": [
    {
     "data": {
      "text/plain": [
       "'Dragonite'"
      ]
     },
     "execution_count": 42,
     "metadata": {},
     "output_type": "execute_result"
    }
   ],
   "source": [
    "#q20\n",
    "final_battle(\"Dragonite\", \"Goodra\")"
   ]
  }
 ],
 "metadata": {
  "kernelspec": {
   "display_name": "Python 3 (ipykernel)",
   "language": "python",
   "name": "python3"
  },
  "language_info": {
   "codemirror_mode": {
    "name": "ipython",
    "version": 3
   },
   "file_extension": ".py",
   "mimetype": "text/x-python",
   "name": "python",
   "nbconvert_exporter": "python",
   "pygments_lexer": "ipython3",
   "version": "3.9.13"
  }
 },
 "nbformat": 4,
 "nbformat_minor": 5
}
