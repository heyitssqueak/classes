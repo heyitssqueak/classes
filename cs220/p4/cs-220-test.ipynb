{
 "cells": [
  {
   "cell_type": "code",
   "execution_count": 1,
   "id": "79eedd62",
   "metadata": {
    "execution": {
     "iopub.execute_input": "2022-06-26T18:06:52.402661Z",
     "iopub.status.busy": "2022-06-26T18:06:52.401804Z",
     "iopub.status.idle": "2022-06-26T18:06:52.421457Z",
     "shell.execute_reply": "2022-06-26T18:06:52.421035Z"
    }
   },
   "outputs": [
    {
     "data": {
      "text/plain": [
       "'Gligar'"
      ]
     },
     "execution_count": 1,
     "metadata": {},
     "output_type": "execute_result"
    }
   ],
   "source": [
    "#q1\n",
    "import project\n",
    "import math\n",
    "\n",
    "def get_stat_total(pkmn):\n",
    "    return (project.get_attack(pkmn) + project.get_defense(pkmn) + project.get_hp(pkmn) + project.get_sp_atk(pkmn) + project.get_sp_def(pkmn) + project.get_speed(pkmn))\n",
    "\n",
    "def simple_battle(p1, p2):\n",
    "    if abs(get_stat_total(p1) - get_stat_total(p2)) < 20:\n",
    "        return \"Draw\"\n",
    "    elif get_stat_total(p1) > get_stat_total(p2):\n",
    "        return p1\n",
    "    elif get_stat_total(p1) < get_stat_total(p2):\n",
    "        return p2\n",
    "    \n",
    "simple_battle(\"Gligar\", \"Pidgeotto\")"
   ]
  },
  {
   "cell_type": "code",
   "execution_count": 2,
   "id": "3306cb12",
   "metadata": {
    "execution": {
     "iopub.execute_input": "2022-06-26T18:06:52.423935Z",
     "iopub.status.busy": "2022-06-26T18:06:52.423760Z",
     "iopub.status.idle": "2022-06-26T18:06:52.427171Z",
     "shell.execute_reply": "2022-06-26T18:06:52.426623Z"
    }
   },
   "outputs": [
    {
     "data": {
      "text/plain": [
       "'Pidgeot'"
      ]
     },
     "execution_count": 2,
     "metadata": {},
     "output_type": "execute_result"
    }
   ],
   "source": [
    "#q2\n",
    "simple_battle(\"Gligar\", \"Pidgeot\")"
   ]
  },
  {
   "cell_type": "code",
   "execution_count": 3,
   "id": "4f5d0fc6",
   "metadata": {
    "execution": {
     "iopub.execute_input": "2022-06-26T18:06:52.429477Z",
     "iopub.status.busy": "2022-06-26T18:06:52.429326Z",
     "iopub.status.idle": "2022-06-26T18:06:52.432298Z",
     "shell.execute_reply": "2022-06-26T18:06:52.431968Z"
    }
   },
   "outputs": [
    {
     "data": {
      "text/plain": [
       "'Draw'"
      ]
     },
     "execution_count": 3,
     "metadata": {},
     "output_type": "execute_result"
    }
   ],
   "source": [
    "#q3\n",
    "simple_battle(\"Chikorita\", \"Turtwig\")"
   ]
  },
  {
   "cell_type": "code",
   "execution_count": 4,
   "id": "1ef64f3f",
   "metadata": {
    "execution": {
     "iopub.execute_input": "2022-06-26T18:06:52.434207Z",
     "iopub.status.busy": "2022-06-26T18:06:52.434055Z",
     "iopub.status.idle": "2022-06-26T18:06:52.436524Z",
     "shell.execute_reply": "2022-06-26T18:06:52.436245Z"
    }
   },
   "outputs": [
    {
     "data": {
      "text/plain": [
       "'Draw'"
      ]
     },
     "execution_count": 4,
     "metadata": {},
     "output_type": "execute_result"
    }
   ],
   "source": [
    "#q4\n",
    "simple_battle(\"Kingler\", \"Staraptor\")"
   ]
  },
  {
   "cell_type": "code",
   "execution_count": 5,
   "id": "8768534a",
   "metadata": {
    "execution": {
     "iopub.execute_input": "2022-06-26T18:06:52.438412Z",
     "iopub.status.busy": "2022-06-26T18:06:52.438266Z",
     "iopub.status.idle": "2022-06-26T18:06:52.440726Z",
     "shell.execute_reply": "2022-06-26T18:06:52.440430Z"
    }
   },
   "outputs": [
    {
     "data": {
      "text/plain": [
       "'Draw'"
      ]
     },
     "execution_count": 5,
     "metadata": {},
     "output_type": "execute_result"
    }
   ],
   "source": [
    "#q5\n",
    "simple_battle(\"Heracross\", \"Krookodile\")"
   ]
  },
  {
   "cell_type": "code",
   "execution_count": 6,
   "id": "c6a478b5",
   "metadata": {
    "execution": {
     "iopub.execute_input": "2022-06-26T18:06:52.442537Z",
     "iopub.status.busy": "2022-06-26T18:06:52.442408Z",
     "iopub.status.idle": "2022-06-26T18:06:52.444807Z",
     "shell.execute_reply": "2022-06-26T18:06:52.444533Z"
    }
   },
   "outputs": [],
   "source": [
    "def most_damage(attacker, defender):\n",
    "    if project.get_attack(attacker)/project.get_defense(defender) > project.get_sp_atk(attacker)/project.get_sp_def(defender): # physical move\n",
    "        return 10 * project.get_attack(attacker)/project.get_defense(defender)\n",
    "    else: # special move\n",
    "        return 10 * project.get_sp_atk(attacker)/project.get_sp_def(defender)\n"
   ]
  },
  {
   "cell_type": "code",
   "execution_count": 7,
   "id": "3676021b",
   "metadata": {
    "execution": {
     "iopub.execute_input": "2022-06-26T18:06:52.446434Z",
     "iopub.status.busy": "2022-06-26T18:06:52.446313Z",
     "iopub.status.idle": "2022-06-26T18:06:52.448810Z",
     "shell.execute_reply": "2022-06-26T18:06:52.448530Z"
    }
   },
   "outputs": [
    {
     "data": {
      "text/plain": [
       "12.096774193548388"
      ]
     },
     "execution_count": 7,
     "metadata": {},
     "output_type": "execute_result"
    }
   ],
   "source": [
    "most_damage(\"Scraggy\", \"Tranquill\")"
   ]
  },
  {
   "cell_type": "code",
   "execution_count": 8,
   "id": "7c6d9a54",
   "metadata": {
    "execution": {
     "iopub.execute_input": "2022-06-26T18:06:52.450589Z",
     "iopub.status.busy": "2022-06-26T18:06:52.450461Z",
     "iopub.status.idle": "2022-06-26T18:06:52.452703Z",
     "shell.execute_reply": "2022-06-26T18:06:52.452454Z"
    }
   },
   "outputs": [
    {
     "data": {
      "text/plain": [
       "3.3333333333333335"
      ]
     },
     "execution_count": 8,
     "metadata": {},
     "output_type": "execute_result"
    }
   ],
   "source": [
    "#q6\n",
    "most_damage(\"Caterpie\", \"Incineroar\")"
   ]
  },
  {
   "cell_type": "code",
   "execution_count": 9,
   "id": "d35ebbd2",
   "metadata": {
    "execution": {
     "iopub.execute_input": "2022-06-26T18:06:52.454291Z",
     "iopub.status.busy": "2022-06-26T18:06:52.454172Z",
     "iopub.status.idle": "2022-06-26T18:06:52.456284Z",
     "shell.execute_reply": "2022-06-26T18:06:52.456026Z"
    }
   },
   "outputs": [
    {
     "data": {
      "text/plain": [
       "31.75"
      ]
     },
     "execution_count": 9,
     "metadata": {},
     "output_type": "execute_result"
    }
   ],
   "source": [
    "#q7\n",
    "most_damage(\"Naganadel\", \"Rockruff\")"
   ]
  },
  {
   "cell_type": "code",
   "execution_count": 10,
   "id": "98cca2bb",
   "metadata": {
    "execution": {
     "iopub.execute_input": "2022-06-26T18:06:52.457809Z",
     "iopub.status.busy": "2022-06-26T18:06:52.457696Z",
     "iopub.status.idle": "2022-06-26T18:06:52.459829Z",
     "shell.execute_reply": "2022-06-26T18:06:52.459552Z"
    }
   },
   "outputs": [
    {
     "data": {
      "text/plain": [
       "9.166666666666666"
      ]
     },
     "execution_count": 10,
     "metadata": {},
     "output_type": "execute_result"
    }
   ],
   "source": [
    "#q8\n",
    "most_damage(\"Taillow\", \"Swellow\")"
   ]
  },
  {
   "cell_type": "code",
   "execution_count": 11,
   "id": "8f3c00d0",
   "metadata": {
    "execution": {
     "iopub.execute_input": "2022-06-26T18:06:52.461328Z",
     "iopub.status.busy": "2022-06-26T18:06:52.461213Z",
     "iopub.status.idle": "2022-06-26T18:06:52.463257Z",
     "shell.execute_reply": "2022-06-26T18:06:52.463029Z"
    }
   },
   "outputs": [
    {
     "data": {
      "text/plain": [
       "28.333333333333332"
      ]
     },
     "execution_count": 11,
     "metadata": {},
     "output_type": "execute_result"
    }
   ],
   "source": [
    "#q9\n",
    "most_damage(\"Swellow\", \"Taillow\")"
   ]
  },
  {
   "cell_type": "code",
   "execution_count": 12,
   "id": "e2bbbf8b",
   "metadata": {
    "execution": {
     "iopub.execute_input": "2022-06-26T18:06:52.464726Z",
     "iopub.status.busy": "2022-06-26T18:06:52.464628Z",
     "iopub.status.idle": "2022-06-26T18:06:52.466366Z",
     "shell.execute_reply": "2022-06-26T18:06:52.466139Z"
    }
   },
   "outputs": [],
   "source": [
    "def num_hits(attacker, defender):\n",
    "    return math.ceil(project.get_hp(defender)/most_damage(attacker, defender))"
   ]
  },
  {
   "cell_type": "code",
   "execution_count": 13,
   "id": "ed57f1ce",
   "metadata": {
    "execution": {
     "iopub.execute_input": "2022-06-26T18:06:52.467702Z",
     "iopub.status.busy": "2022-06-26T18:06:52.467621Z",
     "iopub.status.idle": "2022-06-26T18:06:52.469763Z",
     "shell.execute_reply": "2022-06-26T18:06:52.469524Z"
    }
   },
   "outputs": [
    {
     "data": {
      "text/plain": [
       "3"
      ]
     },
     "execution_count": 13,
     "metadata": {},
     "output_type": "execute_result"
    }
   ],
   "source": [
    "#q10\n",
    "num_hits(\"Gible\", \"Goomy\")"
   ]
  },
  {
   "cell_type": "code",
   "execution_count": 14,
   "id": "69730a51",
   "metadata": {
    "execution": {
     "iopub.execute_input": "2022-06-26T18:06:52.471170Z",
     "iopub.status.busy": "2022-06-26T18:06:52.471065Z",
     "iopub.status.idle": "2022-06-26T18:06:52.473066Z",
     "shell.execute_reply": "2022-06-26T18:06:52.472821Z"
    }
   },
   "outputs": [
    {
     "data": {
      "text/plain": [
       "14"
      ]
     },
     "execution_count": 14,
     "metadata": {},
     "output_type": "execute_result"
    }
   ],
   "source": [
    "#q11\n",
    "num_hits(\"Aipom\", \"Donphan\")"
   ]
  },
  {
   "cell_type": "code",
   "execution_count": 15,
   "id": "fba8897c",
   "metadata": {
    "execution": {
     "iopub.execute_input": "2022-06-26T18:06:52.475018Z",
     "iopub.status.busy": "2022-06-26T18:06:52.474902Z",
     "iopub.status.idle": "2022-06-26T18:06:52.476887Z",
     "shell.execute_reply": "2022-06-26T18:06:52.476653Z"
    }
   },
   "outputs": [
    {
     "data": {
      "text/plain": [
       "3"
      ]
     },
     "execution_count": 15,
     "metadata": {},
     "output_type": "execute_result"
    }
   ],
   "source": [
    "#q12\n",
    "num_hits(\"Donphan\", \"Aipom\")"
   ]
  },
  {
   "cell_type": "code",
   "execution_count": 16,
   "id": "a42ed9da",
   "metadata": {
    "execution": {
     "iopub.execute_input": "2022-06-26T18:06:52.478279Z",
     "iopub.status.busy": "2022-06-26T18:06:52.478184Z",
     "iopub.status.idle": "2022-06-26T18:06:52.480336Z",
     "shell.execute_reply": "2022-06-26T18:06:52.480117Z"
    }
   },
   "outputs": [],
   "source": [
    "def battle(pkmn1, pkmn2):\n",
    "    #TODO: Return the name of the pkmn that can take more hits from the other\n",
    "    # pkmn. If both pkmn faint within the same number of moves, return the\n",
    "    # string 'Draw'\n",
    "    if num_hits(pkmn1, pkmn2) > num_hits(pkmn2, pkmn1):\n",
    "        return pkmn2\n",
    "    elif num_hits(pkmn1, pkmn2) < num_hits(pkmn2, pkmn1):\n",
    "        return pkmn1\n",
    "    else:\n",
    "        if(project.get_speed(pkmn1) > project.get_speed(pkmn2)):\n",
    "            return pkmn1\n",
    "        else:\n",
    "            return pkmn2"
   ]
  },
  {
   "cell_type": "code",
   "execution_count": 17,
   "id": "8859a23d",
   "metadata": {
    "execution": {
     "iopub.execute_input": "2022-06-26T18:06:52.481795Z",
     "iopub.status.busy": "2022-06-26T18:06:52.481701Z",
     "iopub.status.idle": "2022-06-26T18:06:52.483649Z",
     "shell.execute_reply": "2022-06-26T18:06:52.483422Z"
    }
   },
   "outputs": [
    {
     "data": {
      "text/plain": [
       "'Torterra'"
      ]
     },
     "execution_count": 17,
     "metadata": {},
     "output_type": "execute_result"
    }
   ],
   "source": [
    "#q13\n",
    "battle(\"Infernape\", \"Torterra\")"
   ]
  },
  {
   "cell_type": "code",
   "execution_count": 18,
   "id": "9a03c99b",
   "metadata": {
    "execution": {
     "iopub.execute_input": "2022-06-26T18:06:52.485000Z",
     "iopub.status.busy": "2022-06-26T18:06:52.484908Z",
     "iopub.status.idle": "2022-06-26T18:06:52.486836Z",
     "shell.execute_reply": "2022-06-26T18:06:52.486621Z"
    }
   },
   "outputs": [
    {
     "data": {
      "text/plain": [
       "'Sceptile'"
      ]
     },
     "execution_count": 18,
     "metadata": {},
     "output_type": "execute_result"
    }
   ],
   "source": [
    "#q14\n",
    "battle(\"Torkoal\", \"Sceptile\")"
   ]
  },
  {
   "cell_type": "code",
   "execution_count": 19,
   "id": "eb602a94",
   "metadata": {
    "execution": {
     "iopub.execute_input": "2022-06-26T18:06:52.488268Z",
     "iopub.status.busy": "2022-06-26T18:06:52.488172Z",
     "iopub.status.idle": "2022-06-26T18:06:52.490125Z",
     "shell.execute_reply": "2022-06-26T18:06:52.489907Z"
    }
   },
   "outputs": [
    {
     "data": {
      "text/plain": [
       "'Tepig'"
      ]
     },
     "execution_count": 19,
     "metadata": {},
     "output_type": "execute_result"
    }
   ],
   "source": [
    "#q15\n",
    "battle(\"Tepig\", \"Oshawott\")"
   ]
  },
  {
   "cell_type": "code",
   "execution_count": 20,
   "id": "c6f023a2",
   "metadata": {
    "execution": {
     "iopub.execute_input": "2022-06-26T18:06:52.491465Z",
     "iopub.status.busy": "2022-06-26T18:06:52.491372Z",
     "iopub.status.idle": "2022-06-26T18:06:52.493304Z",
     "shell.execute_reply": "2022-06-26T18:06:52.493078Z"
    }
   },
   "outputs": [
    {
     "data": {
      "text/plain": [
       "'Bulbasaur'"
      ]
     },
     "execution_count": 20,
     "metadata": {},
     "output_type": "execute_result"
    }
   ],
   "source": [
    "#q16\n",
    "battle(\"Bulbasaur\", \"Squirtle\")"
   ]
  },
  {
   "cell_type": "code",
   "execution_count": 21,
   "id": "869de452",
   "metadata": {
    "execution": {
     "iopub.execute_input": "2022-06-26T18:06:52.494672Z",
     "iopub.status.busy": "2022-06-26T18:06:52.494573Z",
     "iopub.status.idle": "2022-06-26T18:06:52.496561Z",
     "shell.execute_reply": "2022-06-26T18:06:52.496320Z"
    }
   },
   "outputs": [
    {
     "data": {
      "text/plain": [
       "'Greninja'"
      ]
     },
     "execution_count": 21,
     "metadata": {},
     "output_type": "execute_result"
    }
   ],
   "source": [
    "#q17\n",
    "battle(\"Greninja\", \"Hawlucha\")"
   ]
  },
  {
   "cell_type": "code",
   "execution_count": 22,
   "id": "9490a548",
   "metadata": {
    "execution": {
     "iopub.execute_input": "2022-06-26T18:06:52.497939Z",
     "iopub.status.busy": "2022-06-26T18:06:52.497840Z",
     "iopub.status.idle": "2022-06-26T18:06:52.499694Z",
     "shell.execute_reply": "2022-06-26T18:06:52.499485Z"
    }
   },
   "outputs": [
    {
     "data": {
      "text/plain": [
       "'Snorlax'"
      ]
     },
     "execution_count": 22,
     "metadata": {},
     "output_type": "execute_result"
    }
   ],
   "source": [
    "#q18\n",
    "battle(\"Snorlax\", \"Charizard\")"
   ]
  },
  {
   "cell_type": "code",
   "execution_count": 23,
   "id": "c4618dce",
   "metadata": {
    "execution": {
     "iopub.execute_input": "2022-06-26T18:06:52.501225Z",
     "iopub.status.busy": "2022-06-26T18:06:52.501130Z",
     "iopub.status.idle": "2022-06-26T18:06:52.503102Z",
     "shell.execute_reply": "2022-06-26T18:06:52.502890Z"
    }
   },
   "outputs": [],
   "source": [
    "def final_battle(attacker, defender):\n",
    "    if project.get_region(attacker) != project.get_region(defender):\n",
    "        if project.get_type1(attacker) == \"Flying\" or project.get_type2(attacker) == \"Flying\":\n",
    "            return battle(attacker, defender)\n",
    "        \n",
    "        return \"Cannot battle\"\n",
    "    else:\n",
    "        return battle(attacker, defender)"
   ]
  },
  {
   "cell_type": "code",
   "execution_count": 24,
   "id": "01a556d3",
   "metadata": {
    "execution": {
     "iopub.execute_input": "2022-06-26T18:06:52.504484Z",
     "iopub.status.busy": "2022-06-26T18:06:52.504388Z",
     "iopub.status.idle": "2022-06-26T18:06:52.506408Z",
     "shell.execute_reply": "2022-06-26T18:06:52.506173Z"
    }
   },
   "outputs": [
    {
     "data": {
      "text/plain": [
       "'Cannot battle'"
      ]
     },
     "execution_count": 24,
     "metadata": {},
     "output_type": "execute_result"
    }
   ],
   "source": [
    "#q19\n",
    "final_battle(\"Pikachu\", \"Snivy\")"
   ]
  },
  {
   "cell_type": "code",
   "execution_count": 25,
   "id": "92cb1646",
   "metadata": {
    "execution": {
     "iopub.execute_input": "2022-06-26T18:06:52.507747Z",
     "iopub.status.busy": "2022-06-26T18:06:52.507648Z",
     "iopub.status.idle": "2022-06-26T18:06:52.509548Z",
     "shell.execute_reply": "2022-06-26T18:06:52.509314Z"
    }
   },
   "outputs": [
    {
     "data": {
      "text/plain": [
       "'Dragonite'"
      ]
     },
     "execution_count": 25,
     "metadata": {},
     "output_type": "execute_result"
    }
   ],
   "source": [
    "#q20\n",
    "final_battle(\"Dragonite\", \"Goodra\")"
   ]
  }
 ],
 "metadata": {
  "kernelspec": {
   "display_name": "Python 3 (ipykernel)",
   "language": "python",
   "name": "python3"
  },
  "language_info": {
   "codemirror_mode": {
    "name": "ipython",
    "version": 3
   },
   "file_extension": ".py",
   "mimetype": "text/x-python",
   "name": "python",
   "nbconvert_exporter": "python",
   "pygments_lexer": "ipython3",
   "version": "3.9.13"
  }
 },
 "nbformat": 4,
 "nbformat_minor": 5
}
