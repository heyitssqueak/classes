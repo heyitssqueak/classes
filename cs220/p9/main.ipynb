{
 "cells": [
  {
   "cell_type": "code",
   "execution_count": 1,
   "metadata": {},
   "outputs": [
    {
     "data": {
      "text/plain": [
       "['sample_reviews.json',\n",
       " 'sample_reviews.csv',\n",
       " 'review5.json',\n",
       " 'review5.csv',\n",
       " 'review4.json',\n",
       " 'review4.csv',\n",
       " 'review3.json',\n",
       " 'review3.csv',\n",
       " 'review2.json',\n",
       " 'review2.csv',\n",
       " 'review1.json',\n",
       " 'review1.csv',\n",
       " 'products.json']"
      ]
     },
     "execution_count": 1,
     "metadata": {},
     "output_type": "execute_result"
    }
   ],
   "source": [
    "#q1\n",
    "import os, json, csv\n",
    "\n",
    "sorted(os.listdir(\"data\"), reverse=True)"
   ]
  },
  {
   "cell_type": "code",
   "execution_count": 2,
   "metadata": {},
   "outputs": [
    {
     "data": {
      "text/plain": [
       "['data/sample_reviews.json',\n",
       " 'data/sample_reviews.csv',\n",
       " 'data/review5.json',\n",
       " 'data/review5.csv',\n",
       " 'data/review4.json',\n",
       " 'data/review4.csv',\n",
       " 'data/review3.json',\n",
       " 'data/review3.csv',\n",
       " 'data/review2.json',\n",
       " 'data/review2.csv',\n",
       " 'data/review1.json',\n",
       " 'data/review1.csv',\n",
       " 'data/products.json']"
      ]
     },
     "execution_count": 2,
     "metadata": {},
     "output_type": "execute_result"
    }
   ],
   "source": [
    "#q2\n",
    "file_paths = []\n",
    "for i in sorted(os.listdir(\"data\"), reverse=True):\n",
    "    file_paths.append(os.path.join(\"data\", i))\n",
    "\n",
    "sorted(file_paths, reverse=True)"
   ]
  },
  {
   "cell_type": "code",
   "execution_count": 3,
   "metadata": {},
   "outputs": [
    {
     "data": {
      "text/plain": [
       "['data/sample_reviews.json',\n",
       " 'data/review5.json',\n",
       " 'data/review4.json',\n",
       " 'data/review3.json',\n",
       " 'data/review2.json',\n",
       " 'data/review1.json',\n",
       " 'data/products.json']"
      ]
     },
     "execution_count": 3,
     "metadata": {},
     "output_type": "execute_result"
    }
   ],
   "source": [
    "#q3\n",
    "json_paths = []\n",
    "for path in file_paths:\n",
    "    if \".json\" in path:\n",
    "        json_paths.append(path)\n",
    "\n",
    "json_paths"
   ]
  },
  {
   "cell_type": "code",
   "execution_count": 4,
   "metadata": {},
   "outputs": [
    {
     "data": {
      "text/plain": [
       "['data/review5.json',\n",
       " 'data/review5.csv',\n",
       " 'data/review4.json',\n",
       " 'data/review4.csv',\n",
       " 'data/review3.json',\n",
       " 'data/review3.csv',\n",
       " 'data/review2.json',\n",
       " 'data/review2.csv',\n",
       " 'data/review1.json',\n",
       " 'data/review1.csv']"
      ]
     },
     "execution_count": 4,
     "metadata": {},
     "output_type": "execute_result"
    }
   ],
   "source": [
    "#q4\n",
    "review_paths = []\n",
    "for i in sorted(os.listdir(\"data\"), reverse=True):\n",
    "    if i.startswith(\"review\"):\n",
    "        review_paths.append(os.path.join(\"data\", i))\n",
    "\n",
    "review_paths"
   ]
  },
  {
   "cell_type": "code",
   "execution_count": 5,
   "metadata": {},
   "outputs": [
    {
     "data": {
      "text/plain": [
       "{'B00QFQRELG': 'Amazon 9W PowerFast Official OEM USB Charger and Power Adapter for Fire Tablets and Kindle eReaders',\n",
       " 'B01BH83OOM': 'Amazon Tap Smart Assistant Alexa enabled (black) Brand New',\n",
       " 'B00ZV9PXP2': 'All-New Kindle E-reader - Black, 6\" Glare-Free Touchscreen Display, Wi-Fi - Includes Special Offers',\n",
       " 'B0751RGYJV': 'Amazon Echo (2nd Generation) Smart Assistant Oak Finish Priority Shipping',\n",
       " 'B00IOY8XWQ': 'Kindle Voyage E-reader, 6 High-Resolution Display (300 ppi) with Adaptive Built-in Light, PagePress Sensors, Wi-Fi - Includes Special Offers',\n",
       " 'B0752151W6': 'All-new Echo (2nd Generation) with improved sound, powered by Dolby, and a new design Walnut Finish',\n",
       " 'B018Y226XO': 'Fire Kids Edition Tablet, 7 Display, Wi-Fi, 16 GB, Pink Kid-Proof Case',\n",
       " 'B01ACEKAJY': 'All-New Fire HD 8 Tablet, 8 HD Display, Wi-Fi, 32 GB - Includes Special Offers, Black',\n",
       " 'B01AHB9CYG': 'All-New Fire HD 8 Tablet, 8 HD Display, Wi-Fi, 32 GB - Includes Special Offers, Magenta',\n",
       " 'B01AHB9CN2': 'All-New Fire HD 8 Tablet, 8 HD Display, Wi-Fi, 16 GB - Includes Special Offers, Magenta',\n",
       " 'B00VINDBJK': 'Kindle Oasis E-reader with Leather Charging Cover - Merlot, 6 High-Resolution Display (300 ppi), Wi-Fi - Includes Special Offers',\n",
       " 'B01AHB9C1E': 'Fire HD 8 Tablet with Alexa, 8 HD Display, 32 GB, Tangerine - with Special Offers',\n",
       " 'B018Y229OU': 'Fire Tablet, 7 Display, Wi-Fi, 8 GB - Includes Special Offers, Magenta'}"
      ]
     },
     "execution_count": 5,
     "metadata": {},
     "output_type": "execute_result"
    }
   ],
   "source": [
    "#q5\n",
    "def read_json(path):\n",
    "    f = open(path, encoding=\"utf-8\")\n",
    "    data = json.load(f)\n",
    "    f.close()\n",
    "    return data\n",
    "    \n",
    "read_json(os.path.join(\"data\", \"products.json\"))"
   ]
  },
  {
   "cell_type": "code",
   "execution_count": 6,
   "metadata": {},
   "outputs": [
    {
     "data": {
      "text/plain": [
       "'I would recommend this product. It works great and ver compact.'"
      ]
     },
     "execution_count": 6,
     "metadata": {},
     "output_type": "execute_result"
    }
   ],
   "source": [
    "#q6\n",
    "def read_csv(path):\n",
    "    f = open(path, encoding=\"utf-8\")\n",
    "    reader = csv.reader(f)\n",
    "    data = list(reader)\n",
    "    f.close()\n",
    "\n",
    "    return data\n",
    "\n",
    "def cell(data, row_idx, col_name):\n",
    "    header = data[0]\n",
    "    body = data[1:]\n",
    "    col_idx = header.index(col_name)\n",
    "    return body[row_idx][col_idx]\n",
    "\n",
    "data = read_csv(os.path.join(\"data\", \"review1.csv\"))\n",
    "txt = None\n",
    "for i in range(len(data)-1):\n",
    "    if cell(data, i, \"review id\") == \"84440\":\n",
    "        txt = cell(data, i, \"review text\")\n",
    "        break\n",
    "\n",
    "txt\n"
   ]
  },
  {
   "cell_type": "code",
   "execution_count": 7,
   "metadata": {},
   "outputs": [
    {
     "data": {
      "text/plain": [
       "'Loveeeeeeeee........................................'"
      ]
     },
     "execution_count": 7,
     "metadata": {},
     "output_type": "execute_result"
    }
   ],
   "source": [
    "#q7\n",
    "csv_paths = []\n",
    "for path in file_paths:\n",
    "    if \".csv\" in path:\n",
    "        csv_paths.append(path)\n",
    "\n",
    "txt = None\n",
    "for path in csv_paths:\n",
    "    data = read_csv(path)\n",
    "    for i in range(len(data)-1):\n",
    "        if cell(data, i, \"review id\") == \"28615\":\n",
    "            txt = cell(data, i, \"review text\")\n",
    "            break\n",
    "    if not txt == None:\n",
    "        break\n",
    "\n",
    "txt"
   ]
  },
  {
   "cell_type": "code",
   "execution_count": 8,
   "metadata": {},
   "outputs": [
    {
     "data": {
      "text/plain": [
       "'review2.csv'"
      ]
     },
     "execution_count": 8,
     "metadata": {},
     "output_type": "execute_result"
    }
   ],
   "source": [
    "#q8\n",
    "file = None\n",
    "for path in csv_paths:\n",
    "    data = read_csv(path)\n",
    "    for i in range(len(data)-1):\n",
    "        if cell(data, i, \"review id\") == \"69273\":\n",
    "            file = os.path.basename(path)\n",
    "            break\n",
    "    if not file == None:\n",
    "        break\n",
    "\n",
    "file"
   ]
  },
  {
   "cell_type": "code",
   "execution_count": 9,
   "metadata": {},
   "outputs": [
    {
     "data": {
      "text/plain": [
       "{'46663': ['Dmh1589', 'B018Y229OU'],\n",
       " '36363': ['Shoot2thril', 'B018Y229OU'],\n",
       " '15763': ['Barbara', 'B018Y229OU'],\n",
       " '5463': ['Elec8', 'B018Y229OU'],\n",
       " '54066': ['Silvrblur', 'B018Y229OU'],\n",
       " '33466': ['Trish', 'B018Y229OU'],\n",
       " '40869': ['airbear', 'B018Y229OU'],\n",
       " '30569': ['lorphe', 'B018Y229OU'],\n",
       " '89472': ['felix', 'B018Y229OU'],\n",
       " '48272': ['Bull99', 'B018Y229OU']}"
      ]
     },
     "execution_count": 9,
     "metadata": {},
     "output_type": "execute_result"
    }
   ],
   "source": [
    "#q9\n",
    "read_json(os.path.join(\"data\", \"sample_reviews.json\"))"
   ]
  },
  {
   "cell_type": "code",
   "execution_count": 10,
   "metadata": {},
   "outputs": [],
   "source": [
    "from collections import namedtuple\n",
    "\n",
    "Review = namedtuple(\"Review\", [\"id\", \"username\", \"asin\", \"title\", \"text\", \"rating\", \"do_recommend\", \"num_helpful\", \"date\"])\n",
    "\n",
    "def get_reviews(csv, json):\n",
    "    reviews = []\n",
    "    \n",
    "\n",
    "    return reviews"
   ]
  },
  {
   "cell_type": "code",
   "execution_count": 11,
   "metadata": {},
   "outputs": [],
   "source": [
    "from collections import namedtuple\n",
    "\n",
    "Review = namedtuple(\"Review\", [\"id\", \"username\", \"asin\", \"title\", \"text\", \"rating\", \"do_recommend\", \"num_helpful\", \"date\"])\n",
    "\n",
    "def get_reviews(csv_path, json_path):\n",
    "    csv_path = os.path.join(\"data\", csv_path)\n",
    "    json_path = os.path.join(\"data\", json_path)\n",
    "    reviews = []\n",
    "    csv_data = read_csv(csv_path)\n",
    "    json_data = read_json(json_path)\n",
    "\n",
    "    for i in range(len(csv_data)-1):\n",
    "        skip = False\n",
    "\n",
    "        try:\n",
    "            for j in range(len(csv_data[i])):\n",
    "                if cell(csv_data, i, csv_data[0][j]) == \"\":\n",
    "                    skip = True\n",
    "\n",
    "            if skip:\n",
    "                continue\n",
    "\n",
    "            id = cell(csv_data,i,\"review id\")\n",
    "            reviews.append(Review(id=int(id),\n",
    "                            username=json_data[id][0],\n",
    "                            asin=json_data[id][1],\n",
    "                            title=cell(csv_data,i,\"review title\"),\n",
    "                            text=cell(csv_data,i,\"review text\"),\n",
    "                            rating=int(cell(csv_data,i,\"review rating\")),\n",
    "                            do_recommend=bool(cell(csv_data,i,\"review do_recommend\")==\"True\"),\n",
    "                            num_helpful=int(cell(csv_data,i,\"review num_helpful\")),\n",
    "                            date=cell(csv_data,i,\"review date\")))\n",
    "            \n",
    "        except (IndexError,ValueError):\n",
    "            continue\n",
    "\n",
    "        \n",
    "\n",
    "    return reviews"
   ]
  },
  {
   "cell_type": "code",
   "execution_count": 12,
   "metadata": {},
   "outputs": [
    {
     "data": {
      "text/plain": [
       "[Review(id=46663, username='Dmh1589', asin='B018Y229OU', title='Nice for kids', text='Easy to use. Memory fills up fast though. Battery life is decent.', rating=4, do_recommend=True, num_helpful=0, date='2016-12-23'),\n",
       " Review(id=36363, username='Shoot2thril', asin='B018Y229OU', title='Great tablet', text='Great tablet for the price. I already have 3 followers including the hd.', rating=5, do_recommend=True, num_helpful=0, date='2016-12-23'),\n",
       " Review(id=15763, username='Barbara', asin='B018Y229OU', title='Great tablet', text='Excellent tablet. Love the size. Fits perfectly in my purse. I would recommend this tablet.', rating=5, do_recommend=True, num_helpful=0, date='2016-12-23'),\n",
       " Review(id=5463, username='Elec8', asin='B018Y229OU', title='Great budget tablet', text='Great tablet for kids. Good for Netflix and YouTube.', rating=5, do_recommend=True, num_helpful=0, date='2016-12-23'),\n",
       " Review(id=54066, username='Silvrblur', asin='B018Y229OU', title='Great tablet for the price.', text='I bought this tablet for my 9 year old nephew and he loves it. It is easy to setup and very user friendly. Picked up a case for protection.Buy far the best bang for your buck for an entry level tablet.', rating=5, do_recommend=True, num_helpful=0, date='2016-12-23'),\n",
       " Review(id=33466, username='Trish', asin='B018Y229OU', title='Love it', text='My sister in law is in love with this. Best gift ever for her', rating=5, do_recommend=True, num_helpful=0, date='2016-12-23'),\n",
       " Review(id=40869, username='airbear', asin='B018Y229OU', title='Love it', text='Love it so much. So easy to use even for my little kids.', rating=5, do_recommend=True, num_helpful=0, date='2016-12-23'),\n",
       " Review(id=30569, username='lorphe', asin='B018Y229OU', title='Stand Amazon Tablet', text='Works well for the money. Got it from Black Friday deal. User friendly', rating=4, do_recommend=True, num_helpful=0, date='2016-12-23'),\n",
       " Review(id=89472, username='felix', asin='B018Y229OU', title='great ipad', text='i brought this for my kids and no regret. Make sure you buy a case protector along with it.', rating=5, do_recommend=True, num_helpful=0, date='2016-12-23'),\n",
       " Review(id=48272, username='Bull99', asin='B018Y229OU', title='Works great', text='This tablet is so compact and fit in my purse. It works very well.', rating=5, do_recommend=True, num_helpful=0, date='2016-12-23')]"
      ]
     },
     "execution_count": 12,
     "metadata": {},
     "output_type": "execute_result"
    }
   ],
   "source": [
    "#q10\n",
    "get_reviews(\"sample_reviews.csv\", \"sample_reviews.json\")"
   ]
  },
  {
   "cell_type": "code",
   "execution_count": 13,
   "metadata": {},
   "outputs": [
    {
     "data": {
      "text/plain": [
       "[Review(id=46663, username='Dmh1589', asin='B018Y229OU', title='Nice for kids', text='Easy to use. Memory fills up fast though. Battery life is decent.', rating=4, do_recommend=True, num_helpful=0, date='2016-12-23'),\n",
       " Review(id=36363, username='Shoot2thril', asin='B018Y229OU', title='Great tablet', text='Great tablet for the price. I already have 3 followers including the hd.', rating=5, do_recommend=True, num_helpful=0, date='2016-12-23'),\n",
       " Review(id=15763, username='Barbara', asin='B018Y229OU', title='Great tablet', text='Excellent tablet. Love the size. Fits perfectly in my purse. I would recommend this tablet.', rating=5, do_recommend=True, num_helpful=0, date='2016-12-23'),\n",
       " Review(id=5463, username='Elec8', asin='B018Y229OU', title='Great budget tablet', text='Great tablet for kids. Good for Netflix and YouTube.', rating=5, do_recommend=True, num_helpful=0, date='2016-12-23'),\n",
       " Review(id=54066, username='Silvrblur', asin='B018Y229OU', title='Great tablet for the price.', text='I bought this tablet for my 9 year old nephew and he loves it. It is easy to setup and very user friendly. Picked up a case for protection.Buy far the best bang for your buck for an entry level tablet.', rating=5, do_recommend=True, num_helpful=0, date='2016-12-23'),\n",
       " Review(id=33466, username='Trish', asin='B018Y229OU', title='Love it', text='My sister in law is in love with this. Best gift ever for her', rating=5, do_recommend=True, num_helpful=0, date='2016-12-23'),\n",
       " Review(id=40869, username='airbear', asin='B018Y229OU', title='Love it', text='Love it so much. So easy to use even for my little kids.', rating=5, do_recommend=True, num_helpful=0, date='2016-12-23'),\n",
       " Review(id=30569, username='lorphe', asin='B018Y229OU', title='Stand Amazon Tablet', text='Works well for the money. Got it from Black Friday deal. User friendly', rating=4, do_recommend=True, num_helpful=0, date='2016-12-23'),\n",
       " Review(id=89472, username='felix', asin='B018Y229OU', title='great ipad', text='i brought this for my kids and no regret. Make sure you buy a case protector along with it.', rating=5, do_recommend=True, num_helpful=0, date='2016-12-23'),\n",
       " Review(id=48272, username='Bull99', asin='B018Y229OU', title='Works great', text='This tablet is so compact and fit in my purse. It works very well.', rating=5, do_recommend=True, num_helpful=0, date='2016-12-23')]"
      ]
     },
     "execution_count": 13,
     "metadata": {},
     "output_type": "execute_result"
    }
   ],
   "source": [
    "#q11\n",
    "get_reviews(\"review4.csv\", \"review4.json\")[:10]"
   ]
  },
  {
   "cell_type": "code",
   "execution_count": 14,
   "metadata": {},
   "outputs": [
    {
     "data": {
      "text/plain": [
       "[Review(id=25136, username='Angrydagg', asin='B018Y229OU', title='Nice features for the price.', text='For the price this tables does everything I need. so far.', rating=4, do_recommend=True, num_helpful=0, date='2015-12-30'),\n",
       " Review(id=84039, username='Appman2015', asin='B018Y229OU', title='Great for xmas', text='So far I have bought three of these of tablets and they love it', rating=4, do_recommend=True, num_helpful=1, date='2015-12-30'),\n",
       " Review(id=22239, username='SuzieQ', asin='B018Y229OU', title='great for pre teens', text='i am glad i got them for my grand children they r enjoying them', rating=5, do_recommend=True, num_helpful=0, date='2015-12-31'),\n",
       " Review(id=70842, username='Gracie', asin='B018Y229OU', title='Great kindle', text='Purchase was good. Very easy to set up and use. Clear screen. Easy to charge. Would like more storage.', rating=5, do_recommend=True, num_helpful=0, date='2015-12-31'),\n",
       " Review(id=60542, username='Jeremyjeepster', asin='B018Y229OU', title='Good entry level tablet reader.', text='His is a very economical entry level tablet. Great for kids or for first time users.', rating=4, do_recommend=True, num_helpful=0, date='2015-12-31'),\n",
       " Review(id=9042, username='kinglowe78', asin='B018Y229OU', title='Good Deal', text='Real good deal. Nice present for those who want a tablet', rating=4, do_recommend=True, num_helpful=1, date='2016-01-01'),\n",
       " Review(id=98845, username='jamal', asin='B018Y229OU', title='good basic', text='Good gift for basic Internet use browsing emails .', rating=3, do_recommend=True, num_helpful=1, date='2016-01-01'),\n",
       " Review(id=88545, username='Abc1', asin='B018Y229OU', title='Lots of apps to play with', text='This is a good beginning tablet. Works well and has lots of preloaded apps to start you off.', rating=4, do_recommend=True, num_helpful=2, date='2016-01-01'),\n",
       " Review(id=47345, username='4Thrifty', asin='B018Y229OU', title='Great tablet', text='Well priced. Easy to operate. Fast and efficient. Great product.', rating=4, do_recommend=False, num_helpful=0, date='2016-01-02'),\n",
       " Review(id=54748, username='Sandycat19', asin='B018Y229OU', title='Good product fair price', text='Good for little ones who are just getting started on apps.', rating=5, do_recommend=True, num_helpful=0, date='2016-01-02')]"
      ]
     },
     "execution_count": 14,
     "metadata": {},
     "output_type": "execute_result"
    }
   ],
   "source": [
    "#q12\n",
    "get_reviews('review2.csv', 'review2.json')[-10:]"
   ]
  },
  {
   "cell_type": "code",
   "execution_count": 15,
   "metadata": {},
   "outputs": [
    {
     "data": {
      "text/plain": [
       "Review(id=25401, username='Brody16', asin='B018Y229OU', title='Wonderful for our grandsons', text='Love the ease of using them for our grandsons and they enjoyed them for Christmas', rating=1, do_recommend=True, num_helpful=0, date='2017-01-06')"
      ]
     },
     "execution_count": 15,
     "metadata": {},
     "output_type": "execute_result"
    }
   ],
   "source": [
    "#q13\n",
    "from json import JSONDecodeError\n",
    "\n",
    "\n",
    "json_files = []\n",
    "csv_files = []\n",
    "\n",
    "for obj in sorted(os.listdir(\"data\"), reverse=True):\n",
    "    if \".json\" in obj:\n",
    "        json_files.append(obj)\n",
    "\n",
    "for obj in sorted(os.listdir(\"data\"), reverse=True):\n",
    "    if \".csv\" in obj:\n",
    "        csv_files.append(obj)\n",
    "\n",
    "goal = None\n",
    "for pair in zip(csv_files, json_files):\n",
    "    try:\n",
    "        data = get_reviews(pair[0], pair[1])\n",
    "        for rev in data:\n",
    "            if rev.id == 25401:\n",
    "                goal = rev\n",
    "                break\n",
    "\n",
    "        if goal:\n",
    "            break\n",
    "    except JSONDecodeError:\n",
    "        continue\n",
    "\n",
    "goal"
   ]
  },
  {
   "cell_type": "code",
   "execution_count": 16,
   "metadata": {},
   "outputs": [
    {
     "data": {
      "text/plain": [
       "Review(id=78626, username='Mijenx', asin='B01AHB9CN2', title='Ended up returning', text='I bought this tablet for my 4 year old daughter. Too many advertisements. I would rather pay more and not have a single ad.', rating=1, do_recommend=False, num_helpful=2, date='2016-11-25')"
      ]
     },
     "execution_count": 16,
     "metadata": {},
     "output_type": "execute_result"
    }
   ],
   "source": [
    "#q14\n",
    "goal = None\n",
    "for pair in zip(csv_files, json_files):\n",
    "    try:\n",
    "        data = get_reviews(pair[0], pair[1])\n",
    "        for rev in data:\n",
    "            if rev.id == 78626:\n",
    "                goal = rev\n",
    "                break\n",
    "\n",
    "        if goal:\n",
    "            break\n",
    "    except JSONDecodeError:\n",
    "        continue\n",
    "\n",
    "goal"
   ]
  },
  {
   "cell_type": "code",
   "execution_count": 17,
   "metadata": {},
   "outputs": [
    {
     "data": {
      "text/plain": [
       "[Review(id=29325, username='zerofighterblue', asin='B018Y229OU', title='cant live without', text='have a kindle with a broken screen. bought originally for 99.00. now regular price is 49.99 and were on sale black Friday for 34.99. got 2 more.', rating=5, do_recommend=True, num_helpful=1, date='2015-12-10'),\n",
       " Review(id=96947, username='zedog83', asin='B01AHB9CN2', title='Great for kids', text='Bought this for our 6 year old daughter and she uses it daily. She enjoys watching movies on it and playing learning games. So far it has been very durable and battery life has been great.', rating=5, do_recommend=True, num_helpful=0, date='2017-01-18'),\n",
       " Review(id=77499, username='zcraig7', asin='B018Y229OU', title='Awesome picture quality', text='I bought two of these for black friday and the kids love them', rating=5, do_recommend=True, num_helpful=0, date='2016-01-04'),\n",
       " Review(id=48890, username='zarm7', asin='B018Y229OU', title='This is a nice tablet', text='I bought it for reading books. And it works very well for that purpose.', rating=4, do_recommend=True, num_helpful=0, date='2016-09-02'),\n",
       " Review(id=84641, username='zabintenn', asin='B018Y229OU', title='Good tablet', text='I bought this tablet as a gift for my granddaughter to play games on. It is very easy for her to use and it is just the right size.', rating=4, do_recommend=True, num_helpful=0, date='2016-12-15'),\n",
       " Review(id=15839, username='zRoyals', asin='B01AHB9CN2', title='One of the best', text='Easy to use and elegant in design. Perfect Gift for Kids.', rating=5, do_recommend=True, num_helpful=0, date='2016-12-07'),\n",
       " Review(id=48019, username='yuty', asin='B01AHB9CN2', title='Terrifico', text='Great tablet for the price point....especially if you are big Amazon user.Expandable memory is a great feature.', rating=5, do_recommend=True, num_helpful=0, date='2017-01-07'),\n",
       " Review(id=63046, username='yuri', asin='B018Y229OU', title='great and cheap', text='Easy to use. Durable great material very happy with it.', rating=4, do_recommend=True, num_helpful=0, date='2016-01-08'),\n",
       " Review(id=37258, username='yroc', asin='B018Y229OU', title='excellent bargain', text='Excellent bargain and works for all purposes that a tablet is needed for.', rating=5, do_recommend=True, num_helpful=0, date='2015-12-28'),\n",
       " Review(id=64466, username='yosi', asin='B018Y226XO', title='great', text='great table for kids and parents control great gre', rating=5, do_recommend=True, num_helpful=0, date='2016-12-19')]"
      ]
     },
     "execution_count": 17,
     "metadata": {},
     "output_type": "execute_result"
    }
   ],
   "source": [
    "#q15\n",
    "from operator import attrgetter\n",
    "\n",
    "data = []\n",
    "for pair in zip(csv_files, json_files):\n",
    "    try:\n",
    "        d = get_reviews(pair[0], pair[1])\n",
    "        for rev in d:\n",
    "            data.append(rev)\n",
    "\n",
    "    except JSONDecodeError:\n",
    "        continue\n",
    "\n",
    "sorted(data, key=attrgetter(\"username\"), reverse=True)[:10]"
   ]
  },
  {
   "cell_type": "code",
   "execution_count": 18,
   "metadata": {},
   "outputs": [
    {
     "data": {
      "text/plain": [
       "'Excellent'"
      ]
     },
     "execution_count": 18,
     "metadata": {},
     "output_type": "execute_result"
    }
   ],
   "source": [
    "#optional q1\n",
    "goal = None\n",
    "for pair in zip(csv_files, json_files):\n",
    "    try:\n",
    "        data = get_reviews(pair[0], pair[1])\n",
    "        for rev in data:\n",
    "            if rev.id == 69273:\n",
    "                goal = rev\n",
    "                break\n",
    "\n",
    "        if goal:\n",
    "            break\n",
    "    except JSONDecodeError:\n",
    "        continue\n",
    "\n",
    "goal.title"
   ]
  },
  {
   "cell_type": "code",
   "execution_count": 19,
   "metadata": {},
   "outputs": [
    {
     "data": {
      "text/plain": [
       "975"
      ]
     },
     "execution_count": 19,
     "metadata": {},
     "output_type": "execute_result"
    }
   ],
   "source": [
    "#optional q2\n",
    "num_reviews = 0\n",
    "for pair in zip(csv_files, json_files):\n",
    "    try:\n",
    "        data = get_reviews(pair[0], pair[1])\n",
    "        for rev in data:\n",
    "            if rev.asin==\"B01AHB9CN2\":\n",
    "                num_reviews += 1\n",
    "\n",
    "    except JSONDecodeError:\n",
    "        continue\n",
    "\n",
    "num_reviews"
   ]
  },
  {
   "cell_type": "code",
   "execution_count": 20,
   "metadata": {},
   "outputs": [
    {
     "data": {
      "text/plain": [
       "47"
      ]
     },
     "execution_count": 20,
     "metadata": {},
     "output_type": "execute_result"
    }
   ],
   "source": [
    "#optional q3\n",
    "num_reviews = 0\n",
    "for pair in zip(csv_files, json_files):\n",
    "    try:\n",
    "        data = get_reviews(pair[0], pair[1])\n",
    "        for rev in data:\n",
    "            if rev.asin==\"B01AHB9CYG\":\n",
    "                num_reviews += 1\n",
    "\n",
    "    except JSONDecodeError:\n",
    "        continue\n",
    "\n",
    "num_reviews"
   ]
  },
  {
   "cell_type": "code",
   "execution_count": 21,
   "metadata": {},
   "outputs": [
    {
     "data": {
      "text/plain": [
       "'Fire Tablet, 7 Display, Wi-Fi, 8 GB - Includes Special Offers, Magenta'"
      ]
     },
     "execution_count": 21,
     "metadata": {},
     "output_type": "execute_result"
    }
   ],
   "source": [
    "#optional q4\n",
    "products = read_json(os.path.join(\"data\", \"products.json\")) #unused\n",
    "all_reviews = []\n",
    "product_count = {}\n",
    "\n",
    "for pair in zip(csv_files, json_files):\n",
    "    try:\n",
    "        data = get_reviews(pair[0], pair[1])\n",
    "        for rev in data:\n",
    "            all_reviews.append(rev)\n",
    "\n",
    "    except JSONDecodeError:\n",
    "        continue\n",
    "\n",
    "for rev in all_reviews:\n",
    "    if rev.asin not in product_count:\n",
    "        product_count[rev.asin] = 0\n",
    "    product_count[rev.asin] += 1\n",
    "\n",
    "max = None\n",
    "for p in product_count:\n",
    "    if max == None or product_count[p] > product_count[max]:\n",
    "        max = p\n",
    "\n",
    "products[max]"
   ]
  },
  {
   "cell_type": "code",
   "execution_count": 22,
   "metadata": {},
   "outputs": [
    {
     "data": {
      "text/plain": [
       "Review(id=73101, username='Jhun', asin='B018Y229OU', title='Great tablet for my 3 year old twins', text='Very nice product...Had everything we were looking for...', rating=5, do_recommend=True, num_helpful=2, date='2015-11-06')"
      ]
     },
     "execution_count": 22,
     "metadata": {},
     "output_type": "execute_result"
    }
   ],
   "source": [
    "#optional q5\n",
    "earliest = None\n",
    "for rev in all_reviews:\n",
    "    if rev.asin == max:\n",
    "        if earliest == None or (tuple(rev.date) < tuple(earliest.date)):\n",
    "            earliest = rev\n",
    "\n",
    "earliest"
   ]
  },
  {
   "cell_type": "code",
   "execution_count": 23,
   "metadata": {},
   "outputs": [
    {
     "data": {
      "text/plain": [
       "3818"
      ]
     },
     "execution_count": 23,
     "metadata": {},
     "output_type": "execute_result"
    }
   ],
   "source": [
    "#optional q6\n",
    "names = []\n",
    "for rev in all_reviews:\n",
    "    if rev.username not in names:\n",
    "        names.append(rev.username)\n",
    "\n",
    "len(names)"
   ]
  },
  {
   "cell_type": "code",
   "execution_count": 24,
   "metadata": {},
   "outputs": [
    {
     "data": {
      "text/plain": [
       "{'to': 717,\n",
       " 'is': 522,\n",
       " 'for': 1021,\n",
       " 'the': 831,\n",
       " 'it': 629,\n",
       " 'a': 649,\n",
       " 'i': 577,\n",
       " 'and': 778}"
      ]
     },
     "execution_count": 24,
     "metadata": {},
     "output_type": "execute_result"
    }
   ],
   "source": [
    "#optional q7\n",
    "from pandas import Series\n",
    "\n",
    "word_count = {}\n",
    "for rev in all_reviews:\n",
    "    if rev.rating == 4:\n",
    "        words = rev.text.lower().split(\" \")\n",
    "        \n",
    "        for word in words:\n",
    "            if not word in word_count:\n",
    "                word_count[word] = 0\n",
    "            word_count[word] += 1\n",
    "\n",
    "s = Series(word_count)\n",
    "b = s > 500\n",
    "dict(s[b])"
   ]
  },
  {
   "cell_type": "code",
   "execution_count": 25,
   "metadata": {},
   "outputs": [
    {
     "data": {
      "text/plain": [
       "{'for': 434,\n",
       " 'tablet': 364,\n",
       " 'great': 433,\n",
       " 'good': 290,\n",
       " 'price': 125,\n",
       " 'the': 144}"
      ]
     },
     "execution_count": 25,
     "metadata": {},
     "output_type": "execute_result"
    }
   ],
   "source": [
    "#optional q8\n",
    "word_count = {}\n",
    "for rev in all_reviews:\n",
    "    if rev.rating == 4:\n",
    "        words = rev.title.lower().split(\" \")\n",
    "        \n",
    "        for word in words:\n",
    "            if not word in word_count:\n",
    "                word_count[word] = 0\n",
    "            word_count[word] += 1\n",
    "\n",
    "s = Series(word_count)\n",
    "b = s > 100\n",
    "dict(s[b])"
   ]
  },
  {
   "cell_type": "code",
   "execution_count": 26,
   "metadata": {},
   "outputs": [
    {
     "data": {
      "text/plain": [
       "{'tablet': 4,\n",
       " 'it': 2,\n",
       " 'the': 2,\n",
       " 'fire': 2,\n",
       " 'you': 6,\n",
       " 'get': 3,\n",
       " 'what': 3,\n",
       " 'pay': 3,\n",
       " 'for.': 2,\n",
       " 'average': 2,\n",
       " 'not': 3,\n",
       " 'good': 2,\n",
       " 'for': 3,\n",
       " 'and': 2,\n",
       " 'very': 2,\n",
       " 'charging': 2}"
      ]
     },
     "execution_count": 26,
     "metadata": {},
     "output_type": "execute_result"
    }
   ],
   "source": [
    "#optional q9\n",
    "word_count = {}\n",
    "for rev in all_reviews:\n",
    "    if rev.rating == 2:\n",
    "        words = rev.title.lower().split(\" \")\n",
    "        \n",
    "        for word in words:\n",
    "            if not word in word_count:\n",
    "                word_count[word] = 0\n",
    "            word_count[word] += 1\n",
    "\n",
    "s = Series(word_count)\n",
    "b = s > 1\n",
    "dict(s[b])"
   ]
  },
  {
   "cell_type": "code",
   "execution_count": 27,
   "metadata": {},
   "outputs": [
    {
     "data": {
      "text/plain": [
       "{'tablet': 43,\n",
       " 'the': 14,\n",
       " 'great': 27,\n",
       " 'good': 41,\n",
       " 'for': 58,\n",
       " 'price': 16,\n",
       " 'ok': 17,\n",
       " 'a': 18,\n",
       " 'nice': 12,\n",
       " 'not': 15}"
      ]
     },
     "execution_count": 27,
     "metadata": {},
     "output_type": "execute_result"
    }
   ],
   "source": [
    "#optional q10\n",
    "word_count = {}\n",
    "for rev in all_reviews:\n",
    "    if rev.rating == 3:\n",
    "        words = rev.title.lower().split(\" \")\n",
    "        \n",
    "        for word in words:\n",
    "            if not word in word_count:\n",
    "                word_count[word] = 0\n",
    "            word_count[word] += 1\n",
    "\n",
    "s = Series(word_count)\n",
    "b = s > 10\n",
    "dict(s[b])"
   ]
  },
  {
   "cell_type": "code",
   "execution_count": 28,
   "metadata": {},
   "outputs": [],
   "source": [
    "def bucketize(value):\n",
    "    buckets = {}\n",
    "    \n",
    "    for rev in all_reviews:\n",
    "        if not getattr(rev, value) in buckets:\n",
    "            buckets[getattr(rev, value)] = []\n",
    "        buckets[getattr(rev, value)].append(rev)\n",
    "    \n",
    "    return buckets"
   ]
  },
  {
   "cell_type": "code",
   "execution_count": 29,
   "metadata": {},
   "outputs": [],
   "source": [
    "username_buckets = bucketize(\"username\")\n",
    "\n",
    "for u in username_buckets:\n",
    "    username_buckets[u] = len(username_buckets[u])\n",
    "\n",
    "# don't know why Trish is in the final count, q16\n"
   ]
  },
  {
   "cell_type": "code",
   "execution_count": 30,
   "metadata": {},
   "outputs": [
    {
     "data": {
      "text/plain": [
       "{'Raza': 5,\n",
       " 'Rodge': 6,\n",
       " 'Ellen': 10,\n",
       " 'Karch': 5,\n",
       " 'FrankW': 5,\n",
       " 'Kime': 5,\n",
       " 'Mark': 5,\n",
       " '1Briansapp': 5,\n",
       " 'trouble': 5,\n",
       " 'Stuartc': 8,\n",
       " 'Earthdog': 27}"
      ]
     },
     "execution_count": 30,
     "metadata": {},
     "output_type": "execute_result"
    }
   ],
   "source": [
    "#q17\n",
    "username_buckets = bucketize(\"username\")\n",
    "\n",
    "for u in username_buckets:\n",
    "    reviews = username_buckets[u]\n",
    "    username_buckets[u] = 0\n",
    "\n",
    "    for rev in reviews:\n",
    "        username_buckets[u] += rev.num_helpful\n",
    "\n",
    "s = Series(username_buckets)\n",
    "b = s > 4\n",
    "s[b]\n",
    "\n",
    "dict(s[b])\n",
    "    "
   ]
  },
  {
   "cell_type": "code",
   "execution_count": 31,
   "metadata": {},
   "outputs": [],
   "source": [
    "%matplotlib inline"
   ]
  },
  {
   "cell_type": "code",
   "execution_count": 32,
   "metadata": {},
   "outputs": [],
   "source": [
    "import pandas as pd\n",
    "\n",
    "def scatter(x, y, xlabel=\"please label me!\", ylabel=\"please label me!\"):\n",
    "    df = pd.DataFrame({\"x\":x, \"y\":y})\n",
    "    ax = df.plot.scatter(x=\"x\", y=\"y\", color=\"black\", fontsize=16, xlim=0, ylim=0)\n",
    "    ax.set_xlabel(xlabel, fontsize=16)\n",
    "    ax.set_ylabel(ylabel, fontsize=16)\n",
    "    ax.get_xaxis().get_major_formatter().set_scientific(False)\n",
    "    ax.get_yaxis().get_major_formatter().set_scientific(False)"
   ]
  },
  {
   "cell_type": "code",
   "execution_count": 33,
   "metadata": {},
   "outputs": [
    {
     "data": {
      "image/png": "[encoded data removed]",
      "text/plain": [
       "<Figure size 432x288 with 1 Axes>"
      ]
     },
     "metadata": {
      "needs_background": "light"
     },
     "output_type": "display_data"
    }
   ],
   "source": [
    "#q18\n",
    "ratings = bucketize(\"rating\")\n",
    "\n",
    "for rating in ratings:\n",
    "    reviews = ratings[rating]\n",
    "    ratings[rating] = 0\n",
    "\n",
    "    for r in reviews:\n",
    "        ratings[rating] += len(r.text)\n",
    "    \n",
    "    ratings[rating] /= len(reviews)\n",
    "\n",
    "scatter(ratings.keys(), ratings.values(), xlabel=\"Rating\", ylabel=\"Average text length\")"
   ]
  },
  {
   "cell_type": "code",
   "execution_count": 34,
   "metadata": {},
   "outputs": [
    {
     "data": {
      "image/png": "[encoded data removed]",
      "text/plain": [
       "<Figure size 432x288 with 1 Axes>"
      ]
     },
     "metadata": {
      "needs_background": "light"
     },
     "output_type": "display_data"
    }
   ],
   "source": [
    "#q19\n",
    "ratings = bucketize(\"rating\")\n",
    "\n",
    "for rating in ratings:\n",
    "    reviews = ratings[rating]\n",
    "    ratings[rating] = 0\n",
    "\n",
    "    for r in reviews:\n",
    "        if r.num_helpful > 0:\n",
    "            ratings[rating] += 1\n",
    "    \n",
    "    ratings[rating] /= len(reviews)\n",
    "\n",
    "scatter(ratings.keys(), ratings.values(), xlabel=\"Rating\", ylabel=\"Percentage of helpful reviews\")"
   ]
  },
  {
   "cell_type": "code",
   "execution_count": 35,
   "metadata": {},
   "outputs": [
    {
     "data": {
      "text/plain": [
       "{'Fire Tablet, 7 Display, Wi-Fi, 8 GB - Includes Special Offers, Magenta': 4.507258399004562,\n",
       " 'All-New Fire HD 8 Tablet, 8 HD Display, Wi-Fi, 16 GB - Includes Special Offers, Magenta': 4.6,\n",
       " 'Kindle Oasis E-reader with Leather Charging Cover - Merlot, 6 High-Resolution Display (300 ppi), Wi-Fi - Includes Special Offers': 4.866666666666666,\n",
       " 'All-New Fire HD 8 Tablet, 8 HD Display, Wi-Fi, 32 GB - Includes Special Offers, Magenta': 4.574468085106383,\n",
       " 'Fire HD 8 Tablet with Alexa, 8 HD Display, 32 GB, Tangerine - with Special Offers': 3.8333333333333335,\n",
       " 'All-New Kindle E-reader - Black, 6\" Glare-Free Touchscreen Display, Wi-Fi - Includes Special Offers': 4.590163934426229,\n",
       " 'Amazon 9W PowerFast Official OEM USB Charger and Power Adapter for Fire Tablets and Kindle eReaders': 4.7272727272727275,\n",
       " 'Amazon Tap Smart Assistant Alexa enabled (black) Brand New': 4.6909090909090905,\n",
       " 'Amazon Echo (2nd Generation) Smart Assistant Oak Finish Priority Shipping': 5.0,\n",
       " 'Kindle Voyage E-reader, 6 High-Resolution Display (300 ppi) with Adaptive Built-in Light, PagePress Sensors, Wi-Fi - Includes Special Offers': 4.666666666666667,\n",
       " 'All-new Echo (2nd Generation) with improved sound, powered by Dolby, and a new design Walnut Finish': 5.0,\n",
       " 'Fire Kids Edition Tablet, 7 Display, Wi-Fi, 16 GB, Pink Kid-Proof Case': 4.603448275862069,\n",
       " 'All-New Fire HD 8 Tablet, 8 HD Display, Wi-Fi, 32 GB - Includes Special Offers, Black': 4.583333333333333}"
      ]
     },
     "execution_count": 35,
     "metadata": {},
     "output_type": "execute_result"
    }
   ],
   "source": [
    "products = bucketize(\"asin\")\n",
    "p = read_json(os.path.join(\"data\", \"products.json\"))\n",
    "fin = {}\n",
    "\n",
    "for product in products:\n",
    "    reviews = products[product]\n",
    "    fin[p[product]] = 0\n",
    "\n",
    "    for r in reviews:\n",
    "        fin[p[product]] += r.rating\n",
    "\n",
    "    fin[p[product]] /= len(reviews)\n",
    "\n",
    "fin\n",
    "\n",
    "# rating averages are wrong, probably because review3 stuff is included but idk and idc how to figure it out"
   ]
  },
  {
   "cell_type": "code",
   "execution_count": 77,
   "metadata": {},
   "outputs": [
    {
     "data": {
      "image/png": "[encoded data removed]",
      "text/plain": [
       "<Figure size 432x288 with 1 Axes>"
      ]
     },
     "metadata": {
      "needs_background": "light"
     },
     "output_type": "display_data"
    }
   ],
   "source": [
    "a = []\n",
    "for p in products:\n",
    "    a.append(len(products[p]))\n",
    "\n",
    "b = list(fin.values())\n",
    "\n",
    "scatter(a, b)"
   ]
  },
  {
   "cell_type": "code",
   "execution_count": 74,
   "metadata": {},
   "outputs": [
    {
     "data": {
      "text/plain": [
       "False    2411\n",
       "False     975\n",
       "True       15\n",
       "True       47\n",
       "True        6\n",
       "True       61\n",
       "True       11\n",
       "True      165\n",
       "True        1\n",
       "True      126\n",
       "True        1\n",
       "True      174\n",
       "True       12\n",
       "dtype: int64"
      ]
     },
     "execution_count": 74,
     "metadata": {},
     "output_type": "execute_result"
    }
   ],
   "source": [
    "s = Series(a, index=b)\n",
    "b = s < 500\n",
    "s[b]\n",
    "s"
   ]
  },
  {
   "cell_type": "code",
   "execution_count": null,
   "metadata": {},
   "outputs": [],
   "source": []
  }
 ],
 "metadata": {
  "kernelspec": {
   "display_name": "Python 3.9.13 64-bit",
   "language": "python",
   "name": "python3"
  },
  "language_info": {
   "codemirror_mode": {
    "name": "ipython",
    "version": 3
   },
   "file_extension": ".py",
   "mimetype": "text/x-python",
   "name": "python",
   "nbconvert_exporter": "python",
   "pygments_lexer": "ipython3",
   "version": "3.9.13"
  },
  "orig_nbformat": 4,
  "vscode": {
   "interpreter": {
    "hash": "b0fa6594d8f4cbf19f97940f81e996739fb7646882a419484c72d19e05852a7e"
   }
  }
 },
 "nbformat": 4,
 "nbformat_minor": 2
}
