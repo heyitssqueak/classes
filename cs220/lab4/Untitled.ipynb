{
 "cells": [
  {
   "cell_type": "code",
   "execution_count": 4,
   "id": "4a9194b2",
   "metadata": {},
   "outputs": [
    {
     "name": "stdout",
     "output_type": "stream",
     "text": [
      "Not Kanto\n"
     ]
    }
   ],
   "source": [
    "import project\n",
    "\n",
    "if project.get_region(\"Greninja\") == \"Kanto\":\n",
    "    print(\"Kanto\")\n",
    "else:\n",
    "    print(\"Not Kanto\")"
   ]
  },
  {
   "cell_type": "code",
   "execution_count": 5,
   "id": "853aaea9",
   "metadata": {},
   "outputs": [
    {
     "name": "stdout",
     "output_type": "stream",
     "text": [
      "Snorlax\n"
     ]
    }
   ],
   "source": [
    "if project.get_hp(\"Snorlax\") >= project.get_hp(\"Heracross\"):\n",
    "    print(\"Snorlax\")\n",
    "else:\n",
    "    print(\"Heracross\")"
   ]
  },
  {
   "cell_type": "code",
   "execution_count": 6,
   "id": "480a9143",
   "metadata": {},
   "outputs": [],
   "source": [
    "def compare_hp(pkmn1, pkmn2):\n",
    "    if project.get_hp(pkmn1) >= project.get_hp(pkmn2):\n",
    "        return pkmn1\n",
    "    else:\n",
    "        return pkmn2"
   ]
  },
  {
   "cell_type": "code",
   "execution_count": 7,
   "id": "9d84efd7",
   "metadata": {},
   "outputs": [],
   "source": [
    "def compare_attack(pkmn1, pkmn2):\n",
    "    if project.get_attack(pkmn1) >= project.get_attack(pkmn2):\n",
    "        return pkmn1\n",
    "    else:\n",
    "        return pkmn2"
   ]
  },
  {
   "cell_type": "code",
   "execution_count": 8,
   "id": "165f7ae9",
   "metadata": {},
   "outputs": [],
   "source": [
    "def get_total_attack(pkmn):\n",
    "    return (project.get_attack(pkmn) + project.get_sp_atk(pkmn))"
   ]
  },
  {
   "cell_type": "code",
   "execution_count": 9,
   "id": "6414dbd1",
   "metadata": {},
   "outputs": [],
   "source": [
    "def get_stat_total(pkmn):\n",
    "    return (project.get_attack(pkmn) + project.get_defense(pkmn) + project.get_hp(pkmn) + project.get_sp_atk(pkmn) + project.get_sp_def(pkmn) + project.get_speed(pkmn))"
   ]
  },
  {
   "cell_type": "code",
   "execution_count": 11,
   "id": "812d3568",
   "metadata": {},
   "outputs": [],
   "source": [
    "def get_num_types(pkmn):\n",
    "    if project.get_type1(pkmn) == 'None':\n",
    "        return 0\n",
    "    elif project.get_type2(pkmn) == 'None':\n",
    "        return 1\n",
    "    else:\n",
    "        return 2"
   ]
  },
  {
   "cell_type": "code",
   "execution_count": 12,
   "id": "8becd907",
   "metadata": {},
   "outputs": [],
   "source": [
    "def same_types(pkmn1, pkmn2):\n",
    "    if project.get_type1(pkmn1) == project.get_type1(pkmn2):\n",
    "        if project.get_type2(pkmn1) == project.get_type2(pkmn2):\n",
    "            return True\n",
    "    if project.get_type1(pkmn1) == project.get_type2(pkmn2):\n",
    "        if project.get_type2(pkmn1) == project.get_type1(pkmn2):\n",
    "            return True\n",
    "    return False"
   ]
  }
 ],
 "metadata": {
  "kernelspec": {
   "display_name": "Python 3 (ipykernel)",
   "language": "python",
   "name": "python3"
  },
  "language_info": {
   "codemirror_mode": {
    "name": "ipython",
    "version": 3
   },
   "file_extension": ".py",
   "mimetype": "text/x-python",
   "name": "python",
   "nbconvert_exporter": "python",
   "pygments_lexer": "ipython3",
   "version": "3.9.13"
  }
 },
 "nbformat": 4,
 "nbformat_minor": 5
}
