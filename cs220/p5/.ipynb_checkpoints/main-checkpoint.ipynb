{
 "cells": [
  {
   "cell_type": "code",
   "execution_count": 1,
   "id": "f4e7b895",
   "metadata": {},
   "outputs": [
    {
     "data": {
      "text/plain": [
       "133"
      ]
     },
     "execution_count": 1,
     "metadata": {},
     "output_type": "execute_result"
    }
   ],
   "source": [
    "#q1\n",
    "import project\n",
    "\n",
    "project.count()"
   ]
  },
  {
   "cell_type": "code",
   "execution_count": 2,
   "id": "090bb78c",
   "metadata": {},
   "outputs": [
    {
     "data": {
      "text/plain": [
       "'Omar'"
      ]
     },
     "execution_count": 2,
     "metadata": {},
     "output_type": "execute_result"
    }
   ],
   "source": [
    "#q2\n",
    "project.get_name(project.count()-1)"
   ]
  },
  {
   "cell_type": "code",
   "execution_count": 3,
   "id": "dd3c9506",
   "metadata": {},
   "outputs": [
    {
     "data": {
      "text/plain": [
       "72"
      ]
     },
     "execution_count": 3,
     "metadata": {},
     "output_type": "execute_result"
    }
   ],
   "source": [
    "#q3\n",
    "project.get_deaths(10)"
   ]
  },
  {
   "cell_type": "code",
   "execution_count": 4,
   "id": "4a9f35da",
   "metadata": {},
   "outputs": [
    {
     "data": {
      "text/plain": [
       "True"
      ]
     },
     "execution_count": 4,
     "metadata": {},
     "output_type": "execute_result"
    }
   ],
   "source": [
    "#q4\n",
    "hasBob = False\n",
    "for i in range(project.count()):\n",
    "    if project.get_name(i) == \"Bob\":\n",
    "        hasBob = True\n",
    "        break\n",
    "\n",
    "hasBob"
   ]
  },
  {
   "cell_type": "code",
   "execution_count": 5,
   "id": "d679d50d",
   "metadata": {},
   "outputs": [
    {
     "data": {
      "text/plain": [
       "3"
      ]
     },
     "execution_count": 5,
     "metadata": {},
     "output_type": "execute_result"
    }
   ],
   "source": [
    "#q5\n",
    "counter = 0\n",
    "for i in range(project.count()):\n",
    "    if project.get_name(i).lower() == \"florence\":\n",
    "        counter += 1\n",
    "\n",
    "counter"
   ]
  },
  {
   "cell_type": "code",
   "execution_count": 9,
   "id": "e7a62c04",
   "metadata": {},
   "outputs": [
    {
     "data": {
      "text/plain": [
       "190"
      ]
     },
     "execution_count": 9,
     "metadata": {},
     "output_type": "execute_result"
    }
   ],
   "source": [
    "#q6\n",
    "fastest_mph = 0\n",
    "for i in range(project.count()):\n",
    "    if project.get_mph(i) > fastest_mph:\n",
    "        fastest_mph = project.get_mph(i)\n",
    "    \n",
    "fastest_mph"
   ]
  },
  {
   "cell_type": "code",
   "execution_count": 21,
   "id": "6f9fd8ed",
   "metadata": {},
   "outputs": [
    {
     "data": {
      "text/plain": [
       "'Allen'"
      ]
     },
     "execution_count": 21,
     "metadata": {},
     "output_type": "execute_result"
    }
   ],
   "source": [
    "#q7\n",
    "fastest_mph = 0\n",
    "fastest_mph_index = 0\n",
    "for i in range(project.count()):\n",
    "    if project.get_mph(i) > fastest_mph:\n",
    "        fastest_mph = project.get_mph(i)\n",
    "        fastest_mph_index = i\n",
    "    \n",
    "project.get_name(fastest_mph_index)"
   ]
  },
  {
   "cell_type": "code",
   "execution_count": 25,
   "id": "e8e8b78a",
   "metadata": {},
   "outputs": [
    {
     "data": {
      "text/plain": [
       "1570000000"
      ]
     },
     "execution_count": 25,
     "metadata": {},
     "output_type": "execute_result"
    }
   ],
   "source": [
    "#q8\n",
    "fastest_mph = 0\n",
    "fastest_mph_index = 0\n",
    "for i in range(project.count()):\n",
    "    if project.get_mph(i) > fastest_mph:\n",
    "        fastest_mph = project.get_mph(i)\n",
    "        fastest_mph_index = i\n",
    "\n",
    "def format_damage(damage):\n",
    "    if \"K\" in damage:\n",
    "        return float(damage[:(len(damage))-1])*1000\n",
    "    if \"M\" in damage:\n",
    "        return float(damage[:(len(damage))-1])*1000000\n",
    "    if \"B\" in damage:\n",
    "        return float(damage[:(len(damage))-1])*1000000000\n",
    "\n",
    "int(format_damage(project.get_damage(fastest_mph_index)))"
   ]
  },
  {
   "cell_type": "code",
   "execution_count": 26,
   "id": "670d6b2b",
   "metadata": {},
   "outputs": [
    {
     "data": {
      "text/plain": [
       "18960"
      ]
     },
     "execution_count": 26,
     "metadata": {},
     "output_type": "execute_result"
    }
   ],
   "source": [
    "#q9\n",
    "total_deaths = 0\n",
    "for i in range(project.count()):\n",
    "    total_deaths += project.get_deaths(i)\n",
    "    \n",
    "total_deaths"
   ]
  },
  {
   "cell_type": "code",
   "execution_count": 31,
   "id": "9367ef99",
   "metadata": {},
   "outputs": [],
   "source": [
    "def get_month(date):\n",
    "    return int(date[:2])\n",
    "\n",
    "def get_day(date):\n",
    "    return int(date[3:5])\n",
    "\n",
    "def get_year(date):\n",
    "    return int(date[-4:])\n",
    "\n",
    "def deadliest_in_range(year1, year2):\n",
    "    worst_idx = None\n",
    "    for i in range(project.count()):\n",
    "        if get_year(project.get_formed(i)) >= year1 and get_year(project.get_formed(i)) <= year2:\n",
    "            if worst_idx == None or project.get_deaths(worst_idx) < project.get_deaths(i):\n",
    "                worst_idx = i\n",
    "    return worst_idx"
   ]
  },
  {
   "cell_type": "code",
   "execution_count": 33,
   "id": "aad07e0a",
   "metadata": {},
   "outputs": [
    {
     "data": {
      "text/plain": [
       "'Maria'"
      ]
     },
     "execution_count": 33,
     "metadata": {},
     "output_type": "execute_result"
    }
   ],
   "source": [
    "#q10\n",
    "project.get_name(deadliest_in_range(2010, 2020))"
   ]
  },
  {
   "cell_type": "code",
   "execution_count": 34,
   "id": "693bd342",
   "metadata": {},
   "outputs": [
    {
     "data": {
      "text/plain": [
       "'Inez'"
      ]
     },
     "execution_count": 34,
     "metadata": {},
     "output_type": "execute_result"
    }
   ],
   "source": [
    "#q11\n",
    "project.get_name(deadliest_in_range(1901, 2000))"
   ]
  },
  {
   "cell_type": "code",
   "execution_count": 36,
   "id": "e4fb4328",
   "metadata": {},
   "outputs": [
    {
     "data": {
      "text/plain": [
       "1899"
      ]
     },
     "execution_count": 36,
     "metadata": {},
     "output_type": "execute_result"
    }
   ],
   "source": [
    "#q12\n",
    "get_year(project.get_formed(deadliest_in_range(0, 2021)))"
   ]
  },
  {
   "cell_type": "code",
   "execution_count": 45,
   "id": "0804077d",
   "metadata": {},
   "outputs": [
    {
     "data": {
      "text/plain": [
       "91610000000"
      ]
     },
     "execution_count": 45,
     "metadata": {},
     "output_type": "execute_result"
    }
   ],
   "source": [
    "#q13\n",
    "int(format_damage(project.get_damage(deadliest_in_range(2001, 2100))))"
   ]
  },
  {
   "cell_type": "code",
   "execution_count": 46,
   "id": "c9408146",
   "metadata": {},
   "outputs": [
    {
     "data": {
      "text/plain": [
       "864830465000"
      ]
     },
     "execution_count": 46,
     "metadata": {},
     "output_type": "execute_result"
    }
   ],
   "source": [
    "#q14\n",
    "total_damage_dollars = 0\n",
    "\n",
    "for i in range(project.count()):\n",
    "    total_damage_dollars += format_damage(project.get_damage(i))\n",
    "    \n",
    "int(total_damage_dollars)"
   ]
  },
  {
   "cell_type": "code",
   "execution_count": 51,
   "id": "89364fe3",
   "metadata": {},
   "outputs": [],
   "source": [
    "def hurricanes_in_month(mm):\n",
    "    n = 0\n",
    "    for i in range(project.count()):\n",
    "        if get_month(project.get_formed(i)) == mm:\n",
    "            n += 1\n",
    "    return n"
   ]
  },
  {
   "cell_type": "code",
   "execution_count": 52,
   "id": "d14c96e8",
   "metadata": {},
   "outputs": [
    {
     "data": {
      "text/plain": [
       "4"
      ]
     },
     "execution_count": 52,
     "metadata": {},
     "output_type": "execute_result"
    }
   ],
   "source": [
    "#q15\n",
    "hurricanes_in_month(6)"
   ]
  },
  {
   "cell_type": "code",
   "execution_count": 53,
   "id": "8eb75194",
   "metadata": {},
   "outputs": [
    {
     "data": {
      "text/plain": [
       "3"
      ]
     },
     "execution_count": 53,
     "metadata": {},
     "output_type": "execute_result"
    }
   ],
   "source": [
    "#q16\n",
    "hurricanes_in_month(1)"
   ]
  },
  {
   "cell_type": "code",
   "execution_count": 56,
   "id": "abc3f872",
   "metadata": {},
   "outputs": [
    {
     "data": {
      "text/plain": [
       "9"
      ]
     },
     "execution_count": 56,
     "metadata": {},
     "output_type": "execute_result"
    }
   ],
   "source": [
    "#q17\n",
    "most_hurricanes = 0\n",
    "\n",
    "for i in range(13):\n",
    "    if hurricanes_in_month(i) > hurricanes_in_month(most_hurricanes):\n",
    "        most_hurricanes = i\n",
    "        \n",
    "most_hurricanes"
   ]
  },
  {
   "cell_type": "code",
   "execution_count": 57,
   "id": "ee8f7078",
   "metadata": {},
   "outputs": [
    {
     "data": {
      "text/plain": [
       "25"
      ]
     },
     "execution_count": 57,
     "metadata": {},
     "output_type": "execute_result"
    }
   ],
   "source": [
    "#q18\n",
    "total_formed = 0\n",
    "for i in range(project.count()):\n",
    "    if 1990 <= get_year(project.get_formed(i)) <= 1999:\n",
    "        total_formed += 1\n",
    "        \n",
    "total_formed"
   ]
  },
  {
   "cell_type": "code",
   "execution_count": 58,
   "id": "abd66aeb",
   "metadata": {},
   "outputs": [
    {
     "data": {
      "text/plain": [
       "16"
      ]
     },
     "execution_count": 58,
     "metadata": {},
     "output_type": "execute_result"
    }
   ],
   "source": [
    "#q19\n",
    "more_than_200_deaths = 0\n",
    "for i in range(project.count()):\n",
    "    if project.get_deaths(i) > 200:\n",
    "        more_than_200_deaths += 1\n",
    "\n",
    "more_than_200_deaths"
   ]
  },
  {
   "cell_type": "code",
   "execution_count": 72,
   "id": "2fa0660d",
   "metadata": {},
   "outputs": [
    {
     "data": {
      "text/plain": [
       "11"
      ]
     },
     "execution_count": 72,
     "metadata": {},
     "output_type": "execute_result"
    }
   ],
   "source": [
    "#q20\n",
    "more_than_10_billion = 0\n",
    "years = []\n",
    "for i in range(project.count()):\n",
    "    if int(format_damage(project.get_damage(i))) > 10000000000:\n",
    "        if(years.count(get_year(project.get_formed(i))) < 1):\n",
    "            years.append(get_year(project.get_formed(i)))\n",
    "        \n",
    "len(years)"
   ]
  }
 ],
 "metadata": {
  "kernelspec": {
   "display_name": "Python 3 (ipykernel)",
   "language": "python",
   "name": "python3"
  },
  "language_info": {
   "codemirror_mode": {
    "name": "ipython",
    "version": 3
   },
   "file_extension": ".py",
   "mimetype": "text/x-python",
   "name": "python",
   "nbconvert_exporter": "python",
   "pygments_lexer": "ipython3",
   "version": "3.9.13"
  }
 },
 "nbformat": 4,
 "nbformat_minor": 5
}
