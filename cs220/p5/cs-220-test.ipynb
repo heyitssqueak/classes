{
 "cells": [
  {
   "cell_type": "code",
   "execution_count": 1,
   "id": "f4e7b895",
   "metadata": {
    "execution": {
     "iopub.execute_input": "2022-06-28T16:26:53.507826Z",
     "iopub.status.busy": "2022-06-28T16:26:53.507556Z",
     "iopub.status.idle": "2022-06-28T16:26:53.524350Z",
     "shell.execute_reply": "2022-06-28T16:26:53.523921Z"
    }
   },
   "outputs": [
    {
     "data": {
      "text/plain": [
       "133"
      ]
     },
     "execution_count": 1,
     "metadata": {},
     "output_type": "execute_result"
    }
   ],
   "source": [
    "#q1\n",
    "import project\n",
    "\n",
    "project.count()"
   ]
  },
  {
   "cell_type": "code",
   "execution_count": 2,
   "id": "090bb78c",
   "metadata": {
    "execution": {
     "iopub.execute_input": "2022-06-28T16:26:53.527049Z",
     "iopub.status.busy": "2022-06-28T16:26:53.526860Z",
     "iopub.status.idle": "2022-06-28T16:26:53.530146Z",
     "shell.execute_reply": "2022-06-28T16:26:53.529730Z"
    }
   },
   "outputs": [
    {
     "data": {
      "text/plain": [
       "'Omar'"
      ]
     },
     "execution_count": 2,
     "metadata": {},
     "output_type": "execute_result"
    }
   ],
   "source": [
    "#q2\n",
    "project.get_name(project.count()-1)"
   ]
  },
  {
   "cell_type": "code",
   "execution_count": 3,
   "id": "dd3c9506",
   "metadata": {
    "execution": {
     "iopub.execute_input": "2022-06-28T16:26:53.532204Z",
     "iopub.status.busy": "2022-06-28T16:26:53.532080Z",
     "iopub.status.idle": "2022-06-28T16:26:53.534809Z",
     "shell.execute_reply": "2022-06-28T16:26:53.534463Z"
    }
   },
   "outputs": [
    {
     "data": {
      "text/plain": [
       "72"
      ]
     },
     "execution_count": 3,
     "metadata": {},
     "output_type": "execute_result"
    }
   ],
   "source": [
    "#q3\n",
    "project.get_deaths(10)"
   ]
  },
  {
   "cell_type": "code",
   "execution_count": 4,
   "id": "4a9f35da",
   "metadata": {
    "execution": {
     "iopub.execute_input": "2022-06-28T16:26:53.536590Z",
     "iopub.status.busy": "2022-06-28T16:26:53.536450Z",
     "iopub.status.idle": "2022-06-28T16:26:53.539352Z",
     "shell.execute_reply": "2022-06-28T16:26:53.539033Z"
    }
   },
   "outputs": [
    {
     "data": {
      "text/plain": [
       "True"
      ]
     },
     "execution_count": 4,
     "metadata": {},
     "output_type": "execute_result"
    }
   ],
   "source": [
    "#q4\n",
    "hasBob = False\n",
    "for i in range(project.count()):\n",
    "    if project.get_name(i) == \"Bob\":\n",
    "        hasBob = True\n",
    "        break\n",
    "\n",
    "hasBob"
   ]
  },
  {
   "cell_type": "code",
   "execution_count": 5,
   "id": "d679d50d",
   "metadata": {
    "execution": {
     "iopub.execute_input": "2022-06-28T16:26:53.541094Z",
     "iopub.status.busy": "2022-06-28T16:26:53.540961Z",
     "iopub.status.idle": "2022-06-28T16:26:53.543693Z",
     "shell.execute_reply": "2022-06-28T16:26:53.543405Z"
    }
   },
   "outputs": [
    {
     "data": {
      "text/plain": [
       "3"
      ]
     },
     "execution_count": 5,
     "metadata": {},
     "output_type": "execute_result"
    }
   ],
   "source": [
    "#q5\n",
    "counter = 0\n",
    "for i in range(project.count()):\n",
    "    if project.get_name(i).lower() == \"florence\":\n",
    "        counter += 1\n",
    "\n",
    "counter"
   ]
  },
  {
   "cell_type": "code",
   "execution_count": 6,
   "id": "e7a62c04",
   "metadata": {
    "execution": {
     "iopub.execute_input": "2022-06-28T16:26:53.545370Z",
     "iopub.status.busy": "2022-06-28T16:26:53.545249Z",
     "iopub.status.idle": "2022-06-28T16:26:53.547908Z",
     "shell.execute_reply": "2022-06-28T16:26:53.547636Z"
    }
   },
   "outputs": [
    {
     "data": {
      "text/plain": [
       "190"
      ]
     },
     "execution_count": 6,
     "metadata": {},
     "output_type": "execute_result"
    }
   ],
   "source": [
    "#q6\n",
    "fastest_mph = 0\n",
    "for i in range(project.count()):\n",
    "    if project.get_mph(i) > fastest_mph:\n",
    "        fastest_mph = project.get_mph(i)\n",
    "    \n",
    "fastest_mph"
   ]
  },
  {
   "cell_type": "code",
   "execution_count": 7,
   "id": "6f9fd8ed",
   "metadata": {
    "execution": {
     "iopub.execute_input": "2022-06-28T16:26:53.549685Z",
     "iopub.status.busy": "2022-06-28T16:26:53.549558Z",
     "iopub.status.idle": "2022-06-28T16:26:53.552379Z",
     "shell.execute_reply": "2022-06-28T16:26:53.552117Z"
    }
   },
   "outputs": [
    {
     "data": {
      "text/plain": [
       "'Allen'"
      ]
     },
     "execution_count": 7,
     "metadata": {},
     "output_type": "execute_result"
    }
   ],
   "source": [
    "#q7\n",
    "fastest_mph = 0\n",
    "fastest_mph_index = 0\n",
    "for i in range(project.count()):\n",
    "    if project.get_mph(i) > fastest_mph:\n",
    "        fastest_mph = project.get_mph(i)\n",
    "        fastest_mph_index = i\n",
    "    \n",
    "project.get_name(fastest_mph_index)"
   ]
  },
  {
   "cell_type": "code",
   "execution_count": 8,
   "id": "e8e8b78a",
   "metadata": {
    "execution": {
     "iopub.execute_input": "2022-06-28T16:26:53.554027Z",
     "iopub.status.busy": "2022-06-28T16:26:53.553901Z",
     "iopub.status.idle": "2022-06-28T16:26:53.557808Z",
     "shell.execute_reply": "2022-06-28T16:26:53.557547Z"
    }
   },
   "outputs": [
    {
     "data": {
      "text/plain": [
       "1570000000"
      ]
     },
     "execution_count": 8,
     "metadata": {},
     "output_type": "execute_result"
    }
   ],
   "source": [
    "#q8\n",
    "fastest_mph = 0\n",
    "fastest_mph_index = 0\n",
    "for i in range(project.count()):\n",
    "    if project.get_mph(i) > fastest_mph:\n",
    "        fastest_mph = project.get_mph(i)\n",
    "        fastest_mph_index = i\n",
    "\n",
    "def format_damage(damage):\n",
    "    if \"K\" in damage:\n",
    "        return float(damage[:(len(damage))-1])*1000\n",
    "    if \"M\" in damage:\n",
    "        return float(damage[:(len(damage))-1])*1000000\n",
    "    if \"B\" in damage:\n",
    "        return float(damage[:(len(damage))-1])*1000000000\n",
    "\n",
    "int(format_damage(project.get_damage(fastest_mph_index)))"
   ]
  },
  {
   "cell_type": "code",
   "execution_count": 9,
   "id": "670d6b2b",
   "metadata": {
    "execution": {
     "iopub.execute_input": "2022-06-28T16:26:53.559352Z",
     "iopub.status.busy": "2022-06-28T16:26:53.559257Z",
     "iopub.status.idle": "2022-06-28T16:26:53.561676Z",
     "shell.execute_reply": "2022-06-28T16:26:53.561429Z"
    }
   },
   "outputs": [
    {
     "data": {
      "text/plain": [
       "18960"
      ]
     },
     "execution_count": 9,
     "metadata": {},
     "output_type": "execute_result"
    }
   ],
   "source": [
    "#q9\n",
    "total_deaths = 0\n",
    "for i in range(project.count()):\n",
    "    total_deaths += project.get_deaths(i)\n",
    "    \n",
    "total_deaths"
   ]
  },
  {
   "cell_type": "code",
   "execution_count": 10,
   "id": "9367ef99",
   "metadata": {
    "execution": {
     "iopub.execute_input": "2022-06-28T16:26:53.563294Z",
     "iopub.status.busy": "2022-06-28T16:26:53.563204Z",
     "iopub.status.idle": "2022-06-28T16:26:53.566005Z",
     "shell.execute_reply": "2022-06-28T16:26:53.565759Z"
    }
   },
   "outputs": [],
   "source": [
    "def get_month(date):\n",
    "    return int(date[:2])\n",
    "\n",
    "def get_day(date):\n",
    "    return int(date[3:5])\n",
    "\n",
    "def get_year(date):\n",
    "    return int(date[-4:])\n",
    "\n",
    "def deadliest_in_range(year1, year2):\n",
    "    worst_idx = None\n",
    "    for i in range(project.count()):\n",
    "        if get_year(project.get_formed(i)) >= year1 and get_year(project.get_formed(i)) <= year2:\n",
    "            if worst_idx == None or project.get_deaths(worst_idx) < project.get_deaths(i):\n",
    "                worst_idx = i\n",
    "    return worst_idx"
   ]
  },
  {
   "cell_type": "code",
   "execution_count": 11,
   "id": "aad07e0a",
   "metadata": {
    "execution": {
     "iopub.execute_input": "2022-06-28T16:26:53.567454Z",
     "iopub.status.busy": "2022-06-28T16:26:53.567368Z",
     "iopub.status.idle": "2022-06-28T16:26:53.569494Z",
     "shell.execute_reply": "2022-06-28T16:26:53.569261Z"
    }
   },
   "outputs": [
    {
     "data": {
      "text/plain": [
       "'Maria'"
      ]
     },
     "execution_count": 11,
     "metadata": {},
     "output_type": "execute_result"
    }
   ],
   "source": [
    "#q10\n",
    "project.get_name(deadliest_in_range(2010, 2020))"
   ]
  },
  {
   "cell_type": "code",
   "execution_count": 12,
   "id": "693bd342",
   "metadata": {
    "execution": {
     "iopub.execute_input": "2022-06-28T16:26:53.570889Z",
     "iopub.status.busy": "2022-06-28T16:26:53.570805Z",
     "iopub.status.idle": "2022-06-28T16:26:53.573021Z",
     "shell.execute_reply": "2022-06-28T16:26:53.572785Z"
    }
   },
   "outputs": [
    {
     "data": {
      "text/plain": [
       "'Inez'"
      ]
     },
     "execution_count": 12,
     "metadata": {},
     "output_type": "execute_result"
    }
   ],
   "source": [
    "#q11\n",
    "project.get_name(deadliest_in_range(1901, 2000))"
   ]
  },
  {
   "cell_type": "code",
   "execution_count": 13,
   "id": "e4fb4328",
   "metadata": {
    "execution": {
     "iopub.execute_input": "2022-06-28T16:26:53.574379Z",
     "iopub.status.busy": "2022-06-28T16:26:53.574297Z",
     "iopub.status.idle": "2022-06-28T16:26:53.576567Z",
     "shell.execute_reply": "2022-06-28T16:26:53.576338Z"
    }
   },
   "outputs": [
    {
     "data": {
      "text/plain": [
       "1899"
      ]
     },
     "execution_count": 13,
     "metadata": {},
     "output_type": "execute_result"
    }
   ],
   "source": [
    "#q12\n",
    "get_year(project.get_formed(deadliest_in_range(0, 2021)))"
   ]
  },
  {
   "cell_type": "code",
   "execution_count": 14,
   "id": "0804077d",
   "metadata": {
    "execution": {
     "iopub.execute_input": "2022-06-28T16:26:53.578459Z",
     "iopub.status.busy": "2022-06-28T16:26:53.578361Z",
     "iopub.status.idle": "2022-06-28T16:26:53.580529Z",
     "shell.execute_reply": "2022-06-28T16:26:53.580297Z"
    }
   },
   "outputs": [
    {
     "data": {
      "text/plain": [
       "91610000000"
      ]
     },
     "execution_count": 14,
     "metadata": {},
     "output_type": "execute_result"
    }
   ],
   "source": [
    "#q13\n",
    "int(format_damage(project.get_damage(deadliest_in_range(2001, 2100))))"
   ]
  },
  {
   "cell_type": "code",
   "execution_count": 15,
   "id": "c9408146",
   "metadata": {
    "execution": {
     "iopub.execute_input": "2022-06-28T16:26:53.581961Z",
     "iopub.status.busy": "2022-06-28T16:26:53.581859Z",
     "iopub.status.idle": "2022-06-28T16:26:53.584265Z",
     "shell.execute_reply": "2022-06-28T16:26:53.584032Z"
    }
   },
   "outputs": [
    {
     "data": {
      "text/plain": [
       "864830465000"
      ]
     },
     "execution_count": 15,
     "metadata": {},
     "output_type": "execute_result"
    }
   ],
   "source": [
    "#q14\n",
    "total_damage_dollars = 0\n",
    "\n",
    "for i in range(project.count()):\n",
    "    total_damage_dollars += format_damage(project.get_damage(i))\n",
    "    \n",
    "int(total_damage_dollars)"
   ]
  },
  {
   "cell_type": "code",
   "execution_count": 16,
   "id": "89364fe3",
   "metadata": {
    "execution": {
     "iopub.execute_input": "2022-06-28T16:26:53.585659Z",
     "iopub.status.busy": "2022-06-28T16:26:53.585561Z",
     "iopub.status.idle": "2022-06-28T16:26:53.587349Z",
     "shell.execute_reply": "2022-06-28T16:26:53.587139Z"
    }
   },
   "outputs": [],
   "source": [
    "def hurricanes_in_month(mm):\n",
    "    n = 0\n",
    "    for i in range(project.count()):\n",
    "        if get_month(project.get_formed(i)) == mm:\n",
    "            n += 1\n",
    "    return n"
   ]
  },
  {
   "cell_type": "code",
   "execution_count": 17,
   "id": "d14c96e8",
   "metadata": {
    "execution": {
     "iopub.execute_input": "2022-06-28T16:26:53.588737Z",
     "iopub.status.busy": "2022-06-28T16:26:53.588640Z",
     "iopub.status.idle": "2022-06-28T16:26:53.590632Z",
     "shell.execute_reply": "2022-06-28T16:26:53.590421Z"
    }
   },
   "outputs": [
    {
     "data": {
      "text/plain": [
       "4"
      ]
     },
     "execution_count": 17,
     "metadata": {},
     "output_type": "execute_result"
    }
   ],
   "source": [
    "#q15\n",
    "hurricanes_in_month(6)"
   ]
  },
  {
   "cell_type": "code",
   "execution_count": 18,
   "id": "8eb75194",
   "metadata": {
    "execution": {
     "iopub.execute_input": "2022-06-28T16:26:53.592021Z",
     "iopub.status.busy": "2022-06-28T16:26:53.591923Z",
     "iopub.status.idle": "2022-06-28T16:26:53.593841Z",
     "shell.execute_reply": "2022-06-28T16:26:53.593616Z"
    }
   },
   "outputs": [
    {
     "data": {
      "text/plain": [
       "3"
      ]
     },
     "execution_count": 18,
     "metadata": {},
     "output_type": "execute_result"
    }
   ],
   "source": [
    "#q16\n",
    "hurricanes_in_month(1)"
   ]
  },
  {
   "cell_type": "code",
   "execution_count": 19,
   "id": "abc3f872",
   "metadata": {
    "execution": {
     "iopub.execute_input": "2022-06-28T16:26:53.595315Z",
     "iopub.status.busy": "2022-06-28T16:26:53.595225Z",
     "iopub.status.idle": "2022-06-28T16:26:53.598177Z",
     "shell.execute_reply": "2022-06-28T16:26:53.597959Z"
    }
   },
   "outputs": [
    {
     "data": {
      "text/plain": [
       "9"
      ]
     },
     "execution_count": 19,
     "metadata": {},
     "output_type": "execute_result"
    }
   ],
   "source": [
    "#q17\n",
    "most_hurricanes = 0\n",
    "\n",
    "for i in range(13):\n",
    "    if hurricanes_in_month(i) > hurricanes_in_month(most_hurricanes):\n",
    "        most_hurricanes = i\n",
    "        \n",
    "most_hurricanes"
   ]
  },
  {
   "cell_type": "code",
   "execution_count": 20,
   "id": "ee8f7078",
   "metadata": {
    "execution": {
     "iopub.execute_input": "2022-06-28T16:26:53.599563Z",
     "iopub.status.busy": "2022-06-28T16:26:53.599477Z",
     "iopub.status.idle": "2022-06-28T16:26:53.601862Z",
     "shell.execute_reply": "2022-06-28T16:26:53.601597Z"
    }
   },
   "outputs": [
    {
     "data": {
      "text/plain": [
       "25"
      ]
     },
     "execution_count": 20,
     "metadata": {},
     "output_type": "execute_result"
    }
   ],
   "source": [
    "#q18\n",
    "total_formed = 0\n",
    "for i in range(project.count()):\n",
    "    if 1990 <= get_year(project.get_formed(i)) <= 1999:\n",
    "        total_formed += 1\n",
    "        \n",
    "total_formed"
   ]
  },
  {
   "cell_type": "code",
   "execution_count": 21,
   "id": "abd66aeb",
   "metadata": {
    "execution": {
     "iopub.execute_input": "2022-06-28T16:26:53.603269Z",
     "iopub.status.busy": "2022-06-28T16:26:53.603172Z",
     "iopub.status.idle": "2022-06-28T16:26:53.605439Z",
     "shell.execute_reply": "2022-06-28T16:26:53.605214Z"
    }
   },
   "outputs": [
    {
     "data": {
      "text/plain": [
       "16"
      ]
     },
     "execution_count": 21,
     "metadata": {},
     "output_type": "execute_result"
    }
   ],
   "source": [
    "#q19\n",
    "more_than_200_deaths = 0\n",
    "for i in range(project.count()):\n",
    "    if project.get_deaths(i) > 200:\n",
    "        more_than_200_deaths += 1\n",
    "\n",
    "more_than_200_deaths"
   ]
  },
  {
   "cell_type": "code",
   "execution_count": 22,
   "id": "2fa0660d",
   "metadata": {
    "execution": {
     "iopub.execute_input": "2022-06-28T16:26:53.606906Z",
     "iopub.status.busy": "2022-06-28T16:26:53.606815Z",
     "iopub.status.idle": "2022-06-28T16:26:53.609518Z",
     "shell.execute_reply": "2022-06-28T16:26:53.609301Z"
    }
   },
   "outputs": [
    {
     "data": {
      "text/plain": [
       "11"
      ]
     },
     "execution_count": 22,
     "metadata": {},
     "output_type": "execute_result"
    }
   ],
   "source": [
    "#q20\n",
    "more_than_10_billion = 0\n",
    "years = []\n",
    "for i in range(project.count()):\n",
    "    if int(format_damage(project.get_damage(i))) > 10000000000:\n",
    "        if(years.count(get_year(project.get_formed(i))) < 1):\n",
    "            years.append(get_year(project.get_formed(i)))\n",
    "        \n",
    "len(years)"
   ]
  }
 ],
 "metadata": {
  "kernelspec": {
   "display_name": "Python 3 (ipykernel)",
   "language": "python",
   "name": "python3"
  },
  "language_info": {
   "codemirror_mode": {
    "name": "ipython",
    "version": 3
   },
   "file_extension": ".py",
   "mimetype": "text/x-python",
   "name": "python",
   "nbconvert_exporter": "python",
   "pygments_lexer": "ipython3",
   "version": "3.9.13"
  }
 },
 "nbformat": 4,
 "nbformat_minor": 5
}
