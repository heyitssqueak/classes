{
 "cells": [
  {
   "cell_type": "code",
   "execution_count": 1,
   "metadata": {
    "execution": {
     "iopub.execute_input": "2022-07-11T21:04:34.133673Z",
     "iopub.status.busy": "2022-07-11T21:04:34.133453Z",
     "iopub.status.idle": "2022-07-11T21:04:34.304949Z",
     "shell.execute_reply": "2022-07-11T21:04:34.304611Z"
    }
   },
   "outputs": [],
   "source": [
    "import os, requests, pandas as pd\n",
    "from pandas import Series, DataFrame\n",
    "\n",
    "def download(filename, url):\n",
    "    # We do not download again if the file already exists\n",
    "    if os.path.exists(filename):\n",
    "        return (str(filename) + \" already exists!\")\n",
    "\n",
    "    # TODO: Write the code to download the file from URL\n",
    "    # and save it in `filename`\n",
    "    r = requests.get(url)\n",
    "    r.raise_for_status()\n",
    "    data = r.text\n",
    "\n",
    "    f = open(filename, \"w\", encoding=\"utf-8\")\n",
    "    f.write(data)\n",
    "    f.close()\n",
    "\n",
    "    return (str(filename) + \" created!\")"
   ]
  },
  {
   "cell_type": "code",
   "execution_count": 2,
   "metadata": {
    "execution": {
     "iopub.execute_input": "2022-07-11T21:04:34.306830Z",
     "iopub.status.busy": "2022-07-11T21:04:34.306700Z",
     "iopub.status.idle": "2022-07-11T21:04:34.310853Z",
     "shell.execute_reply": "2022-07-11T21:04:34.310623Z"
    }
   },
   "outputs": [
    {
     "data": {
      "text/plain": [
       "'countries.json already exists!'"
      ]
     },
     "execution_count": 2,
     "metadata": {},
     "output_type": "execute_result"
    }
   ],
   "source": [
    "download(\"countries.json\", \"https://raw.githubusercontent.com/msyamkumar/cs220-projects/master/spring20/p10/countries.json\")"
   ]
  },
  {
   "cell_type": "code",
   "execution_count": 3,
   "metadata": {
    "execution": {
     "iopub.execute_input": "2022-07-11T21:04:34.326891Z",
     "iopub.status.busy": "2022-07-11T21:04:34.326756Z",
     "iopub.status.idle": "2022-07-11T21:04:34.337736Z",
     "shell.execute_reply": "2022-07-11T21:04:34.337465Z"
    }
   },
   "outputs": [
    {
     "data": {
      "text/html": [
       "<div>\n",
       "<style scoped>\n",
       "    .dataframe tbody tr th:only-of-type {\n",
       "        vertical-align: middle;\n",
       "    }\n",
       "\n",
       "    .dataframe tbody tr th {\n",
       "        vertical-align: top;\n",
       "    }\n",
       "\n",
       "    .dataframe thead th {\n",
       "        text-align: right;\n",
       "    }\n",
       "</style>\n",
       "<table border=\"1\" class=\"dataframe\">\n",
       "  <thead>\n",
       "    <tr style=\"text-align: right;\">\n",
       "      <th></th>\n",
       "      <th>area</th>\n",
       "      <th>birth-rate</th>\n",
       "      <th>coastline</th>\n",
       "      <th>continent</th>\n",
       "      <th>country</th>\n",
       "      <th>death-rate</th>\n",
       "      <th>gdp-per-capita</th>\n",
       "      <th>infant-mortality</th>\n",
       "      <th>literacy</th>\n",
       "      <th>net-migration</th>\n",
       "      <th>phones</th>\n",
       "      <th>population</th>\n",
       "      <th>region</th>\n",
       "    </tr>\n",
       "  </thead>\n",
       "  <tbody>\n",
       "    <tr>\n",
       "      <th>0</th>\n",
       "      <td>756950</td>\n",
       "      <td>15.23</td>\n",
       "      <td>0.85</td>\n",
       "      <td>South America</td>\n",
       "      <td>Chile</td>\n",
       "      <td>5.81</td>\n",
       "      <td>9900</td>\n",
       "      <td>8.80</td>\n",
       "      <td>96,2</td>\n",
       "      <td>0.00</td>\n",
       "      <td>213,0</td>\n",
       "      <td>16134219</td>\n",
       "      <td>LATIN AMER. &amp; CARIB</td>\n",
       "    </tr>\n",
       "    <tr>\n",
       "      <th>1</th>\n",
       "      <td>665</td>\n",
       "      <td>17.80</td>\n",
       "      <td>24.21</td>\n",
       "      <td>Asia</td>\n",
       "      <td>Bahrain</td>\n",
       "      <td>4.14</td>\n",
       "      <td>16900</td>\n",
       "      <td>17.27</td>\n",
       "      <td>89,1</td>\n",
       "      <td>1.05</td>\n",
       "      <td>281,3</td>\n",
       "      <td>698585</td>\n",
       "      <td>NEAR EAST</td>\n",
       "    </tr>\n",
       "    <tr>\n",
       "      <th>2</th>\n",
       "      <td>22966</td>\n",
       "      <td>28.84</td>\n",
       "      <td>1.68</td>\n",
       "      <td>North America</td>\n",
       "      <td>Belize</td>\n",
       "      <td>5.72</td>\n",
       "      <td>4900</td>\n",
       "      <td>25.69</td>\n",
       "      <td>94,1</td>\n",
       "      <td>0.00</td>\n",
       "      <td>115,7</td>\n",
       "      <td>287730</td>\n",
       "      <td>LATIN AMER. &amp; CARIB</td>\n",
       "    </tr>\n",
       "    <tr>\n",
       "      <th>3</th>\n",
       "      <td>582650</td>\n",
       "      <td>39.72</td>\n",
       "      <td>0.09</td>\n",
       "      <td>Africa</td>\n",
       "      <td>Kenya</td>\n",
       "      <td>14.02</td>\n",
       "      <td>1000</td>\n",
       "      <td>61.47</td>\n",
       "      <td>85,1</td>\n",
       "      <td>-0.10</td>\n",
       "      <td>8,1</td>\n",
       "      <td>34707817</td>\n",
       "      <td>SUB-SAHARAN AFRICA</td>\n",
       "    </tr>\n",
       "    <tr>\n",
       "      <th>4</th>\n",
       "      <td>11854</td>\n",
       "      <td>33.05</td>\n",
       "      <td>3.12</td>\n",
       "      <td>Australia</td>\n",
       "      <td>Marshall Islands</td>\n",
       "      <td>4.78</td>\n",
       "      <td>1600</td>\n",
       "      <td>29.45</td>\n",
       "      <td>93,7</td>\n",
       "      <td>-6.04</td>\n",
       "      <td>91,2</td>\n",
       "      <td>60422</td>\n",
       "      <td>OCEANIA</td>\n",
       "    </tr>\n",
       "  </tbody>\n",
       "</table>\n",
       "</div>"
      ],
      "text/plain": [
       "     area  birth-rate  coastline      continent           country  death-rate  \\\n",
       "0  756950       15.23       0.85  South America             Chile        5.81   \n",
       "1     665       17.80      24.21           Asia           Bahrain        4.14   \n",
       "2   22966       28.84       1.68  North America            Belize        5.72   \n",
       "3  582650       39.72       0.09         Africa             Kenya       14.02   \n",
       "4   11854       33.05       3.12      Australia  Marshall Islands        4.78   \n",
       "\n",
       "   gdp-per-capita  infant-mortality literacy  net-migration phones  \\\n",
       "0            9900              8.80     96,2           0.00  213,0   \n",
       "1           16900             17.27     89,1           1.05  281,3   \n",
       "2            4900             25.69     94,1           0.00  115,7   \n",
       "3            1000             61.47     85,1          -0.10    8,1   \n",
       "4            1600             29.45     93,7          -6.04   91,2   \n",
       "\n",
       "   population               region  \n",
       "0    16134219  LATIN AMER. & CARIB  \n",
       "1      698585            NEAR EAST  \n",
       "2      287730  LATIN AMER. & CARIB  \n",
       "3    34707817   SUB-SAHARAN AFRICA  \n",
       "4       60422              OCEANIA  "
      ]
     },
     "execution_count": 3,
     "metadata": {},
     "output_type": "execute_result"
    }
   ],
   "source": [
    "countries = pd.read_json(\"countries.json\")\n",
    "countries.head()"
   ]
  },
  {
   "cell_type": "code",
   "execution_count": 4,
   "metadata": {
    "execution": {
     "iopub.execute_input": "2022-07-11T21:04:34.339177Z",
     "iopub.status.busy": "2022-07-11T21:04:34.339074Z",
     "iopub.status.idle": "2022-07-11T21:04:34.340995Z",
     "shell.execute_reply": "2022-07-11T21:04:34.340768Z"
    }
   },
   "outputs": [
    {
     "data": {
      "text/plain": [
       "174"
      ]
     },
     "execution_count": 4,
     "metadata": {},
     "output_type": "execute_result"
    }
   ],
   "source": [
    "#q1\n",
    "len(countries)"
   ]
  },
  {
   "cell_type": "code",
   "execution_count": 5,
   "metadata": {
    "execution": {
     "iopub.execute_input": "2022-07-11T21:04:34.342366Z",
     "iopub.status.busy": "2022-07-11T21:04:34.342269Z",
     "iopub.status.idle": "2022-07-11T21:04:34.344455Z",
     "shell.execute_reply": "2022-07-11T21:04:34.344229Z"
    }
   },
   "outputs": [
    {
     "data": {
      "text/plain": [
       "6261901793"
      ]
     },
     "execution_count": 5,
     "metadata": {},
     "output_type": "execute_result"
    }
   ],
   "source": [
    "#q2\n",
    "col_population = countries.population\n",
    "col_population.sum()\n",
    "\n",
    "# total_population = 0\n",
    "# for pop in countries[\"population\"]:\n",
    "#     total_population += int(pop)\n",
    "# total_population"
   ]
  },
  {
   "cell_type": "code",
   "execution_count": 6,
   "metadata": {
    "execution": {
     "iopub.execute_input": "2022-07-11T21:04:34.345831Z",
     "iopub.status.busy": "2022-07-11T21:04:34.345747Z",
     "iopub.status.idle": "2022-07-11T21:04:34.347775Z",
     "shell.execute_reply": "2022-07-11T21:04:34.347556Z"
    }
   },
   "outputs": [
    {
     "data": {
      "text/plain": [
       "'capitals.json already exists!'"
      ]
     },
     "execution_count": 6,
     "metadata": {},
     "output_type": "execute_result"
    }
   ],
   "source": [
    "download(\"capitals.json\", \"https://raw.githubusercontent.com/msyamkumar/cs220-projects/master/spring20/p10/capitals.json\")"
   ]
  },
  {
   "cell_type": "code",
   "execution_count": 7,
   "metadata": {
    "execution": {
     "iopub.execute_input": "2022-07-11T21:04:34.349102Z",
     "iopub.status.busy": "2022-07-11T21:04:34.349005Z",
     "iopub.status.idle": "2022-07-11T21:04:34.353797Z",
     "shell.execute_reply": "2022-07-11T21:04:34.353583Z"
    }
   },
   "outputs": [
    {
     "data": {
      "text/html": [
       "<div>\n",
       "<style scoped>\n",
       "    .dataframe tbody tr th:only-of-type {\n",
       "        vertical-align: middle;\n",
       "    }\n",
       "\n",
       "    .dataframe tbody tr th {\n",
       "        vertical-align: top;\n",
       "    }\n",
       "\n",
       "    .dataframe thead th {\n",
       "        text-align: right;\n",
       "    }\n",
       "</style>\n",
       "<table border=\"1\" class=\"dataframe\">\n",
       "  <thead>\n",
       "    <tr style=\"text-align: right;\">\n",
       "      <th></th>\n",
       "      <th>country</th>\n",
       "      <th>capital</th>\n",
       "      <th>latitude</th>\n",
       "      <th>longitude</th>\n",
       "    </tr>\n",
       "  </thead>\n",
       "  <tbody>\n",
       "    <tr>\n",
       "      <th>0</th>\n",
       "      <td>Afghanistan</td>\n",
       "      <td>Kabul</td>\n",
       "      <td>34.516667</td>\n",
       "      <td>69.183333</td>\n",
       "    </tr>\n",
       "    <tr>\n",
       "      <th>1</th>\n",
       "      <td>Albania</td>\n",
       "      <td>Tirana</td>\n",
       "      <td>41.316667</td>\n",
       "      <td>19.816667</td>\n",
       "    </tr>\n",
       "    <tr>\n",
       "      <th>2</th>\n",
       "      <td>Algeria</td>\n",
       "      <td>Algiers</td>\n",
       "      <td>36.750000</td>\n",
       "      <td>3.050000</td>\n",
       "    </tr>\n",
       "    <tr>\n",
       "      <th>3</th>\n",
       "      <td>Anguilla</td>\n",
       "      <td>The Valley</td>\n",
       "      <td>18.216667</td>\n",
       "      <td>-63.050000</td>\n",
       "    </tr>\n",
       "    <tr>\n",
       "      <th>4</th>\n",
       "      <td>Argentina</td>\n",
       "      <td>Buenos Aires</td>\n",
       "      <td>-34.583333</td>\n",
       "      <td>-58.666667</td>\n",
       "    </tr>\n",
       "  </tbody>\n",
       "</table>\n",
       "</div>"
      ],
      "text/plain": [
       "       country       capital   latitude  longitude\n",
       "0  Afghanistan         Kabul  34.516667  69.183333\n",
       "1      Albania        Tirana  41.316667  19.816667\n",
       "2      Algeria       Algiers  36.750000   3.050000\n",
       "3     Anguilla    The Valley  18.216667 -63.050000\n",
       "4    Argentina  Buenos Aires -34.583333 -58.666667"
      ]
     },
     "execution_count": 7,
     "metadata": {},
     "output_type": "execute_result"
    }
   ],
   "source": [
    "capitals = pd.read_json(\"capitals.json\")\n",
    "capitals.head()"
   ]
  },
  {
   "cell_type": "code",
   "execution_count": 8,
   "metadata": {
    "execution": {
     "iopub.execute_input": "2022-07-11T21:04:34.355254Z",
     "iopub.status.busy": "2022-07-11T21:04:34.355172Z",
     "iopub.status.idle": "2022-07-11T21:04:34.358152Z",
     "shell.execute_reply": "2022-07-11T21:04:34.357929Z"
    }
   },
   "outputs": [
    {
     "data": {
      "text/plain": [
       "['Abu Dhabi',\n",
       " 'Abuja',\n",
       " 'Accra',\n",
       " 'Addis Ababa',\n",
       " 'Algiers',\n",
       " 'Amman',\n",
       " 'Amsterdam',\n",
       " 'Ankara',\n",
       " 'Antananarivo',\n",
       " 'Apia',\n",
       " 'Ashgabat',\n",
       " 'Asmara',\n",
       " 'Astana',\n",
       " 'Asuncion',\n",
       " 'Athens',\n",
       " 'Baghdad',\n",
       " 'Baku',\n",
       " 'Bamako',\n",
       " 'Bangkok',\n",
       " 'Beijing',\n",
       " 'Beirut',\n",
       " 'Belmopan',\n",
       " 'Berlin',\n",
       " 'Bern',\n",
       " 'Bishkek',\n",
       " 'Bissau',\n",
       " 'Bogota',\n",
       " 'Brasilia',\n",
       " 'Bridgetown',\n",
       " 'Brussels',\n",
       " 'Bucharest',\n",
       " 'Budapest',\n",
       " 'Buenos Aires',\n",
       " 'Bujumbura',\n",
       " 'Cairo',\n",
       " 'Canberra',\n",
       " 'Caracas',\n",
       " 'Castries',\n",
       " 'Chisinau',\n",
       " 'Colombo',\n",
       " 'Conakry',\n",
       " 'Copenhagen',\n",
       " 'Dakar',\n",
       " 'Damascus',\n",
       " 'Dar es Salaam',\n",
       " 'Dhaka',\n",
       " 'Djibouti',\n",
       " 'Doha',\n",
       " 'Dublin',\n",
       " 'Dushanbe',\n",
       " 'Freetown',\n",
       " 'Gaborone',\n",
       " 'George Town',\n",
       " 'Georgetown',\n",
       " 'Guatemala City',\n",
       " 'Hagatna',\n",
       " 'Hamilton',\n",
       " 'Hanoi',\n",
       " 'Harare',\n",
       " 'Havana',\n",
       " 'Helsinki',\n",
       " 'Islamabad',\n",
       " 'Jakarta',\n",
       " 'Jamestown',\n",
       " 'Jerusalem',\n",
       " 'Kabul',\n",
       " 'Kampala',\n",
       " 'Kathmandu',\n",
       " 'Khartoum',\n",
       " 'Kigali',\n",
       " 'Kingston',\n",
       " 'Kingstown',\n",
       " 'Kuala Lumpur',\n",
       " 'Kuwait City',\n",
       " 'Kyiv',\n",
       " 'La Paz',\n",
       " 'Libreville',\n",
       " 'Lilongwe',\n",
       " 'Lima',\n",
       " 'Lisbon',\n",
       " 'Ljubljana',\n",
       " 'Lome',\n",
       " 'London',\n",
       " 'Lusaka',\n",
       " 'Luxembourg',\n",
       " 'Madrid',\n",
       " 'Majuro',\n",
       " 'Malabo',\n",
       " 'Male',\n",
       " 'Managua',\n",
       " 'Manama',\n",
       " 'Manila',\n",
       " 'Maputo',\n",
       " 'Maseru',\n",
       " 'Mbabane',\n",
       " 'Melekeok',\n",
       " 'Mexico City',\n",
       " 'Minsk',\n",
       " 'Mogadishu',\n",
       " 'Monaco',\n",
       " 'Monrovia',\n",
       " 'Montevideo',\n",
       " 'Moroni',\n",
       " 'Moscow',\n",
       " 'Muscat',\n",
       " 'Nairobi',\n",
       " 'New Delhi',\n",
       " 'Niamey',\n",
       " 'Nouakchott',\n",
       " 'Noumea',\n",
       " 'Nuku’alofa',\n",
       " 'N’Djamena',\n",
       " 'Oranjestad',\n",
       " 'Oslo',\n",
       " 'Ottawa',\n",
       " 'Ouagadougou',\n",
       " 'Panama City',\n",
       " 'Papeete',\n",
       " 'Paramaribo',\n",
       " 'Paris',\n",
       " 'Phnom Penh',\n",
       " 'Port Louis',\n",
       " 'Port Moresby',\n",
       " 'Port-Vila',\n",
       " 'Port-au-Prince',\n",
       " 'Porto-Novo',\n",
       " 'Prague',\n",
       " 'Praia',\n",
       " 'Pretoria',\n",
       " 'Quito',\n",
       " 'Rabat',\n",
       " 'Reykjavik',\n",
       " 'Riga',\n",
       " 'Riyadh',\n",
       " 'Rome',\n",
       " 'Roseau',\n",
       " 'Saint George’s',\n",
       " 'San Jose',\n",
       " 'San Juan',\n",
       " 'San Marino',\n",
       " 'San Salvador',\n",
       " 'Sanaa',\n",
       " 'Santiago',\n",
       " 'Santo Domingo',\n",
       " 'Singapore',\n",
       " 'Sofia',\n",
       " 'Stockholm',\n",
       " 'Suva',\n",
       " 'Taipei',\n",
       " 'Tallinn',\n",
       " 'Tashkent',\n",
       " 'Tbilisi',\n",
       " 'Tegucigalpa',\n",
       " 'Tehran',\n",
       " 'The Valley',\n",
       " 'Thimphu',\n",
       " 'Tirana',\n",
       " 'Tokyo',\n",
       " 'Tripoli',\n",
       " 'Tunis',\n",
       " 'Ulaanbaatar',\n",
       " 'Vaduz',\n",
       " 'Valletta',\n",
       " 'Victoria',\n",
       " 'Vienna',\n",
       " 'Vientiane',\n",
       " 'Vilnius',\n",
       " 'Warsaw',\n",
       " 'Washington, D.C.',\n",
       " 'Wellington',\n",
       " 'Windhoek',\n",
       " 'Yaounde',\n",
       " 'Yerevan',\n",
       " 'Zagreb']"
      ]
     },
     "execution_count": 8,
     "metadata": {},
     "output_type": "execute_result"
    }
   ],
   "source": [
    "#q3\n",
    "sorted(list(capitals.capital))"
   ]
  },
  {
   "cell_type": "code",
   "execution_count": 9,
   "metadata": {
    "execution": {
     "iopub.execute_input": "2022-07-11T21:04:34.359531Z",
     "iopub.status.busy": "2022-07-11T21:04:34.359453Z",
     "iopub.status.idle": "2022-07-11T21:04:34.361857Z",
     "shell.execute_reply": "2022-07-11T21:04:34.361636Z"
    }
   },
   "outputs": [
    {
     "data": {
      "text/plain": [
       "'Rome'"
      ]
     },
     "execution_count": 9,
     "metadata": {},
     "output_type": "execute_result"
    }
   ],
   "source": [
    "#q4\n",
    "list(capitals[capitals.country == \"Italy\"].get(\"capital\"))[0]"
   ]
  },
  {
   "cell_type": "code",
   "execution_count": 10,
   "metadata": {
    "execution": {
     "iopub.execute_input": "2022-07-11T21:04:34.363268Z",
     "iopub.status.busy": "2022-07-11T21:04:34.363188Z",
     "iopub.status.idle": "2022-07-11T21:04:34.365441Z",
     "shell.execute_reply": "2022-07-11T21:04:34.365216Z"
    }
   },
   "outputs": [
    {
     "data": {
      "text/plain": [
       "'Belgium'"
      ]
     },
     "execution_count": 10,
     "metadata": {},
     "output_type": "execute_result"
    }
   ],
   "source": [
    "#q5\n",
    "list(capitals[capitals.capital == \"Brussels\"].get(\"country\"))[0]"
   ]
  },
  {
   "cell_type": "code",
   "execution_count": 11,
   "metadata": {
    "execution": {
     "iopub.execute_input": "2022-07-11T21:04:34.366860Z",
     "iopub.status.busy": "2022-07-11T21:04:34.366780Z",
     "iopub.status.idle": "2022-07-11T21:04:34.369064Z",
     "shell.execute_reply": "2022-07-11T21:04:34.368816Z"
    }
   },
   "outputs": [
    {
     "data": {
      "text/plain": [
       "['New Zealand',\n",
       " 'Australia',\n",
       " 'Uruguay',\n",
       " 'Argentina',\n",
       " 'Chile',\n",
       " 'Lesotho',\n",
       " 'Swaziland']"
      ]
     },
     "execution_count": 11,
     "metadata": {},
     "output_type": "execute_result"
    }
   ],
   "source": [
    "#q6\n",
    "list(capitals.sort_values(\"latitude\")[:7].get(\"country\"))"
   ]
  },
  {
   "cell_type": "code",
   "execution_count": 12,
   "metadata": {
    "execution": {
     "iopub.execute_input": "2022-07-11T21:04:34.370425Z",
     "iopub.status.busy": "2022-07-11T21:04:34.370347Z",
     "iopub.status.idle": "2022-07-11T21:04:34.372612Z",
     "shell.execute_reply": "2022-07-11T21:04:34.372394Z"
    }
   },
   "outputs": [
    {
     "data": {
      "text/plain": [
       "['Iceland',\n",
       " 'Finland',\n",
       " 'Norway',\n",
       " 'Estonia',\n",
       " 'Sweden',\n",
       " 'Latvia',\n",
       " 'Russia',\n",
       " 'Denmark',\n",
       " 'Lithuania',\n",
       " 'Belarus']"
      ]
     },
     "execution_count": 12,
     "metadata": {},
     "output_type": "execute_result"
    }
   ],
   "source": [
    "#q7\n",
    "list(capitals.sort_values(\"latitude\", ascending=[False]).get(\"country\"))[:10]"
   ]
  },
  {
   "cell_type": "code",
   "execution_count": 13,
   "metadata": {
    "execution": {
     "iopub.execute_input": "2022-07-11T21:04:34.374017Z",
     "iopub.status.busy": "2022-07-11T21:04:34.373940Z",
     "iopub.status.idle": "2022-07-11T21:04:34.376450Z",
     "shell.execute_reply": "2022-07-11T21:04:34.376220Z"
    }
   },
   "outputs": [],
   "source": [
    "from math import radians, cos, sin, asin, sqrt\n",
    "\n",
    "def haversine(lon1, lat1, lon2, lat2):\n",
    "    \"\"\"\n",
    "    Calculate the great circle distance in kilometers between two points \n",
    "    on the earth (specified in decimal degrees)\n",
    "    \"\"\"\n",
    "    # convert decimal degrees to radians \n",
    "    lon1, lat1, lon2, lat2 = map(radians, [lon1, lat1, lon2, lat2])\n",
    "\n",
    "    # haversine formula \n",
    "    dlon = lon2 - lon1 \n",
    "    dlat = lat2 - lat1 \n",
    "    a = sin(dlat/2)**2 + cos(lat1) * cos(lat2) * sin(dlon/2)**2\n",
    "    c = 2 * asin(sqrt(a)) \n",
    "    r = 3956 # Radius of earth in kilometers. Use 3956 for miles. Determines return value units.\n",
    "    return c * r"
   ]
  },
  {
   "cell_type": "code",
   "execution_count": 14,
   "metadata": {
    "execution": {
     "iopub.execute_input": "2022-07-11T21:04:34.377900Z",
     "iopub.status.busy": "2022-07-11T21:04:34.377821Z",
     "iopub.status.idle": "2022-07-11T21:04:34.380117Z",
     "shell.execute_reply": "2022-07-11T21:04:34.379870Z"
    }
   },
   "outputs": [
    {
     "data": {
      "text/plain": [
       "1.433899492072933"
      ]
     },
     "execution_count": 14,
     "metadata": {},
     "output_type": "execute_result"
    }
   ],
   "source": [
    "#q8\n",
    "haversine(-89.411893, 43.070231, -89.384113, 43.074645)"
   ]
  },
  {
   "cell_type": "code",
   "execution_count": 15,
   "metadata": {
    "execution": {
     "iopub.execute_input": "2022-07-11T21:04:34.381545Z",
     "iopub.status.busy": "2022-07-11T21:04:34.381446Z",
     "iopub.status.idle": "2022-07-11T21:04:34.385005Z",
     "shell.execute_reply": "2022-07-11T21:04:34.384760Z"
    }
   },
   "outputs": [
    {
     "data": {
      "text/plain": [
       "520.8581822565817"
      ]
     },
     "execution_count": 15,
     "metadata": {},
     "output_type": "execute_result"
    }
   ],
   "source": [
    "#q9\n",
    "ger_lat = capitals[capitals.country == \"Germany\"].iloc[0][\"latitude\"]\n",
    "ger_lon = capitals[capitals.country == \"Germany\"].iloc[0][\"longitude\"]\n",
    "nor_lat = capitals[capitals.country == \"Norway\"].iloc[0][\"latitude\"]\n",
    "nor_lon = capitals[capitals.country == \"Norway\"].iloc[0][\"longitude\"]\n",
    "haversine(ger_lon, ger_lat, nor_lon, nor_lat)"
   ]
  },
  {
   "cell_type": "code",
   "execution_count": 16,
   "metadata": {
    "execution": {
     "iopub.execute_input": "2022-07-11T21:04:34.386480Z",
     "iopub.status.busy": "2022-07-11T21:04:34.386392Z",
     "iopub.status.idle": "2022-07-11T21:04:34.394819Z",
     "shell.execute_reply": "2022-07-11T21:04:34.394579Z"
    }
   },
   "outputs": [
    {
     "data": {
      "text/html": [
       "<div>\n",
       "<style scoped>\n",
       "    .dataframe tbody tr th:only-of-type {\n",
       "        vertical-align: middle;\n",
       "    }\n",
       "\n",
       "    .dataframe tbody tr th {\n",
       "        vertical-align: top;\n",
       "    }\n",
       "\n",
       "    .dataframe thead th {\n",
       "        text-align: right;\n",
       "    }\n",
       "</style>\n",
       "<table border=\"1\" class=\"dataframe\">\n",
       "  <thead>\n",
       "    <tr style=\"text-align: right;\">\n",
       "      <th></th>\n",
       "      <th>Switzerland</th>\n",
       "      <th>Netherlands</th>\n",
       "      <th>Spain</th>\n",
       "    </tr>\n",
       "  </thead>\n",
       "  <tbody>\n",
       "    <tr>\n",
       "      <th>Switzerland</th>\n",
       "      <td>NaN</td>\n",
       "      <td>392.028643</td>\n",
       "      <td>714.804467</td>\n",
       "    </tr>\n",
       "    <tr>\n",
       "      <th>Netherlands</th>\n",
       "      <td>392.028643</td>\n",
       "      <td>NaN</td>\n",
       "      <td>919.6841</td>\n",
       "    </tr>\n",
       "    <tr>\n",
       "      <th>Spain</th>\n",
       "      <td>714.804467</td>\n",
       "      <td>919.6841</td>\n",
       "      <td>NaN</td>\n",
       "    </tr>\n",
       "  </tbody>\n",
       "</table>\n",
       "</div>"
      ],
      "text/plain": [
       "            Switzerland Netherlands       Spain\n",
       "Switzerland         NaN  392.028643  714.804467\n",
       "Netherlands  392.028643         NaN    919.6841\n",
       "Spain        714.804467    919.6841         NaN"
      ]
     },
     "execution_count": 16,
     "metadata": {},
     "output_type": "execute_result"
    }
   ],
   "source": [
    "#q10\n",
    "def find_distance(p1, p2):\n",
    "    p1_lat = capitals[capitals.country == p1].iloc[0][\"latitude\"]\n",
    "    p1_lon = capitals[capitals.country == p1].iloc[0][\"longitude\"]\n",
    "    p2_lat = capitals[capitals.country == p2].iloc[0][\"latitude\"]\n",
    "    p2_lon = capitals[capitals.country == p2].iloc[0][\"longitude\"]\n",
    "\n",
    "    return haversine(p1_lon, p1_lat, p2_lon, p2_lat)\n",
    "\n",
    "def distances_between(countries):\n",
    "    df = pd.DataFrame(columns=countries, index=countries)\n",
    "\n",
    "    for col in df:\n",
    "        for row in df.index:\n",
    "            if col != row:\n",
    "                df[col][row] = find_distance(col, row)\n",
    "    \n",
    "    return df\n",
    "\n",
    "distances_between([\"Switzerland\", \"Netherlands\", \"Spain\"])"
   ]
  },
  {
   "cell_type": "code",
   "execution_count": 17,
   "metadata": {
    "execution": {
     "iopub.execute_input": "2022-07-11T21:04:34.396430Z",
     "iopub.status.busy": "2022-07-11T21:04:34.396330Z",
     "iopub.status.idle": "2022-07-11T21:04:34.474599Z",
     "shell.execute_reply": "2022-07-11T21:04:34.474338Z"
    }
   },
   "outputs": [
    {
     "data": {
      "text/html": [
       "<div>\n",
       "<style scoped>\n",
       "    .dataframe tbody tr th:only-of-type {\n",
       "        vertical-align: middle;\n",
       "    }\n",
       "\n",
       "    .dataframe tbody tr th {\n",
       "        vertical-align: top;\n",
       "    }\n",
       "\n",
       "    .dataframe thead th {\n",
       "        text-align: right;\n",
       "    }\n",
       "</style>\n",
       "<table border=\"1\" class=\"dataframe\">\n",
       "  <thead>\n",
       "    <tr style=\"text-align: right;\">\n",
       "      <th></th>\n",
       "      <th>Chile</th>\n",
       "      <th>Guyana</th>\n",
       "      <th>Colombia</th>\n",
       "      <th>Suriname</th>\n",
       "      <th>Brazil</th>\n",
       "      <th>Bolivia</th>\n",
       "      <th>Venezuela</th>\n",
       "      <th>Argentina</th>\n",
       "      <th>Peru</th>\n",
       "      <th>Ecuador</th>\n",
       "      <th>Uruguay</th>\n",
       "      <th>Paraguay</th>\n",
       "    </tr>\n",
       "  </thead>\n",
       "  <tbody>\n",
       "    <tr>\n",
       "      <th>Chile</th>\n",
       "      <td>NaN</td>\n",
       "      <td>2897.553095</td>\n",
       "      <td>2636.644599</td>\n",
       "      <td>2895.810776</td>\n",
       "      <td>1869.737031</td>\n",
       "      <td>1180.741903</td>\n",
       "      <td>3043.657689</td>\n",
       "      <td>690.784168</td>\n",
       "      <td>1531.480189</td>\n",
       "      <td>2350.207788</td>\n",
       "      <td>833.403262</td>\n",
       "      <td>963.635535</td>\n",
       "    </tr>\n",
       "    <tr>\n",
       "      <th>Guyana</th>\n",
       "      <td>2897.553095</td>\n",
       "      <td>NaN</td>\n",
       "      <td>1105.066312</td>\n",
       "      <td>215.336336</td>\n",
       "      <td>1709.071018</td>\n",
       "      <td>1747.77267</td>\n",
       "      <td>646.969843</td>\n",
       "      <td>2857.520462</td>\n",
       "      <td>1837.860149</td>\n",
       "      <td>1483.193753</td>\n",
       "      <td>2878.638295</td>\n",
       "      <td>2214.288286</td>\n",
       "    </tr>\n",
       "    <tr>\n",
       "      <th>Colombia</th>\n",
       "      <td>2636.644599</td>\n",
       "      <td>1105.066312</td>\n",
       "      <td>NaN</td>\n",
       "      <td>1303.405134</td>\n",
       "      <td>2275.516286</td>\n",
       "      <td>1512.119255</td>\n",
       "      <td>639.361118</td>\n",
       "      <td>2885.35561</td>\n",
       "      <td>1167.505359</td>\n",
       "      <td>451.004119</td>\n",
       "      <td>2962.230943</td>\n",
       "      <td>2337.615967</td>\n",
       "    </tr>\n",
       "    <tr>\n",
       "      <th>Suriname</th>\n",
       "      <td>2895.810776</td>\n",
       "      <td>215.336336</td>\n",
       "      <td>1303.405134</td>\n",
       "      <td>NaN</td>\n",
       "      <td>1572.674232</td>\n",
       "      <td>1778.772975</td>\n",
       "      <td>861.456786</td>\n",
       "      <td>2799.886429</td>\n",
       "      <td>1944.750017</td>\n",
       "      <td>1661.699022</td>\n",
       "      <td>2809.744412</td>\n",
       "      <td>2153.855447</td>\n",
       "    </tr>\n",
       "    <tr>\n",
       "      <th>Brazil</th>\n",
       "      <td>1869.737031</td>\n",
       "      <td>1709.071018</td>\n",
       "      <td>2275.516286</td>\n",
       "      <td>1572.674232</td>\n",
       "      <td>NaN</td>\n",
       "      <td>1342.297074</td>\n",
       "      <td>2228.690679</td>\n",
       "      <td>1459.139733</td>\n",
       "      <td>1967.770515</td>\n",
       "      <td>2344.584922</td>\n",
       "      <td>1412.096335</td>\n",
       "      <td>908.18571</td>\n",
       "    </tr>\n",
       "    <tr>\n",
       "      <th>Bolivia</th>\n",
       "      <td>1180.741903</td>\n",
       "      <td>1747.77267</td>\n",
       "      <td>1512.119255</td>\n",
       "      <td>1778.772975</td>\n",
       "      <td>1342.297074</td>\n",
       "      <td>NaN</td>\n",
       "      <td>1865.131181</td>\n",
       "      <td>1379.455701</td>\n",
       "      <td>669.926372</td>\n",
       "      <td>1326.758656</td>\n",
       "      <td>1467.253638</td>\n",
       "      <td>906.799256</td>\n",
       "    </tr>\n",
       "    <tr>\n",
       "      <th>Venezuela</th>\n",
       "      <td>3043.657689</td>\n",
       "      <td>646.969843</td>\n",
       "      <td>639.361118</td>\n",
       "      <td>861.456786</td>\n",
       "      <td>2228.690679</td>\n",
       "      <td>1865.131181</td>\n",
       "      <td>NaN</td>\n",
       "      <td>3157.624051</td>\n",
       "      <td>1705.418003</td>\n",
       "      <td>1088.064117</td>\n",
       "      <td>3207.352176</td>\n",
       "      <td>2544.799572</td>\n",
       "    </tr>\n",
       "    <tr>\n",
       "      <th>Argentina</th>\n",
       "      <td>690.784168</td>\n",
       "      <td>2857.520462</td>\n",
       "      <td>2885.35561</td>\n",
       "      <td>2799.886429</td>\n",
       "      <td>1459.139733</td>\n",
       "      <td>1379.455701</td>\n",
       "      <td>3157.624051</td>\n",
       "      <td>NaN</td>\n",
       "      <td>1936.46579</td>\n",
       "      <td>2696.149591</td>\n",
       "      <td>143.069943</td>\n",
       "      <td>646.036441</td>\n",
       "    </tr>\n",
       "    <tr>\n",
       "      <th>Peru</th>\n",
       "      <td>1531.480189</td>\n",
       "      <td>1837.860149</td>\n",
       "      <td>1167.505359</td>\n",
       "      <td>1944.750017</td>\n",
       "      <td>1967.770515</td>\n",
       "      <td>669.926372</td>\n",
       "      <td>1705.418003</td>\n",
       "      <td>1936.46579</td>\n",
       "      <td>NaN</td>\n",
       "      <td>823.054491</td>\n",
       "      <td>2046.571589</td>\n",
       "      <td>1558.635236</td>\n",
       "    </tr>\n",
       "    <tr>\n",
       "      <th>Ecuador</th>\n",
       "      <td>2350.207788</td>\n",
       "      <td>1483.193753</td>\n",
       "      <td>451.004119</td>\n",
       "      <td>1661.699022</td>\n",
       "      <td>2344.584922</td>\n",
       "      <td>1326.758656</td>\n",
       "      <td>1088.064117</td>\n",
       "      <td>2696.149591</td>\n",
       "      <td>823.054491</td>\n",
       "      <td>NaN</td>\n",
       "      <td>2791.196721</td>\n",
       "      <td>2218.650964</td>\n",
       "    </tr>\n",
       "    <tr>\n",
       "      <th>Uruguay</th>\n",
       "      <td>833.403262</td>\n",
       "      <td>2878.638295</td>\n",
       "      <td>2962.230943</td>\n",
       "      <td>2809.744412</td>\n",
       "      <td>1412.096335</td>\n",
       "      <td>1467.253638</td>\n",
       "      <td>3207.352176</td>\n",
       "      <td>143.069943</td>\n",
       "      <td>2046.571589</td>\n",
       "      <td>2791.196721</td>\n",
       "      <td>NaN</td>\n",
       "      <td>667.699386</td>\n",
       "    </tr>\n",
       "    <tr>\n",
       "      <th>Paraguay</th>\n",
       "      <td>963.635535</td>\n",
       "      <td>2214.288286</td>\n",
       "      <td>2337.615967</td>\n",
       "      <td>2153.855447</td>\n",
       "      <td>908.18571</td>\n",
       "      <td>906.799256</td>\n",
       "      <td>2544.799572</td>\n",
       "      <td>646.036441</td>\n",
       "      <td>1558.635236</td>\n",
       "      <td>2218.650964</td>\n",
       "      <td>667.699386</td>\n",
       "      <td>NaN</td>\n",
       "    </tr>\n",
       "  </tbody>\n",
       "</table>\n",
       "</div>"
      ],
      "text/plain": [
       "                 Chile       Guyana     Colombia     Suriname       Brazil  \\\n",
       "Chile              NaN  2897.553095  2636.644599  2895.810776  1869.737031   \n",
       "Guyana     2897.553095          NaN  1105.066312   215.336336  1709.071018   \n",
       "Colombia   2636.644599  1105.066312          NaN  1303.405134  2275.516286   \n",
       "Suriname   2895.810776   215.336336  1303.405134          NaN  1572.674232   \n",
       "Brazil     1869.737031  1709.071018  2275.516286  1572.674232          NaN   \n",
       "Bolivia    1180.741903   1747.77267  1512.119255  1778.772975  1342.297074   \n",
       "Venezuela  3043.657689   646.969843   639.361118   861.456786  2228.690679   \n",
       "Argentina   690.784168  2857.520462   2885.35561  2799.886429  1459.139733   \n",
       "Peru       1531.480189  1837.860149  1167.505359  1944.750017  1967.770515   \n",
       "Ecuador    2350.207788  1483.193753   451.004119  1661.699022  2344.584922   \n",
       "Uruguay     833.403262  2878.638295  2962.230943  2809.744412  1412.096335   \n",
       "Paraguay    963.635535  2214.288286  2337.615967  2153.855447    908.18571   \n",
       "\n",
       "               Bolivia    Venezuela    Argentina         Peru      Ecuador  \\\n",
       "Chile      1180.741903  3043.657689   690.784168  1531.480189  2350.207788   \n",
       "Guyana      1747.77267   646.969843  2857.520462  1837.860149  1483.193753   \n",
       "Colombia   1512.119255   639.361118   2885.35561  1167.505359   451.004119   \n",
       "Suriname   1778.772975   861.456786  2799.886429  1944.750017  1661.699022   \n",
       "Brazil     1342.297074  2228.690679  1459.139733  1967.770515  2344.584922   \n",
       "Bolivia            NaN  1865.131181  1379.455701   669.926372  1326.758656   \n",
       "Venezuela  1865.131181          NaN  3157.624051  1705.418003  1088.064117   \n",
       "Argentina  1379.455701  3157.624051          NaN   1936.46579  2696.149591   \n",
       "Peru        669.926372  1705.418003   1936.46579          NaN   823.054491   \n",
       "Ecuador    1326.758656  1088.064117  2696.149591   823.054491          NaN   \n",
       "Uruguay    1467.253638  3207.352176   143.069943  2046.571589  2791.196721   \n",
       "Paraguay    906.799256  2544.799572   646.036441  1558.635236  2218.650964   \n",
       "\n",
       "               Uruguay     Paraguay  \n",
       "Chile       833.403262   963.635535  \n",
       "Guyana     2878.638295  2214.288286  \n",
       "Colombia   2962.230943  2337.615967  \n",
       "Suriname   2809.744412  2153.855447  \n",
       "Brazil     1412.096335    908.18571  \n",
       "Bolivia    1467.253638   906.799256  \n",
       "Venezuela  3207.352176  2544.799572  \n",
       "Argentina   143.069943   646.036441  \n",
       "Peru       2046.571589  1558.635236  \n",
       "Ecuador    2791.196721  2218.650964  \n",
       "Uruguay            NaN   667.699386  \n",
       "Paraguay    667.699386          NaN  "
      ]
     },
     "execution_count": 17,
     "metadata": {},
     "output_type": "execute_result"
    }
   ],
   "source": [
    "#q11\n",
    "south_america_distances = distances_between(list(countries[countries.continent == \"South America\"].get(\"country\")))\n",
    "south_america_distances"
   ]
  },
  {
   "cell_type": "code",
   "execution_count": 18,
   "metadata": {
    "execution": {
     "iopub.execute_input": "2022-07-11T21:04:34.476129Z",
     "iopub.status.busy": "2022-07-11T21:04:34.476038Z",
     "iopub.status.idle": "2022-07-11T21:04:34.478939Z",
     "shell.execute_reply": "2022-07-11T21:04:34.478698Z"
    }
   },
   "outputs": [
    {
     "data": {
      "text/plain": [
       "'Bolivia'"
      ]
     },
     "execution_count": 18,
     "metadata": {},
     "output_type": "execute_result"
    }
   ],
   "source": [
    "#q12\n",
    "means = {}\n",
    "for country in south_america_distances: # col\n",
    "    # total_distance = 0.0\n",
    "\n",
    "    # for cell in south_america_distances[country]:\n",
    "    #     if not pd.isnull(cell):\n",
    "    #         total_distance += float(cell)\n",
    "        \n",
    "    # print(total_distance / (len(south_america_distances[country])-1))\n",
    "\n",
    "    means[country] = DataFrame.mean(south_america_distances[country])\n",
    "\n",
    "means = Series(means)\n",
    "means.idxmin()\n",
    "\n",
    "# shortest = None\n",
    "# for mean in means:\n",
    "#     if shortest == None or means[mean] < means[shortest]:\n",
    "#         shortest = mean\n",
    "\n",
    "# shortest\n"
   ]
  },
  {
   "cell_type": "code",
   "execution_count": 19,
   "metadata": {
    "execution": {
     "iopub.execute_input": "2022-07-11T21:04:34.480651Z",
     "iopub.status.busy": "2022-07-11T21:04:34.480545Z",
     "iopub.status.idle": "2022-07-11T21:04:34.482689Z",
     "shell.execute_reply": "2022-07-11T21:04:34.482457Z"
    }
   },
   "outputs": [
    {
     "data": {
      "text/plain": [
       "'Uruguay'"
      ]
     },
     "execution_count": 19,
     "metadata": {},
     "output_type": "execute_result"
    }
   ],
   "source": [
    "#q13\n",
    "# longest = None\n",
    "# for mean in means:\n",
    "#     if longest == None or means[mean] > means[longest]:\n",
    "#         longest = mean\n",
    "\n",
    "# longest\n",
    "\n",
    "means.idxmax()"
   ]
  },
  {
   "cell_type": "code",
   "execution_count": 20,
   "metadata": {
    "execution": {
     "iopub.execute_input": "2022-07-11T21:04:34.484119Z",
     "iopub.status.busy": "2022-07-11T21:04:34.484024Z",
     "iopub.status.idle": "2022-07-11T21:04:34.493834Z",
     "shell.execute_reply": "2022-07-11T21:04:34.493582Z"
    }
   },
   "outputs": [
    {
     "data": {
      "text/html": [
       "<div>\n",
       "<style scoped>\n",
       "    .dataframe tbody tr th:only-of-type {\n",
       "        vertical-align: middle;\n",
       "    }\n",
       "\n",
       "    .dataframe tbody tr th {\n",
       "        vertical-align: top;\n",
       "    }\n",
       "\n",
       "    .dataframe thead th {\n",
       "        text-align: right;\n",
       "    }\n",
       "</style>\n",
       "<table border=\"1\" class=\"dataframe\">\n",
       "  <thead>\n",
       "    <tr style=\"text-align: right;\">\n",
       "      <th></th>\n",
       "      <th>nearest</th>\n",
       "      <th>distance</th>\n",
       "    </tr>\n",
       "  </thead>\n",
       "  <tbody>\n",
       "    <tr>\n",
       "      <th>Chile</th>\n",
       "      <td>Argentina</td>\n",
       "      <td>690.784168</td>\n",
       "    </tr>\n",
       "    <tr>\n",
       "      <th>Guyana</th>\n",
       "      <td>Suriname</td>\n",
       "      <td>215.336336</td>\n",
       "    </tr>\n",
       "    <tr>\n",
       "      <th>Colombia</th>\n",
       "      <td>Ecuador</td>\n",
       "      <td>451.004119</td>\n",
       "    </tr>\n",
       "    <tr>\n",
       "      <th>Suriname</th>\n",
       "      <td>Guyana</td>\n",
       "      <td>215.336336</td>\n",
       "    </tr>\n",
       "    <tr>\n",
       "      <th>Brazil</th>\n",
       "      <td>Paraguay</td>\n",
       "      <td>908.185710</td>\n",
       "    </tr>\n",
       "    <tr>\n",
       "      <th>Bolivia</th>\n",
       "      <td>Peru</td>\n",
       "      <td>669.926372</td>\n",
       "    </tr>\n",
       "    <tr>\n",
       "      <th>Venezuela</th>\n",
       "      <td>Colombia</td>\n",
       "      <td>639.361118</td>\n",
       "    </tr>\n",
       "    <tr>\n",
       "      <th>Argentina</th>\n",
       "      <td>Uruguay</td>\n",
       "      <td>143.069943</td>\n",
       "    </tr>\n",
       "    <tr>\n",
       "      <th>Peru</th>\n",
       "      <td>Bolivia</td>\n",
       "      <td>669.926372</td>\n",
       "    </tr>\n",
       "    <tr>\n",
       "      <th>Ecuador</th>\n",
       "      <td>Colombia</td>\n",
       "      <td>451.004119</td>\n",
       "    </tr>\n",
       "    <tr>\n",
       "      <th>Uruguay</th>\n",
       "      <td>Argentina</td>\n",
       "      <td>143.069943</td>\n",
       "    </tr>\n",
       "    <tr>\n",
       "      <th>Paraguay</th>\n",
       "      <td>Argentina</td>\n",
       "      <td>646.036441</td>\n",
       "    </tr>\n",
       "  </tbody>\n",
       "</table>\n",
       "</div>"
      ],
      "text/plain": [
       "             nearest    distance\n",
       "Chile      Argentina  690.784168\n",
       "Guyana      Suriname  215.336336\n",
       "Colombia     Ecuador  451.004119\n",
       "Suriname      Guyana  215.336336\n",
       "Brazil      Paraguay  908.185710\n",
       "Bolivia         Peru  669.926372\n",
       "Venezuela   Colombia  639.361118\n",
       "Argentina    Uruguay  143.069943\n",
       "Peru         Bolivia  669.926372\n",
       "Ecuador     Colombia  451.004119\n",
       "Uruguay    Argentina  143.069943\n",
       "Paraguay   Argentina  646.036441"
      ]
     },
     "execution_count": 20,
     "metadata": {},
     "output_type": "execute_result"
    }
   ],
   "source": [
    "#q14\n",
    "a = Series([\"honk1\", \"honk2\"])\n",
    "b = Series([\"honk3\", \"honk4\"])\n",
    "\n",
    "df = DataFrame(columns=[\"nearest\", \"distance\"])\n",
    "\n",
    "for country in south_america_distances:\n",
    "    distances = Series(south_america_distances[country])\n",
    "    nearest = distances[distances == distances.min()]\n",
    "\n",
    "    # print(nearest)\n",
    "    # print(nearest.iloc[0])\n",
    "    # print(nearest.index[0])\n",
    "    # print(nearest.name)\n",
    "\n",
    "    df.loc[nearest.name] = nearest.index[0], float(nearest.iloc[0])\n",
    "\n",
    "df\n"
   ]
  },
  {
   "cell_type": "code",
   "execution_count": 21,
   "metadata": {
    "execution": {
     "iopub.execute_input": "2022-07-11T21:04:34.495309Z",
     "iopub.status.busy": "2022-07-11T21:04:34.495194Z",
     "iopub.status.idle": "2022-07-11T21:04:34.504386Z",
     "shell.execute_reply": "2022-07-11T21:04:34.504165Z"
    }
   },
   "outputs": [
    {
     "data": {
      "text/html": [
       "<div>\n",
       "<style scoped>\n",
       "    .dataframe tbody tr th:only-of-type {\n",
       "        vertical-align: middle;\n",
       "    }\n",
       "\n",
       "    .dataframe tbody tr th {\n",
       "        vertical-align: top;\n",
       "    }\n",
       "\n",
       "    .dataframe thead th {\n",
       "        text-align: right;\n",
       "    }\n",
       "</style>\n",
       "<table border=\"1\" class=\"dataframe\">\n",
       "  <thead>\n",
       "    <tr style=\"text-align: right;\">\n",
       "      <th></th>\n",
       "      <th>furthest</th>\n",
       "      <th>distance</th>\n",
       "    </tr>\n",
       "  </thead>\n",
       "  <tbody>\n",
       "    <tr>\n",
       "      <th>Chile</th>\n",
       "      <td>Venezuela</td>\n",
       "      <td>3043.657689</td>\n",
       "    </tr>\n",
       "    <tr>\n",
       "      <th>Guyana</th>\n",
       "      <td>Chile</td>\n",
       "      <td>2897.553095</td>\n",
       "    </tr>\n",
       "    <tr>\n",
       "      <th>Colombia</th>\n",
       "      <td>Uruguay</td>\n",
       "      <td>2962.230943</td>\n",
       "    </tr>\n",
       "    <tr>\n",
       "      <th>Suriname</th>\n",
       "      <td>Chile</td>\n",
       "      <td>2895.810776</td>\n",
       "    </tr>\n",
       "    <tr>\n",
       "      <th>Brazil</th>\n",
       "      <td>Ecuador</td>\n",
       "      <td>2344.584922</td>\n",
       "    </tr>\n",
       "    <tr>\n",
       "      <th>Bolivia</th>\n",
       "      <td>Venezuela</td>\n",
       "      <td>1865.131181</td>\n",
       "    </tr>\n",
       "    <tr>\n",
       "      <th>Venezuela</th>\n",
       "      <td>Uruguay</td>\n",
       "      <td>3207.352176</td>\n",
       "    </tr>\n",
       "    <tr>\n",
       "      <th>Argentina</th>\n",
       "      <td>Venezuela</td>\n",
       "      <td>3157.624051</td>\n",
       "    </tr>\n",
       "    <tr>\n",
       "      <th>Peru</th>\n",
       "      <td>Uruguay</td>\n",
       "      <td>2046.571589</td>\n",
       "    </tr>\n",
       "    <tr>\n",
       "      <th>Ecuador</th>\n",
       "      <td>Uruguay</td>\n",
       "      <td>2791.196721</td>\n",
       "    </tr>\n",
       "    <tr>\n",
       "      <th>Uruguay</th>\n",
       "      <td>Venezuela</td>\n",
       "      <td>3207.352176</td>\n",
       "    </tr>\n",
       "    <tr>\n",
       "      <th>Paraguay</th>\n",
       "      <td>Venezuela</td>\n",
       "      <td>2544.799572</td>\n",
       "    </tr>\n",
       "  </tbody>\n",
       "</table>\n",
       "</div>"
      ],
      "text/plain": [
       "            furthest     distance\n",
       "Chile      Venezuela  3043.657689\n",
       "Guyana         Chile  2897.553095\n",
       "Colombia     Uruguay  2962.230943\n",
       "Suriname       Chile  2895.810776\n",
       "Brazil       Ecuador  2344.584922\n",
       "Bolivia    Venezuela  1865.131181\n",
       "Venezuela    Uruguay  3207.352176\n",
       "Argentina  Venezuela  3157.624051\n",
       "Peru         Uruguay  2046.571589\n",
       "Ecuador      Uruguay  2791.196721\n",
       "Uruguay    Venezuela  3207.352176\n",
       "Paraguay   Venezuela  2544.799572"
      ]
     },
     "execution_count": 21,
     "metadata": {},
     "output_type": "execute_result"
    }
   ],
   "source": [
    "#q15\n",
    "df = DataFrame(columns=[\"furthest\", \"distance\"])\n",
    "\n",
    "for country in south_america_distances:\n",
    "    distances = Series(south_america_distances[country])\n",
    "    nearest = distances[distances == distances.max()]\n",
    "\n",
    "    # print(nearest)\n",
    "    # print(nearest.iloc[0])\n",
    "    # print(nearest.index[0])\n",
    "    # print(nearest.name)\n",
    "\n",
    "    df.loc[nearest.name] = nearest.index[0], float(nearest.iloc[0])\n",
    "\n",
    "df"
   ]
  },
  {
   "cell_type": "code",
   "execution_count": null,
   "metadata": {},
   "outputs": [],
   "source": []
  }
 ],
 "metadata": {
  "kernelspec": {
   "display_name": "Python 3.9.13 64-bit",
   "language": "python",
   "name": "python3"
  },
  "language_info": {
   "codemirror_mode": {
    "name": "ipython",
    "version": 3
   },
   "file_extension": ".py",
   "mimetype": "text/x-python",
   "name": "python",
   "nbconvert_exporter": "python",
   "pygments_lexer": "ipython3",
   "version": "3.9.13"
  },
  "vscode": {
   "interpreter": {
    "hash": "b0fa6594d8f4cbf19f97940f81e996739fb7646882a419484c72d19e05852a7e"
   }
  }
 },
 "nbformat": 4,
 "nbformat_minor": 2
}
