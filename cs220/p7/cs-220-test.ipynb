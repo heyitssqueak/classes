{
 "cells": [
  {
   "cell_type": "code",
   "execution_count": 1,
   "id": "ab96e8dc",
   "metadata": {
    "execution": {
     "iopub.execute_input": "2022-07-06T02:04:52.580232Z",
     "iopub.status.busy": "2022-07-06T02:04:52.579886Z",
     "iopub.status.idle": "2022-07-06T02:04:52.635186Z",
     "shell.execute_reply": "2022-07-06T02:04:52.634864Z"
    }
   },
   "outputs": [],
   "source": [
    "import csv\n",
    "\n",
    "fifa_file = open('Fifa20.csv', encoding='utf-8')\n",
    "file_reader = csv.reader(fifa_file)\n",
    "player_data = list(file_reader)\n",
    "fifa_file.close()\n",
    "header = player_data[0]\n",
    "player_data = player_data[1:]\n",
    "for row in player_data:\n",
    "    for idx in [2, 4]:\n",
    "        row[idx] = int(row[idx])"
   ]
  },
  {
   "cell_type": "code",
   "execution_count": 2,
   "id": "61503f2f",
   "metadata": {
    "execution": {
     "iopub.execute_input": "2022-07-06T02:04:52.637059Z",
     "iopub.status.busy": "2022-07-06T02:04:52.636926Z",
     "iopub.status.idle": "2022-07-06T02:04:52.639222Z",
     "shell.execute_reply": "2022-07-06T02:04:52.638962Z"
    }
   },
   "outputs": [],
   "source": [
    "def cell(row_idx, col_name):\n",
    "    col_idx = header.index(col_name)\n",
    "    val = player_data[row_idx][col_idx]\n",
    "    if val == \"\":\n",
    "        return None\n",
    "    # optional: convert types based on column name?\n",
    "    if col_name == \"points\":\n",
    "        return int(val)\n",
    "    if col_name == \"price\":\n",
    "        return float(val)\n",
    "    return val"
   ]
  },
  {
   "cell_type": "code",
   "execution_count": 3,
   "id": "cebdda91",
   "metadata": {
    "execution": {
     "iopub.execute_input": "2022-07-06T02:04:52.640765Z",
     "iopub.status.busy": "2022-07-06T02:04:52.640661Z",
     "iopub.status.idle": "2022-07-06T02:04:52.642594Z",
     "shell.execute_reply": "2022-07-06T02:04:52.642359Z"
    }
   },
   "outputs": [
    {
     "name": "stdout",
     "output_type": "stream",
     "text": [
      "['ID', 'Name', 'Age', 'Nationality', 'Overall', 'Club', 'Position', 'Value', 'Wage', 'Preferred Foot', 'Jersey Number', 'Height', 'Weight']\n",
      "['158023', 'L. Messi', 32, 'Argentina', 94, 'FC Barcelona', 'RW', '€95.5M', '€565K', 'Left', '10', \"5'7\", '159lbs']\n",
      "['20801', 'Cristiano Ronaldo', 34, 'Portugal', 93, 'Juventus', 'ST', '€58.5M', '€405K', 'Right', '7', \"6'2\", '183lbs']\n",
      "['190871', 'Neymar Jr', 27, 'Brazil', 92, 'Paris Saint-Germain', 'LW', '€105.5M', '€290K', 'Right', '10', \"5'9\", '150lbs']\n",
      "['200389', 'J. Oblak', 26, 'Slovenia', 91, 'Atlético Madrid', 'GK', '€77.5M', '€125K', 'Right', '13', \"6'2\", '192lbs']\n",
      "['183277', 'E. Hazard', 28, 'Belgium', 91, 'Real Madrid', 'LW', '€90M', '€470K', 'Right', '7', \"5'9\", '163lbs']\n"
     ]
    }
   ],
   "source": [
    "# peeking\n",
    "print(header)\n",
    "for row in player_data[:5]:\n",
    "    print(row)"
   ]
  },
  {
   "cell_type": "code",
   "execution_count": 4,
   "id": "cc81e249",
   "metadata": {
    "execution": {
     "iopub.execute_input": "2022-07-06T02:04:52.644065Z",
     "iopub.status.busy": "2022-07-06T02:04:52.643966Z",
     "iopub.status.idle": "2022-07-06T02:04:52.655508Z",
     "shell.execute_reply": "2022-07-06T02:04:52.655273Z"
    }
   },
   "outputs": [
    {
     "data": {
      "text/plain": [
       "'A. Hložek'"
      ]
     },
     "execution_count": 4,
     "metadata": {},
     "output_type": "execute_result"
    }
   ],
   "source": [
    "#q1\n",
    "youngest = 1\n",
    "for i in range(len(player_data)):\n",
    "    if cell(i, \"Age\") < cell(youngest, \"Age\"):\n",
    "        youngest = i\n",
    "\n",
    "cell(youngest, \"Name\")"
   ]
  },
  {
   "cell_type": "code",
   "execution_count": 5,
   "id": "d819a870",
   "metadata": {
    "execution": {
     "iopub.execute_input": "2022-07-06T02:04:52.656996Z",
     "iopub.status.busy": "2022-07-06T02:04:52.656914Z",
     "iopub.status.idle": "2022-07-06T02:04:52.659316Z",
     "shell.execute_reply": "2022-07-06T02:04:52.659090Z"
    }
   },
   "outputs": [],
   "source": [
    "def parse_wage(wage):\n",
    "    if \"K\" in wage:\n",
    "        wage_l = list(wage)\n",
    "        wage_l.pop(0)\n",
    "        wage_l.pop(-1)\n",
    "        str = \"\"\n",
    "        for val in wage_l:\n",
    "            str += val\n",
    "\n",
    "        return int(str+\"000\")\n",
    "    else:\n",
    "        wage_l = list(wage)\n",
    "        wage_l.pop(0)\n",
    "        str = \"\"\n",
    "        for val in wage_l:\n",
    "            str += val\n",
    "\n",
    "        return int(str)\n",
    "\n"
   ]
  },
  {
   "cell_type": "code",
   "execution_count": 6,
   "id": "157fda21",
   "metadata": {
    "execution": {
     "iopub.execute_input": "2022-07-06T02:04:52.660975Z",
     "iopub.status.busy": "2022-07-06T02:04:52.660886Z",
     "iopub.status.idle": "2022-07-06T02:04:52.673856Z",
     "shell.execute_reply": "2022-07-06T02:04:52.673587Z"
    }
   },
   "outputs": [
    {
     "data": {
      "text/plain": [
       "'L. Messi'"
      ]
     },
     "execution_count": 6,
     "metadata": {},
     "output_type": "execute_result"
    }
   ],
   "source": [
    "#q2\n",
    "highest_paid_ind = 1\n",
    "highest_paid_val = 0\n",
    "for i in range(len(player_data)):\n",
    "    if parse_wage(cell(i, \"Wage\")) > highest_paid_val:\n",
    "        highest_paid_val = parse_wage(cell(i, \"Wage\"))\n",
    "        highest_paid_ind = i\n",
    "\n",
    "cell(highest_paid_ind, \"Name\")"
   ]
  },
  {
   "cell_type": "code",
   "execution_count": 7,
   "id": "ca194d9b",
   "metadata": {
    "execution": {
     "iopub.execute_input": "2022-07-06T02:04:52.675491Z",
     "iopub.status.busy": "2022-07-06T02:04:52.675373Z",
     "iopub.status.idle": "2022-07-06T02:04:52.678145Z",
     "shell.execute_reply": "2022-07-06T02:04:52.677917Z"
    }
   },
   "outputs": [],
   "source": [
    "def parse_value(value):\n",
    "    value_l = list(value)\n",
    "    value_l.pop(0)\n",
    "    str = \"\"\n",
    "\n",
    "    if \"M\" in value:\n",
    "        value_l.pop(-1)\n",
    "\n",
    "        if \".\" in value:\n",
    "            for v in value_l:\n",
    "                if not v == \".\":\n",
    "                    str += v\n",
    "            \n",
    "            return int(str + \"00000\")\n",
    "        else:\n",
    "            for v in value_l:\n",
    "                str += v\n",
    "            \n",
    "            return int(str + \"000000\")\n",
    "    elif \"K\" in value:\n",
    "        value_l.pop(-1)\n",
    "\n",
    "        for v in value_l:\n",
    "           str += v\n",
    "            \n",
    "        return int(str + \"000\")\n",
    "    else:\n",
    "        for v in value_l:\n",
    "            str += v\n",
    "\n",
    "        return (int(str))\n"
   ]
  },
  {
   "cell_type": "code",
   "execution_count": 8,
   "id": "8a9816c0",
   "metadata": {
    "execution": {
     "iopub.execute_input": "2022-07-06T02:04:52.679978Z",
     "iopub.status.busy": "2022-07-06T02:04:52.679865Z",
     "iopub.status.idle": "2022-07-06T02:04:52.694045Z",
     "shell.execute_reply": "2022-07-06T02:04:52.693794Z"
    }
   },
   "outputs": [
    {
     "data": {
      "text/plain": [
       "'Neymar Jr'"
      ]
     },
     "execution_count": 8,
     "metadata": {},
     "output_type": "execute_result"
    }
   ],
   "source": [
    "#q3\n",
    "highest_val_ind = 1\n",
    "highest_val_val = 0\n",
    "for i in range(len(player_data)):\n",
    "    if parse_value(cell(i, \"Value\")) > highest_val_val:\n",
    "        highest_val_val = parse_value(cell(i, \"Value\"))\n",
    "        highest_val_ind = i\n",
    "\n",
    "cell(highest_val_ind, \"Name\")\n"
   ]
  },
  {
   "cell_type": "code",
   "execution_count": 9,
   "id": "f6527659",
   "metadata": {
    "execution": {
     "iopub.execute_input": "2022-07-06T02:04:52.695560Z",
     "iopub.status.busy": "2022-07-06T02:04:52.695456Z",
     "iopub.status.idle": "2022-07-06T02:04:52.697500Z",
     "shell.execute_reply": "2022-07-06T02:04:52.697267Z"
    }
   },
   "outputs": [
    {
     "data": {
      "text/plain": [
       "'LW'"
      ]
     },
     "execution_count": 9,
     "metadata": {},
     "output_type": "execute_result"
    }
   ],
   "source": [
    "#q4\n",
    "cell(highest_val_ind, \"Position\")"
   ]
  },
  {
   "cell_type": "code",
   "execution_count": 10,
   "id": "6caebbd2",
   "metadata": {
    "execution": {
     "iopub.execute_input": "2022-07-06T02:04:52.698920Z",
     "iopub.status.busy": "2022-07-06T02:04:52.698817Z",
     "iopub.status.idle": "2022-07-06T02:04:52.700776Z",
     "shell.execute_reply": "2022-07-06T02:04:52.700532Z"
    }
   },
   "outputs": [],
   "source": [
    "def get_column(col_name):\n",
    "    col = []\n",
    "    for i in range(len(player_data)):\n",
    "        col.append(cell(i, col_name))\n",
    "\n",
    "    return col"
   ]
  },
  {
   "cell_type": "code",
   "execution_count": 11,
   "id": "a8ca2743",
   "metadata": {
    "execution": {
     "iopub.execute_input": "2022-07-06T02:04:52.702146Z",
     "iopub.status.busy": "2022-07-06T02:04:52.702046Z",
     "iopub.status.idle": "2022-07-06T02:04:52.708623Z",
     "shell.execute_reply": "2022-07-06T02:04:52.708353Z"
    }
   },
   "outputs": [
    {
     "data": {
      "text/plain": [
       "['FC Barcelona',\n",
       " 'Juventus',\n",
       " 'Paris Saint-Germain',\n",
       " 'Atlético Madrid',\n",
       " 'Real Madrid']"
      ]
     },
     "execution_count": 11,
     "metadata": {},
     "output_type": "execute_result"
    }
   ],
   "source": [
    "#q5\n",
    "clubs = get_column(\"Club\")\n",
    "clubs[:5]"
   ]
  },
  {
   "cell_type": "code",
   "execution_count": 12,
   "id": "945b39c8",
   "metadata": {
    "execution": {
     "iopub.execute_input": "2022-07-06T02:04:52.710161Z",
     "iopub.status.busy": "2022-07-06T02:04:52.710061Z",
     "iopub.status.idle": "2022-07-06T02:04:52.719901Z",
     "shell.execute_reply": "2022-07-06T02:04:52.719669Z"
    }
   },
   "outputs": [
    {
     "data": {
      "text/plain": [
       "['A. Abdallah',\n",
       " 'A. Abdellaoui',\n",
       " 'A. Abdennour',\n",
       " 'A. Abdi',\n",
       " 'A. Abdu',\n",
       " 'A. Abedzadeh']"
      ]
     },
     "execution_count": 12,
     "metadata": {},
     "output_type": "execute_result"
    }
   ],
   "source": [
    "#q6\n",
    "names = get_column(\"Name\")\n",
    "names = sorted(names)\n",
    "names[:6]"
   ]
  },
  {
   "cell_type": "code",
   "execution_count": 13,
   "id": "4404384f",
   "metadata": {
    "execution": {
     "iopub.execute_input": "2022-07-06T02:04:52.721393Z",
     "iopub.status.busy": "2022-07-06T02:04:52.721303Z",
     "iopub.status.idle": "2022-07-06T02:04:52.734310Z",
     "shell.execute_reply": "2022-07-06T02:04:52.734057Z"
    }
   },
   "outputs": [
    {
     "data": {
      "text/plain": [
       "9456.942772732247"
      ]
     },
     "execution_count": 13,
     "metadata": {},
     "output_type": "execute_result"
    }
   ],
   "source": [
    "#q7\n",
    "wages = get_column(\"Wage\")\n",
    "tot_wage = 0\n",
    "for wage in wages:\n",
    "    tot_wage += parse_wage(wage)\n",
    "\n",
    "tot_wage / len(player_data)\n"
   ]
  },
  {
   "cell_type": "code",
   "execution_count": 14,
   "id": "15c8788b",
   "metadata": {
    "execution": {
     "iopub.execute_input": "2022-07-06T02:04:52.735903Z",
     "iopub.status.busy": "2022-07-06T02:04:52.735798Z",
     "iopub.status.idle": "2022-07-06T02:04:52.743550Z",
     "shell.execute_reply": "2022-07-06T02:04:52.743288Z"
    }
   },
   "outputs": [
    {
     "data": {
      "text/plain": [
       "66.24499398183609"
      ]
     },
     "execution_count": 14,
     "metadata": {},
     "output_type": "execute_result"
    }
   ],
   "source": [
    "#q8\n",
    "overalls = get_column(\"Overall\")\n",
    "tot_overall = 0\n",
    "for overall in overalls:\n",
    "    tot_overall += int(overall)\n",
    "\n",
    "tot_overall / len(player_data)"
   ]
  },
  {
   "cell_type": "code",
   "execution_count": 15,
   "id": "3d363c63",
   "metadata": {
    "execution": {
     "iopub.execute_input": "2022-07-06T02:04:52.744989Z",
     "iopub.status.busy": "2022-07-06T02:04:52.744904Z",
     "iopub.status.idle": "2022-07-06T02:04:52.746726Z",
     "shell.execute_reply": "2022-07-06T02:04:52.746503Z"
    }
   },
   "outputs": [],
   "source": [
    "def player_count(position):\n",
    "    count = 0\n",
    "    for i in range(len(player_data)):\n",
    "        if cell(i, \"Position\") == position:\n",
    "            count += 1\n",
    "\n",
    "    return count"
   ]
  },
  {
   "cell_type": "code",
   "execution_count": 16,
   "id": "0fa8923c",
   "metadata": {
    "execution": {
     "iopub.execute_input": "2022-07-06T02:04:52.748124Z",
     "iopub.status.busy": "2022-07-06T02:04:52.748013Z",
     "iopub.status.idle": "2022-07-06T02:04:52.753757Z",
     "shell.execute_reply": "2022-07-06T02:04:52.753526Z"
    }
   },
   "outputs": [
    {
     "data": {
      "text/plain": [
       "2036"
      ]
     },
     "execution_count": 16,
     "metadata": {},
     "output_type": "execute_result"
    }
   ],
   "source": [
    "#q9\n",
    "player_count(\"GK\")"
   ]
  },
  {
   "cell_type": "code",
   "execution_count": 17,
   "id": "d1009c84",
   "metadata": {
    "execution": {
     "iopub.execute_input": "2022-07-06T02:04:52.755257Z",
     "iopub.status.busy": "2022-07-06T02:04:52.755158Z",
     "iopub.status.idle": "2022-07-06T02:04:52.760748Z",
     "shell.execute_reply": "2022-07-06T02:04:52.760507Z"
    }
   },
   "outputs": [
    {
     "data": {
      "text/plain": [
       "1146"
      ]
     },
     "execution_count": 17,
     "metadata": {},
     "output_type": "execute_result"
    }
   ],
   "source": [
    "#q10\n",
    "player_count(\"CAM\")"
   ]
  },
  {
   "cell_type": "code",
   "execution_count": 18,
   "id": "3d4e98b1",
   "metadata": {
    "execution": {
     "iopub.execute_input": "2022-07-06T02:04:52.762349Z",
     "iopub.status.busy": "2022-07-06T02:04:52.762228Z",
     "iopub.status.idle": "2022-07-06T02:04:52.824283Z",
     "shell.execute_reply": "2022-07-06T02:04:52.824005Z"
    }
   },
   "outputs": [
    {
     "data": {
      "text/plain": [
       "'CB'"
      ]
     },
     "execution_count": 18,
     "metadata": {},
     "output_type": "execute_result"
    }
   ],
   "source": [
    "#q11\n",
    "positions = {}\n",
    "for i in range(len(player_data)):\n",
    "    if not cell(i, \"Position\") in positions:\n",
    "        positions[cell(i, \"Position\")] = player_count(cell(i, \"Position\"))\n",
    "\n",
    "most_key = \"\"\n",
    "most_val = 0\n",
    "for pos in positions:\n",
    "    if positions[pos] > most_val:\n",
    "        most_val = positions[pos]\n",
    "        most_key = pos\n",
    "\n",
    "most_key\n"
   ]
  },
  {
   "cell_type": "code",
   "execution_count": 19,
   "id": "0cde7ec1",
   "metadata": {
    "execution": {
     "iopub.execute_input": "2022-07-06T02:04:52.825975Z",
     "iopub.status.busy": "2022-07-06T02:04:52.825864Z",
     "iopub.status.idle": "2022-07-06T02:04:52.828067Z",
     "shell.execute_reply": "2022-07-06T02:04:52.827848Z"
    }
   },
   "outputs": [],
   "source": [
    "def player_to_dict(player_id):\n",
    "    row = 0\n",
    "    dict = {}\n",
    "\n",
    "    for i in range(len(player_data)):\n",
    "        if int(cell(i, \"ID\")) == int(player_id):\n",
    "            row = i\n",
    "            break\n",
    "    \n",
    "    for i in range(len(player_data[row])):\n",
    "        dict[header[i]] = player_data[row][i]\n",
    "\n",
    "    return dict"
   ]
  },
  {
   "cell_type": "code",
   "execution_count": 20,
   "id": "72a0f7f3",
   "metadata": {
    "execution": {
     "iopub.execute_input": "2022-07-06T02:04:52.829452Z",
     "iopub.status.busy": "2022-07-06T02:04:52.829349Z",
     "iopub.status.idle": "2022-07-06T02:04:52.831469Z",
     "shell.execute_reply": "2022-07-06T02:04:52.831231Z"
    }
   },
   "outputs": [
    {
     "data": {
      "text/plain": [
       "{'ID': '183277',\n",
       " 'Name': 'E. Hazard',\n",
       " 'Age': 28,\n",
       " 'Nationality': 'Belgium',\n",
       " 'Overall': 91,\n",
       " 'Club': 'Real Madrid',\n",
       " 'Position': 'LW',\n",
       " 'Value': '€90M',\n",
       " 'Wage': '€470K',\n",
       " 'Preferred Foot': 'Right',\n",
       " 'Jersey Number': '7',\n",
       " 'Height': \"5'9\",\n",
       " 'Weight': '163lbs'}"
      ]
     },
     "execution_count": 20,
     "metadata": {},
     "output_type": "execute_result"
    }
   ],
   "source": [
    "#q12\n",
    "player_to_dict(183277)"
   ]
  },
  {
   "cell_type": "code",
   "execution_count": 21,
   "id": "e119f8ec",
   "metadata": {
    "execution": {
     "iopub.execute_input": "2022-07-06T02:04:52.832878Z",
     "iopub.status.busy": "2022-07-06T02:04:52.832780Z",
     "iopub.status.idle": "2022-07-06T02:04:52.834850Z",
     "shell.execute_reply": "2022-07-06T02:04:52.834611Z"
    }
   },
   "outputs": [
    {
     "data": {
      "text/plain": [
       "{'ID': '209331',\n",
       " 'Name': 'M. Salah',\n",
       " 'Age': 27,\n",
       " 'Nationality': 'Egypt',\n",
       " 'Overall': 90,\n",
       " 'Club': 'Liverpool',\n",
       " 'Position': 'RW',\n",
       " 'Value': '€80.5M',\n",
       " 'Wage': '€240K',\n",
       " 'Preferred Foot': 'Left',\n",
       " 'Jersey Number': '11',\n",
       " 'Height': \"5'9\",\n",
       " 'Weight': '157lbs'}"
      ]
     },
     "execution_count": 21,
     "metadata": {},
     "output_type": "execute_result"
    }
   ],
   "source": [
    "#q13\n",
    "player_to_dict(209331)"
   ]
  },
  {
   "cell_type": "code",
   "execution_count": 22,
   "id": "b8c5a813",
   "metadata": {
    "execution": {
     "iopub.execute_input": "2022-07-06T02:04:52.836493Z",
     "iopub.status.busy": "2022-07-06T02:04:52.836392Z",
     "iopub.status.idle": "2022-07-06T02:04:52.838414Z",
     "shell.execute_reply": "2022-07-06T02:04:52.838176Z"
    }
   },
   "outputs": [
    {
     "data": {
      "text/plain": [
       "{'ID': '195864',\n",
       " 'Name': 'P. Pogba',\n",
       " 'Age': 26,\n",
       " 'Nationality': 'France',\n",
       " 'Overall': 88,\n",
       " 'Club': 'Manchester United',\n",
       " 'Position': 'CM',\n",
       " 'Value': '€72.5M',\n",
       " 'Wage': '€250K',\n",
       " 'Preferred Foot': 'Right',\n",
       " 'Jersey Number': '6',\n",
       " 'Height': \"6'3\",\n",
       " 'Weight': '185lbs'}"
      ]
     },
     "execution_count": 22,
     "metadata": {},
     "output_type": "execute_result"
    }
   ],
   "source": [
    "#q14\n",
    "player_to_dict(195864)"
   ]
  },
  {
   "cell_type": "code",
   "execution_count": 23,
   "id": "73f881e7",
   "metadata": {
    "execution": {
     "iopub.execute_input": "2022-07-06T02:04:52.840007Z",
     "iopub.status.busy": "2022-07-06T02:04:52.839902Z",
     "iopub.status.idle": "2022-07-06T02:04:52.841997Z",
     "shell.execute_reply": "2022-07-06T02:04:52.841771Z"
    }
   },
   "outputs": [
    {
     "data": {
      "text/plain": [
       "{'ID': '177003',\n",
       " 'Name': 'L. Modrić',\n",
       " 'Age': 33,\n",
       " 'Nationality': 'Croatia',\n",
       " 'Overall': 90,\n",
       " 'Club': 'Real Madrid',\n",
       " 'Position': 'CM',\n",
       " 'Value': '€45M',\n",
       " 'Wage': '€340K',\n",
       " 'Preferred Foot': 'Right',\n",
       " 'Jersey Number': '10',\n",
       " 'Height': \"5'8\",\n",
       " 'Weight': '146lbs'}"
      ]
     },
     "execution_count": 23,
     "metadata": {},
     "output_type": "execute_result"
    }
   ],
   "source": [
    "#q15\n",
    "player_to_dict(177003)"
   ]
  },
  {
   "cell_type": "code",
   "execution_count": 24,
   "id": "3f04792c",
   "metadata": {
    "execution": {
     "iopub.execute_input": "2022-07-06T02:04:52.843440Z",
     "iopub.status.busy": "2022-07-06T02:04:52.843323Z",
     "iopub.status.idle": "2022-07-06T02:04:52.851446Z",
     "shell.execute_reply": "2022-07-06T02:04:52.851182Z"
    }
   },
   "outputs": [
    {
     "data": {
      "text/plain": [
       "{'Right': 13960, 'Left': 4318}"
      ]
     },
     "execution_count": 24,
     "metadata": {},
     "output_type": "execute_result"
    }
   ],
   "source": [
    "#q16\n",
    "foot_pref = {}\n",
    "foot_pref[\"Right\"] = 0\n",
    "foot_pref[\"Left\"] = 0\n",
    "\n",
    "for i in range(len(player_data)):\n",
    "    if cell(i, \"Preferred Foot\") == \"Right\":\n",
    "        foot_pref[\"Right\"] += 1\n",
    "    else:\n",
    "        foot_pref[\"Left\"] += 1\n",
    "\n",
    "foot_pref\n"
   ]
  },
  {
   "cell_type": "code",
   "execution_count": 25,
   "id": "71935bca",
   "metadata": {
    "execution": {
     "iopub.execute_input": "2022-07-06T02:04:52.852950Z",
     "iopub.status.busy": "2022-07-06T02:04:52.852865Z",
     "iopub.status.idle": "2022-07-06T02:04:52.865300Z",
     "shell.execute_reply": "2022-07-06T02:04:52.865051Z"
    }
   },
   "outputs": [
    {
     "data": {
      "text/plain": [
       "{'Argentina': 886,\n",
       " 'Portugal': 344,\n",
       " 'Brazil': 824,\n",
       " 'Slovenia': 61,\n",
       " 'Belgium': 268,\n",
       " 'Germany': 1216,\n",
       " 'Netherlands': 416,\n",
       " 'Croatia': 126,\n",
       " 'Egypt': 30,\n",
       " 'France': 984,\n",
       " 'Senegal': 127,\n",
       " 'England': 1667,\n",
       " 'Spain': 1035,\n",
       " 'Italy': 732,\n",
       " 'Uruguay': 164,\n",
       " 'Poland': 324,\n",
       " 'Denmark': 345,\n",
       " 'Gabon': 16,\n",
       " 'Korea Republic': 322,\n",
       " 'Costa Rica': 30,\n",
       " 'Slovakia': 54,\n",
       " 'Bosnia Herzegovina': 66,\n",
       " 'Serbia': 139,\n",
       " 'Scotland': 277,\n",
       " 'Hungary': 35,\n",
       " 'Switzerland': 229,\n",
       " 'Greece': 96,\n",
       " 'Austria': 319,\n",
       " 'Morocco': 94,\n",
       " 'Sweden': 358,\n",
       " 'Wales': 117,\n",
       " 'Colombia': 591,\n",
       " 'Czech Republic': 102,\n",
       " 'Chile': 370,\n",
       " 'Algeria': 50,\n",
       " 'Ivory Coast': 105,\n",
       " 'Togo': 13,\n",
       " 'Norway': 350,\n",
       " 'Mexico': 340,\n",
       " 'Iceland': 46,\n",
       " 'Finland': 72,\n",
       " 'Jamaica': 29,\n",
       " 'Albania': 43,\n",
       " 'Guinea': 35,\n",
       " 'Cameroon': 78,\n",
       " 'Ghana': 130,\n",
       " 'Montenegro': 33,\n",
       " 'Ukraine': 69,\n",
       " 'Russia': 81,\n",
       " 'DR Congo': 54,\n",
       " 'Central African Rep.': 4,\n",
       " 'Venezuela': 66,\n",
       " 'Nigeria': 126,\n",
       " 'Armenia': 8,\n",
       " 'Israel': 16,\n",
       " 'Ecuador': 53,\n",
       " 'Paraguay': 80,\n",
       " 'Australia': 196,\n",
       " 'Turkey': 294,\n",
       " 'Romania': 287,\n",
       " 'Japan': 453,\n",
       " 'Mali': 55,\n",
       " 'United States': 347,\n",
       " 'Kosovo': 40,\n",
       " 'Dominican Republic': 4,\n",
       " 'Tanzania': 4,\n",
       " 'China PR': 373,\n",
       " 'Northern Ireland': 81,\n",
       " 'Republic of Ireland': 348,\n",
       " 'Tunisia': 35,\n",
       " 'Cape Verde': 20,\n",
       " 'FYR Macedonia': 20,\n",
       " 'Burkina Faso': 16,\n",
       " 'Kenya': 7,\n",
       " 'Angola': 16,\n",
       " 'South Africa': 72,\n",
       " 'Peru': 35,\n",
       " 'Syria': 4,\n",
       " 'Gambia': 22,\n",
       " 'New Zealand': 35,\n",
       " 'Equatorial Guinea': 6,\n",
       " 'Zimbabwe': 12,\n",
       " 'Georgia': 25,\n",
       " 'Canada': 61,\n",
       " 'Estonia': 6,\n",
       " 'Benin': 15,\n",
       " 'Bulgaria': 41,\n",
       " 'Mozambique': 4,\n",
       " 'Honduras': 13,\n",
       " 'Guinea Bissau': 21,\n",
       " 'Iran': 15,\n",
       " 'Philippines': 2,\n",
       " 'Cyprus': 11,\n",
       " 'Madagascar': 8,\n",
       " 'Uzbekistan': 3,\n",
       " 'Moldova': 12,\n",
       " 'Cuba': 4,\n",
       " 'Sierra Leone': 10,\n",
       " 'Curacao': 16,\n",
       " 'Zambia': 10,\n",
       " 'Congo': 18,\n",
       " 'Bolivia': 23,\n",
       " 'Comoros': 9,\n",
       " 'Iraq': 5,\n",
       " 'Chad': 1,\n",
       " 'Lithuania': 10,\n",
       " 'Saudi Arabia': 310,\n",
       " 'Panama': 12,\n",
       " 'Libya': 4,\n",
       " 'Bahrain': 1,\n",
       " 'St Kitts Nevis': 4,\n",
       " 'New Caledonia': 2,\n",
       " 'Luxembourg': 9,\n",
       " 'Trinidad & Tobago': 6,\n",
       " 'Thailand': 4,\n",
       " 'United Arab Emirates': 22,\n",
       " 'Eritrea': 1,\n",
       " 'Korea DPR': 4,\n",
       " 'El Salvador': 4,\n",
       " 'Azerbaijan': 6,\n",
       " 'Latvia': 6,\n",
       " 'Montserrat': 3,\n",
       " 'Puerto Rico': 1,\n",
       " 'Bermuda': 3,\n",
       " 'São Tomé & Príncipe': 1,\n",
       " 'Antigua & Barbuda': 7,\n",
       " 'Burundi': 4,\n",
       " 'Kazakhstan': 2,\n",
       " 'Liberia': 1,\n",
       " 'Guyana': 4,\n",
       " 'Haiti': 7,\n",
       " 'Jordan': 1,\n",
       " 'Faroe Islands': 5,\n",
       " 'Mauritania': 5,\n",
       " 'Namibia': 2,\n",
       " 'Rwanda': 2,\n",
       " 'Uganda': 3,\n",
       " 'Hong Kong': 1,\n",
       " 'Chinese Taipei': 1,\n",
       " 'Belize': 1,\n",
       " 'Palestine': 4,\n",
       " 'Mauritius': 1,\n",
       " 'Guam': 1,\n",
       " 'Suriname': 2,\n",
       " 'Lebanon': 3,\n",
       " 'Guatemala': 2,\n",
       " 'Sudan': 3,\n",
       " 'Liechtenstein': 2,\n",
       " 'Grenada': 2,\n",
       " 'St Lucia': 1,\n",
       " 'Afghanistan': 2,\n",
       " 'Ethiopia': 1,\n",
       " 'Barbados': 1,\n",
       " 'India': 23,\n",
       " 'Malta': 2,\n",
       " 'Niger': 3,\n",
       " 'Vietnam': 1,\n",
       " 'Malawi': 1,\n",
       " 'Gibraltar': 1,\n",
       " 'Macau': 1,\n",
       " 'South Sudan': 1,\n",
       " 'Indonesia': 1}"
      ]
     },
     "execution_count": 25,
     "metadata": {},
     "output_type": "execute_result"
    }
   ],
   "source": [
    "#q17\n",
    "nationalities = {}\n",
    "for i in range(len(player_data)):\n",
    "    if cell(i, \"Nationality\") in nationalities:\n",
    "        nationalities[cell(i, \"Nationality\")] += 1\n",
    "    else:\n",
    "        nationalities[cell(i, \"Nationality\")] = 1\n",
    "\n",
    "nationalities"
   ]
  },
  {
   "cell_type": "code",
   "execution_count": 26,
   "id": "fd19283b",
   "metadata": {
    "execution": {
     "iopub.execute_input": "2022-07-06T02:04:52.866813Z",
     "iopub.status.busy": "2022-07-06T02:04:52.866704Z",
     "iopub.status.idle": "2022-07-06T02:04:52.882025Z",
     "shell.execute_reply": "2022-07-06T02:04:52.881751Z"
    }
   },
   "outputs": [
    {
     "data": {
      "text/plain": [
       "{'Argentina': 69.11851015801355,\n",
       " 'Portugal': 70.51453488372093,\n",
       " 'Brazil': 71.1614077669903,\n",
       " 'Slovenia': 68.70491803278688,\n",
       " 'Belgium': 68.43283582089552,\n",
       " 'Germany': 65.93914473684211,\n",
       " 'Netherlands': 68.14903846153847,\n",
       " 'Croatia': 69.78571428571429,\n",
       " 'Egypt': 70.1,\n",
       " 'France': 67.41666666666667,\n",
       " 'Senegal': 68.64566929133858,\n",
       " 'England': 63.251949610077986,\n",
       " 'Spain': 69.9536231884058,\n",
       " 'Italy': 67.65710382513662,\n",
       " 'Uruguay': 71.64634146341463,\n",
       " 'Poland': 63.49074074074074,\n",
       " 'Denmark': 63.68115942028985,\n",
       " 'Gabon': 70.6875,\n",
       " 'Korea Republic': 63.683229813664596,\n",
       " 'Costa Rica': 68.23333333333333,\n",
       " 'Slovakia': 69.31481481481481,\n",
       " 'Bosnia Herzegovina': 68.87878787878788,\n",
       " 'Serbia': 69.48920863309353,\n",
       " 'Scotland': 64.75090252707581,\n",
       " 'Hungary': 69.68571428571428,\n",
       " 'Switzerland': 64.8471615720524,\n",
       " 'Greece': 69.39583333333333,\n",
       " 'Austria': 65.59561128526646,\n",
       " 'Morocco': 69.69148936170212,\n",
       " 'Sweden': 63.79050279329609,\n",
       " 'Wales': 64.6923076923077,\n",
       " 'Colombia': 65.67851099830796,\n",
       " 'Czech Republic': 70.31372549019608,\n",
       " 'Chile': 64.80540540540541,\n",
       " 'Algeria': 71.38,\n",
       " 'Ivory Coast': 69.0,\n",
       " 'Togo': 69.38461538461539,\n",
       " 'Norway': 63.02857142857143,\n",
       " 'Mexico': 65.80882352941177,\n",
       " 'Iceland': 67.28260869565217,\n",
       " 'Finland': 63.81944444444444,\n",
       " 'Jamaica': 66.6896551724138,\n",
       " 'Albania': 66.4186046511628,\n",
       " 'Guinea': 68.8,\n",
       " 'Cameroon': 68.33333333333333,\n",
       " 'Ghana': 66.97692307692307,\n",
       " 'Montenegro': 66.36363636363636,\n",
       " 'Ukraine': 69.8695652173913,\n",
       " 'Russia': 69.33333333333333,\n",
       " 'DR Congo': 68.4074074074074,\n",
       " 'Central African Rep.': 70.5,\n",
       " 'Venezuela': 67.07575757575758,\n",
       " 'Nigeria': 67.15079365079364,\n",
       " 'Armenia': 69.375,\n",
       " 'Israel': 71.125,\n",
       " 'Ecuador': 70.49056603773585,\n",
       " 'Paraguay': 69.7875,\n",
       " 'Australia': 62.58163265306123,\n",
       " 'Turkey': 66.06802721088435,\n",
       " 'Romania': 63.70383275261324,\n",
       " 'Japan': 63.69094922737307,\n",
       " 'Mali': 67.50909090909092,\n",
       " 'United States': 64.53025936599424,\n",
       " 'Kosovo': 66.625,\n",
       " 'Dominican Republic': 67.5,\n",
       " 'Tanzania': 63.25,\n",
       " 'China PR': 59.48525469168901,\n",
       " 'Northern Ireland': 63.79012345679013,\n",
       " 'Republic of Ireland': 61.00574712643678,\n",
       " 'Tunisia': 68.25714285714285,\n",
       " 'Cape Verde': 70.5,\n",
       " 'FYR Macedonia': 68.7,\n",
       " 'Burkina Faso': 66.4375,\n",
       " 'Kenya': 65.28571428571429,\n",
       " 'Angola': 69.375,\n",
       " 'South Africa': 67.72222222222223,\n",
       " 'Peru': 69.74285714285715,\n",
       " 'Syria': 70.25,\n",
       " 'Gambia': 65.31818181818181,\n",
       " 'New Zealand': 64.17142857142858,\n",
       " 'Equatorial Guinea': 69.0,\n",
       " 'Zimbabwe': 67.25,\n",
       " 'Georgia': 69.04,\n",
       " 'Canada': 63.91803278688525,\n",
       " 'Estonia': 66.33333333333333,\n",
       " 'Benin': 67.66666666666667,\n",
       " 'Bulgaria': 63.46341463414634,\n",
       " 'Mozambique': 73.25,\n",
       " 'Honduras': 68.38461538461539,\n",
       " 'Guinea Bissau': 67.38095238095238,\n",
       " 'Iran': 69.0,\n",
       " 'Philippines': 69.0,\n",
       " 'Cyprus': 61.72727272727273,\n",
       " 'Madagascar': 70.25,\n",
       " 'Uzbekistan': 67.66666666666667,\n",
       " 'Moldova': 65.0,\n",
       " 'Cuba': 67.25,\n",
       " 'Sierra Leone': 63.0,\n",
       " 'Curacao': 66.0,\n",
       " 'Zambia': 67.1,\n",
       " 'Congo': 65.44444444444444,\n",
       " 'Bolivia': 66.04347826086956,\n",
       " 'Comoros': 65.22222222222223,\n",
       " 'Iraq': 67.6,\n",
       " 'Chad': 73.0,\n",
       " 'Lithuania': 63.4,\n",
       " 'Saudi Arabia': 60.92903225806452,\n",
       " 'Panama': 66.0,\n",
       " 'Libya': 71.0,\n",
       " 'Bahrain': 72.0,\n",
       " 'St Kitts Nevis': 62.75,\n",
       " 'New Caledonia': 67.5,\n",
       " 'Luxembourg': 65.66666666666667,\n",
       " 'Trinidad & Tobago': 65.83333333333333,\n",
       " 'Thailand': 64.0,\n",
       " 'United Arab Emirates': 62.86363636363637,\n",
       " 'Eritrea': 71.0,\n",
       " 'Korea DPR': 65.75,\n",
       " 'El Salvador': 67.25,\n",
       " 'Azerbaijan': 62.833333333333336,\n",
       " 'Latvia': 61.666666666666664,\n",
       " 'Montserrat': 66.0,\n",
       " 'Puerto Rico': 70.0,\n",
       " 'Bermuda': 63.666666666666664,\n",
       " 'São Tomé & Príncipe': 70.0,\n",
       " 'Antigua & Barbuda': 59.42857142857143,\n",
       " 'Burundi': 63.75,\n",
       " 'Kazakhstan': 68.0,\n",
       " 'Liberia': 69.0,\n",
       " 'Guyana': 63.5,\n",
       " 'Haiti': 63.285714285714285,\n",
       " 'Jordan': 68.0,\n",
       " 'Faroe Islands': 61.4,\n",
       " 'Mauritania': 65.2,\n",
       " 'Namibia': 67.0,\n",
       " 'Rwanda': 64.0,\n",
       " 'Uganda': 66.0,\n",
       " 'Hong Kong': 67.0,\n",
       " 'Chinese Taipei': 66.0,\n",
       " 'Belize': 66.0,\n",
       " 'Palestine': 62.0,\n",
       " 'Mauritius': 66.0,\n",
       " 'Guam': 66.0,\n",
       " 'Suriname': 66.0,\n",
       " 'Lebanon': 64.0,\n",
       " 'Guatemala': 65.5,\n",
       " 'Sudan': 62.666666666666664,\n",
       " 'Liechtenstein': 62.0,\n",
       " 'Grenada': 60.5,\n",
       " 'St Lucia': 64.0,\n",
       " 'Afghanistan': 62.0,\n",
       " 'Ethiopia': 64.0,\n",
       " 'Barbados': 64.0,\n",
       " 'India': 60.0,\n",
       " 'Malta': 60.0,\n",
       " 'Niger': 57.0,\n",
       " 'Vietnam': 62.0,\n",
       " 'Malawi': 62.0,\n",
       " 'Gibraltar': 62.0,\n",
       " 'Macau': 61.0,\n",
       " 'South Sudan': 59.0,\n",
       " 'Indonesia': 56.0}"
      ]
     },
     "execution_count": 26,
     "metadata": {},
     "output_type": "execute_result"
    }
   ],
   "source": [
    "#q18\n",
    "avg_nationality_score = {}\n",
    "for i in range(len(player_data)):\n",
    "    if cell(i, \"Nationality\") in avg_nationality_score:\n",
    "        avg_nationality_score[cell(i, \"Nationality\")] += cell(i, \"Overall\")\n",
    "    else:\n",
    "        avg_nationality_score[cell(i, \"Nationality\")] = cell(i, \"Overall\")\n",
    "\n",
    "for key in avg_nationality_score:\n",
    "    avg_nationality_score[key] = avg_nationality_score[key] / nationalities[key]\n",
    "\n",
    "avg_nationality_score"
   ]
  },
  {
   "cell_type": "code",
   "execution_count": 27,
   "id": "56261b53",
   "metadata": {
    "execution": {
     "iopub.execute_input": "2022-07-06T02:04:52.883455Z",
     "iopub.status.busy": "2022-07-06T02:04:52.883376Z",
     "iopub.status.idle": "2022-07-06T02:04:52.885861Z",
     "shell.execute_reply": "2022-07-06T02:04:52.885612Z"
    }
   },
   "outputs": [
    {
     "data": {
      "text/plain": [
       "'Mozambique'"
      ]
     },
     "execution_count": 27,
     "metadata": {},
     "output_type": "execute_result"
    }
   ],
   "source": [
    "#q19\n",
    "largest_nation_key = \"\"\n",
    "largest_nation_val = 0\n",
    "for key in avg_nationality_score:\n",
    "    if avg_nationality_score[key] > largest_nation_val:\n",
    "        largest_nation_val = avg_nationality_score[key]\n",
    "        largest_nation_key = key\n",
    "\n",
    "largest_nation_key"
   ]
  },
  {
   "cell_type": "code",
   "execution_count": 28,
   "id": "0f03cb21",
   "metadata": {
    "execution": {
     "iopub.execute_input": "2022-07-06T02:04:52.887227Z",
     "iopub.status.busy": "2022-07-06T02:04:52.887140Z",
     "iopub.status.idle": "2022-07-06T02:04:52.920986Z",
     "shell.execute_reply": "2022-07-06T02:04:52.920718Z"
    }
   },
   "outputs": [
    {
     "data": {
      "text/plain": [
       "'FC Bayern München'"
      ]
     },
     "execution_count": 28,
     "metadata": {},
     "output_type": "execute_result"
    }
   ],
   "source": [
    "#q20\n",
    "clubs = {}\n",
    "for i in range(len(player_data)):\n",
    "    if cell(i, \"Club\") in clubs:\n",
    "        clubs[cell(i, \"Club\")] += 1\n",
    "    else:\n",
    "        clubs[cell(i, \"Club\")] = 1\n",
    "\n",
    "avg_club_score = {}\n",
    "for i in range(len(player_data)):\n",
    "    if cell(i, \"Club\") in avg_club_score:\n",
    "        avg_club_score[cell(i, \"Club\")] += parse_value(cell(i, \"Value\"))\n",
    "    else:\n",
    "        avg_club_score[cell(i, \"Club\")] = parse_value(cell(i, \"Value\"))\n",
    "\n",
    "for key in avg_club_score:\n",
    "    avg_club_score[key] = avg_club_score[key] / clubs[key]\n",
    "\n",
    "largest_club_key = \"\"\n",
    "largest_club_val = 0\n",
    "for key in avg_club_score:\n",
    "    if avg_club_score[key] > largest_club_val:\n",
    "        largest_club_val = avg_club_score[key]\n",
    "        largest_club_key = key\n",
    "\n",
    "largest_club_key"
   ]
  },
  {
   "cell_type": "code",
   "execution_count": null,
   "id": "df27d010",
   "metadata": {},
   "outputs": [],
   "source": []
  }
 ],
 "metadata": {
  "kernelspec": {
   "display_name": "Python 3.10.4 64-bit",
   "language": "python",
   "name": "python3"
  },
  "language_info": {
   "codemirror_mode": {
    "name": "ipython",
    "version": 3
   },
   "file_extension": ".py",
   "mimetype": "text/x-python",
   "name": "python",
   "nbconvert_exporter": "python",
   "pygments_lexer": "ipython3",
   "version": "3.9.13"
  },
  "vscode": {
   "interpreter": {
    "hash": "aee8b7b246df8f9039afb4144a1f6fd8d2ca17a180786b69acc140d282b71a49"
   }
  }
 },
 "nbformat": 4,
 "nbformat_minor": 5
}
