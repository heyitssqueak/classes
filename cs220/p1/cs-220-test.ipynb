{
 "cells": [
  {
   "cell_type": "code",
   "execution_count": 1,
   "id": "6f803b4b",
   "metadata": {
    "execution": {
     "iopub.execute_input": "2022-06-15T17:19:15.716096Z",
     "iopub.status.busy": "2022-06-15T17:19:15.715650Z",
     "iopub.status.idle": "2022-06-15T17:19:15.729937Z",
     "shell.execute_reply": "2022-06-15T17:19:15.729457Z"
    }
   },
   "outputs": [
    {
     "data": {
      "text/plain": [
       "'Hello World'"
      ]
     },
     "execution_count": 1,
     "metadata": {},
     "output_type": "execute_result"
    }
   ],
   "source": [
    "#q1\n",
    "name = \"World\"\n",
    "\"Hello \" + name"
   ]
  },
  {
   "cell_type": "code",
   "execution_count": 2,
   "id": "bd5ec6bf",
   "metadata": {
    "execution": {
     "iopub.execute_input": "2022-06-15T17:19:15.733550Z",
     "iopub.status.busy": "2022-06-15T17:19:15.733330Z",
     "iopub.status.idle": "2022-06-15T17:19:15.736421Z",
     "shell.execute_reply": "2022-06-15T17:19:15.736052Z"
    }
   },
   "outputs": [
    {
     "data": {
      "text/plain": [
       "42"
      ]
     },
     "execution_count": 2,
     "metadata": {},
     "output_type": "execute_result"
    }
   ],
   "source": [
    "#q2\n",
    "6*7"
   ]
  }
 ],
 "metadata": {
  "kernelspec": {
   "display_name": "Python 3 (ipykernel)",
   "language": "python",
   "name": "python3"
  },
  "language_info": {
   "codemirror_mode": {
    "name": "ipython",
    "version": 3
   },
   "file_extension": ".py",
   "mimetype": "text/x-python",
   "name": "python",
   "nbconvert_exporter": "python",
   "pygments_lexer": "ipython3",
   "version": "3.9.13"
  }
 },
 "nbformat": 4,
 "nbformat_minor": 5
}
