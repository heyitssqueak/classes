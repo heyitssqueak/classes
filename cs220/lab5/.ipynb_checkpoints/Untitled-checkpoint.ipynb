{
 "cells": [
  {
   "cell_type": "code",
   "execution_count": 1,
   "id": "68f767ef",
   "metadata": {},
   "outputs": [
    {
     "data": {
      "text/plain": [
       "['__builtins__',\n",
       " '__cached__',\n",
       " '__doc__',\n",
       " '__file__',\n",
       " '__hurricane__',\n",
       " '__init__',\n",
       " '__loader__',\n",
       " '__name__',\n",
       " '__package__',\n",
       " '__spec__',\n",
       " 'count',\n",
       " 'get_damage',\n",
       " 'get_deaths',\n",
       " 'get_dissipated',\n",
       " 'get_formed',\n",
       " 'get_mph',\n",
       " 'get_name']"
      ]
     },
     "execution_count": 1,
     "metadata": {},
     "output_type": "execute_result"
    }
   ],
   "source": [
    "import project\n",
    "dir(project)"
   ]
  },
  {
   "cell_type": "code",
   "execution_count": 2,
   "id": "90a0fe1c",
   "metadata": {},
   "outputs": [
    {
     "name": "stdout",
     "output_type": "stream",
     "text": [
      "0\n",
      "1\n",
      "2\n",
      "3\n",
      "4\n",
      "5\n"
     ]
    }
   ],
   "source": [
    "i = 0\n",
    "while i <= 5:\n",
    "    print(i)\n",
    "    i += 1"
   ]
  },
  {
   "cell_type": "code",
   "execution_count": 4,
   "id": "970a196d",
   "metadata": {},
   "outputs": [
    {
     "name": "stdout",
     "output_type": "stream",
     "text": [
      "0\n",
      "1\n",
      "2\n",
      "3\n",
      "4\n",
      "5\n"
     ]
    }
   ],
   "source": [
    "for i in range(6):\n",
    "    print(i)"
   ]
  },
  {
   "cell_type": "code",
   "execution_count": 6,
   "id": "6def6a37",
   "metadata": {},
   "outputs": [
    {
     "name": "stdout",
     "output_type": "stream",
     "text": [
      "Baker\n",
      "Camille\n",
      "Eloise\n",
      "Frederic\n",
      "Elena\n",
      "Opal\n",
      "Danny\n",
      "Ivan\n",
      "Dennis\n",
      "Katrina\n",
      "Carol\n",
      "Donna\n",
      "Gloria\n",
      "Bob\n",
      "Labor Day\n",
      "Easy\n",
      "King\n",
      "FLORENCE\n",
      "Flossy\n",
      "Cleo\n",
      "Dora\n",
      "Isbell\n",
      "Betsy\n",
      "Alma\n",
      "Inez\n",
      "Gladys\n",
      "Agnes\n",
      "Kate\n",
      "Floyd\n",
      "Andrew\n",
      "Erin\n",
      "Earl\n",
      "Georges\n",
      "Irene\n",
      "Charley\n",
      "Frances\n",
      "Jeanne\n",
      "Rita\n",
      "Wilma\n",
      "Hermine\n",
      "Matthew\n",
      "Irma\n",
      "Michael\n",
      "Ethel\n",
      "Hilda\n",
      "Edith\n",
      "Carmen\n",
      "Babe\n",
      "Bob\n",
      "Danny\n",
      "Juan\n",
      "florence\n",
      "Lili\n",
      "Cindy\n",
      "Humberto\n",
      "Gustav\n",
      "Isaac\n",
      "Nate\n",
      "Barry\n",
      "Belle\n",
      "Sandy\n",
      "Barbara\n",
      "Hazel\n",
      "Ione\n",
      "Helene\n",
      "Ginger\n",
      "Diana\n",
      "Hugo\n",
      "Emily\n",
      "Bertha\n",
      "Fran\n",
      "Bonnie\n",
      "Floyd\n",
      "Isabel\n",
      "Alex\n",
      "Ophelia\n",
      "Irene\n",
      "Florence\n",
      "Esther\n",
      "Able\n",
      "Cindy\n",
      "Gracie\n",
      "Bob\n",
      "Gaston\n",
      "Debra\n",
      "Carla\n",
      "Beulah\n",
      "Celia\n",
      "Fern\n",
      "Allen\n",
      "Alicia\n",
      "Bonnie\n",
      "Chantal\n",
      "Jerry\n",
      "Bret\n",
      "Claudette\n",
      "Dolly\n",
      "Ike\n",
      "Harvey\n",
      "Dot\n",
      "Iwa\n",
      "Iniki\n",
      "Tusi\n",
      "Ofa\n",
      "Val\n",
      "Heta\n",
      "Olaf\n",
      "Karen\n",
      "Pamela\n",
      "Roy\n",
      "Yuri\n",
      "Omar\n",
      "Paka\n",
      "Chataan\n",
      "Pongsona\n",
      "Dolphin\n",
      "Lynn\n",
      "Mireille\n",
      "Keith\n",
      "Chaba\n",
      "Vongfong\n",
      "Soudelor\n",
      "Mangkhut\n",
      "Yutu\n",
      "San Ciriaco\n",
      "San Liborio\n",
      "San Ciprian\n",
      "Betsy\n",
      "Hortense\n",
      "Maria\n",
      "Marilyn\n",
      "Lenny\n",
      "Omar\n"
     ]
    }
   ],
   "source": [
    "for idx in range(project.count()):\n",
    "    print(project.get_name(idx))"
   ]
  },
  {
   "cell_type": "code",
   "execution_count": 7,
   "id": "2df0f4ad",
   "metadata": {},
   "outputs": [
    {
     "name": "stdout",
     "output_type": "stream",
     "text": [
      "Floyd\n",
      "Babe\n",
      "Bob\n",
      "Cindy\n",
      "Barry\n",
      "Cindy\n",
      "Bob\n",
      "Gaston\n"
     ]
    }
   ],
   "source": [
    "for i in range(project.count()):\n",
    "    if project.get_mph(i) < 80:\n",
    "        print(project.get_name(i))"
   ]
  },
  {
   "cell_type": "code",
   "execution_count": 8,
   "id": "234c739e",
   "metadata": {},
   "outputs": [
    {
     "name": "stdout",
     "output_type": "stream",
     "text": [
      "6\n"
     ]
    }
   ],
   "source": [
    "def f(n):\n",
    "    return 3 + n % 7\n",
    "\n",
    "best_n = 0\n",
    "for n in range(11):\n",
    "    if f(n) > f(best_n):\n",
    "        best_n = n\n",
    "        \n",
    "print(best_n)"
   ]
  },
  {
   "cell_type": "code",
   "execution_count": 9,
   "id": "85cd7ff2",
   "metadata": {},
   "outputs": [
    {
     "name": "stdout",
     "output_type": "stream",
     "text": [
      "08\n"
     ]
    }
   ],
   "source": [
    "print(project.get_formed(0)[:2])"
   ]
  },
  {
   "cell_type": "code",
   "execution_count": 10,
   "id": "47e7e662",
   "metadata": {},
   "outputs": [
    {
     "name": "stdout",
     "output_type": "stream",
     "text": [
      "1950\n"
     ]
    }
   ],
   "source": [
    "print(project.get_formed(0)[-4:])"
   ]
  },
  {
   "cell_type": "code",
   "execution_count": 18,
   "id": "314b9db8",
   "metadata": {},
   "outputs": [],
   "source": [
    "def get_month(date):\n",
    "    return int(date[:2])\n",
    "\n",
    "def get_day(date):\n",
    "    return int(date[3:5])\n",
    "\n",
    "def get_year(date):\n",
    "    return int(date[-4:])"
   ]
  },
  {
   "cell_type": "code",
   "execution_count": 21,
   "id": "249b5728",
   "metadata": {},
   "outputs": [
    {
     "name": "stdout",
     "output_type": "stream",
     "text": [
      "10\n",
      "2\n",
      "2019\n"
     ]
    }
   ],
   "source": [
    "print(get_month(\"10/02/2019\"))\n",
    "print(get_day(\"10/02/2019\"))\n",
    "print(get_year(\"10/02/2019\"))"
   ]
  }
 ],
 "metadata": {
  "kernelspec": {
   "display_name": "Python 3 (ipykernel)",
   "language": "python",
   "name": "python3"
  },
  "language_info": {
   "codemirror_mode": {
    "name": "ipython",
    "version": 3
   },
   "file_extension": ".py",
   "mimetype": "text/x-python",
   "name": "python",
   "nbconvert_exporter": "python",
   "pygments_lexer": "ipython3",
   "version": "3.9.13"
  }
 },
 "nbformat": 4,
 "nbformat_minor": 5
}
